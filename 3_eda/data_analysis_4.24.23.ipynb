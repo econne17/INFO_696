{
 "cells": [
  {
   "attachments": {},
   "cell_type": "markdown",
   "metadata": {},
   "source": [
    "Data Exploration IPEDS: Trends in Staffing \n",
    "Case Study: Yale\n",
    "\n",
    "Institutional Characteristics, Student FTE, Staff FTE\n",
    "Fall 2002 - Spring 2022"
   ]
  },
  {
   "cell_type": "code",
   "execution_count": 177,
   "metadata": {},
   "outputs": [],
   "source": [
    "import pandas as pd\n",
    "import datetime as dt\n",
    "import numpy as np\n",
    "import matplotlib.pyplot as plt\n",
    "import seaborn as sns\n",
    "import math\n",
    "import plotly.graph_objects as go\n",
    "import plotly.express as px\n",
    "import plotly.io as pio\n",
    "import plotly.graph_objects as go\n",
    "from plotly.subplots import make_subplots\n",
    "\n"
   ]
  },
  {
   "attachments": {},
   "cell_type": "markdown",
   "metadata": {},
   "source": [
    "Uploading master merged dataset."
   ]
  },
  {
   "cell_type": "code",
   "execution_count": 178,
   "metadata": {},
   "outputs": [
    {
     "name": "stdout",
     "output_type": "stream",
     "text": [
      "<class 'pandas.core.frame.DataFrame'>\n",
      "RangeIndex: 56196 entries, 0 to 56195\n",
      "Data columns (total 38 columns):\n",
      " #   Column                                     Non-Null Count  Dtype  \n",
      "---  ------                                     --------------  -----  \n",
      " 0   unitid                                     56196 non-null  int64  \n",
      " 1   instnm                                     56196 non-null  object \n",
      " 2   addr                                       55961 non-null  object \n",
      " 3   city                                       56196 non-null  object \n",
      " 4   stabbr                                     56196 non-null  object \n",
      " 5   zip                                        56196 non-null  object \n",
      " 6   obereg                                     56196 non-null  object \n",
      " 7   sector                                     56196 non-null  object \n",
      " 8   iclevel                                    56196 non-null  object \n",
      " 9   control                                    56196 non-null  object \n",
      " 10  deggrant                                   56196 non-null  object \n",
      " 11  carnegie                                   56196 non-null  object \n",
      " 12  pset4flg                                   56196 non-null  object \n",
      " 13  medical                                    56196 non-null  object \n",
      " 14  hospital                                   56196 non-null  object \n",
      " 15  openpubl                                   56196 non-null  object \n",
      " 16  year                                       56196 non-null  object \n",
      " 17  academic year                              56196 non-null  object \n",
      " 18  carnegie_grouped                           56196 non-null  object \n",
      " 19  unitid_year                                56196 non-null  object \n",
      " 20  student fte                                56196 non-null  int64  \n",
      " 21  institution size                           56196 non-null  object \n",
      " 22  total staff                                56196 non-null  float64\n",
      " 23  total staff ft                             56196 non-null  float64\n",
      " 24  total staff pt                             56196 non-null  float64\n",
      " 25  total staff fte                            56196 non-null  float64\n",
      " 26  total instruction staff                    56196 non-null  float64\n",
      " 27  total instruction ft                       56196 non-null  float64\n",
      " 28  total instruction pt                       56196 non-null  float64\n",
      " 29  total instruction staff fte                56196 non-null  float64\n",
      " 30  total non instruction                      56196 non-null  float64\n",
      " 31  total non instruction ft                   56196 non-null  float64\n",
      " 32  total non instruction pt                   56196 non-null  float64\n",
      " 33  total non instruction staff fte            56196 non-null  float64\n",
      " 34  student fte per staff fte                  56196 non-null  float64\n",
      " 35  student fte per instruction staff fte      56196 non-null  float64\n",
      " 36  student fte per non instruction staff fte  56196 non-null  float64\n",
      " 37  ivy league                                 56196 non-null  object \n",
      "dtypes: float64(15), int64(2), object(21)\n",
      "memory usage: 16.3+ MB\n"
     ]
    }
   ],
   "source": [
    "df = pd.read_csv(\"ic_student_staff_master.csv\",low_memory=False,encoding = \"ISO-8859-1\")\n",
    "df['year'] = pd.to_datetime(df.year,format='%Y')\n",
    "df['year'] = df['year'].dt.strftime('%Y')\n",
    "df.info()\n"
   ]
  },
  {
   "attachments": {},
   "cell_type": "markdown",
   "metadata": {},
   "source": [
    "Setting up comparison frames"
   ]
  },
  {
   "cell_type": "code",
   "execution_count": 179,
   "metadata": {},
   "outputs": [
    {
     "name": "stdout",
     "output_type": "stream",
     "text": [
      "['Doctoral or Research Universities' 'Masters Colleges and Universities'\n",
      " 'Associates Colleges' 'Baccalaureate Colleges and Universities'\n",
      " 'Specialized Institutions']\n"
     ]
    }
   ],
   "source": [
    "print(df['carnegie_grouped'].unique())"
   ]
  },
  {
   "attachments": {},
   "cell_type": "markdown",
   "metadata": {},
   "source": [
    "Create dataframes for comparison:\n",
    "1. Yale\n",
    "2. Ivy \n",
    "3. Peers  "
   ]
  },
  {
   "cell_type": "code",
   "execution_count": 180,
   "metadata": {},
   "outputs": [
    {
     "name": "stdout",
     "output_type": "stream",
     "text": [
      "<class 'pandas.core.frame.DataFrame'>\n",
      "RangeIndex: 20 entries, 0 to 19\n",
      "Data columns (total 38 columns):\n",
      " #   Column                                     Non-Null Count  Dtype  \n",
      "---  ------                                     --------------  -----  \n",
      " 0   unitid                                     20 non-null     int64  \n",
      " 1   instnm                                     20 non-null     object \n",
      " 2   addr                                       17 non-null     object \n",
      " 3   city                                       20 non-null     object \n",
      " 4   stabbr                                     20 non-null     object \n",
      " 5   zip                                        20 non-null     object \n",
      " 6   obereg                                     20 non-null     object \n",
      " 7   sector                                     20 non-null     object \n",
      " 8   iclevel                                    20 non-null     object \n",
      " 9   control                                    20 non-null     object \n",
      " 10  deggrant                                   20 non-null     object \n",
      " 11  carnegie                                   20 non-null     object \n",
      " 12  pset4flg                                   20 non-null     object \n",
      " 13  medical                                    20 non-null     object \n",
      " 14  hospital                                   20 non-null     object \n",
      " 15  openpubl                                   20 non-null     object \n",
      " 16  year                                       20 non-null     object \n",
      " 17  academic year                              20 non-null     object \n",
      " 18  carnegie_grouped                           20 non-null     object \n",
      " 19  unitid_year                                20 non-null     object \n",
      " 20  student fte                                20 non-null     int64  \n",
      " 21  institution size                           20 non-null     object \n",
      " 22  total staff                                20 non-null     float64\n",
      " 23  total staff ft                             20 non-null     float64\n",
      " 24  total staff pt                             20 non-null     float64\n",
      " 25  total staff fte                            20 non-null     float64\n",
      " 26  total instruction staff                    20 non-null     float64\n",
      " 27  total instruction ft                       20 non-null     float64\n",
      " 28  total instruction pt                       20 non-null     float64\n",
      " 29  total instruction staff fte                20 non-null     float64\n",
      " 30  total non instruction                      20 non-null     float64\n",
      " 31  total non instruction ft                   20 non-null     float64\n",
      " 32  total non instruction pt                   20 non-null     float64\n",
      " 33  total non instruction staff fte            20 non-null     float64\n",
      " 34  student fte per staff fte                  20 non-null     float64\n",
      " 35  student fte per instruction staff fte      20 non-null     float64\n",
      " 36  student fte per non instruction staff fte  20 non-null     float64\n",
      " 37  ivy league                                 20 non-null     object \n",
      "dtypes: float64(15), int64(2), object(21)\n",
      "memory usage: 6.1+ KB\n"
     ]
    }
   ],
   "source": [
    "yale = df[df['unitid']==130794]\n",
    "yale = yale.reset_index(drop=True)\n",
    "yale.info()"
   ]
  },
  {
   "cell_type": "code",
   "execution_count": 181,
   "metadata": {},
   "outputs": [
    {
     "name": "stdout",
     "output_type": "stream",
     "text": [
      "<class 'pandas.core.frame.DataFrame'>\n",
      "RangeIndex: 160 entries, 0 to 159\n",
      "Data columns (total 38 columns):\n",
      " #   Column                                     Non-Null Count  Dtype  \n",
      "---  ------                                     --------------  -----  \n",
      " 0   unitid                                     160 non-null    int64  \n",
      " 1   instnm                                     160 non-null    object \n",
      " 2   addr                                       148 non-null    object \n",
      " 3   city                                       160 non-null    object \n",
      " 4   stabbr                                     160 non-null    object \n",
      " 5   zip                                        160 non-null    object \n",
      " 6   obereg                                     160 non-null    object \n",
      " 7   sector                                     160 non-null    object \n",
      " 8   iclevel                                    160 non-null    object \n",
      " 9   control                                    160 non-null    object \n",
      " 10  deggrant                                   160 non-null    object \n",
      " 11  carnegie                                   160 non-null    object \n",
      " 12  pset4flg                                   160 non-null    object \n",
      " 13  medical                                    160 non-null    object \n",
      " 14  hospital                                   160 non-null    object \n",
      " 15  openpubl                                   160 non-null    object \n",
      " 16  year                                       160 non-null    object \n",
      " 17  academic year                              160 non-null    object \n",
      " 18  carnegie_grouped                           160 non-null    object \n",
      " 19  unitid_year                                160 non-null    object \n",
      " 20  student fte                                160 non-null    int64  \n",
      " 21  institution size                           160 non-null    object \n",
      " 22  total staff                                160 non-null    float64\n",
      " 23  total staff ft                             160 non-null    float64\n",
      " 24  total staff pt                             160 non-null    float64\n",
      " 25  total staff fte                            160 non-null    float64\n",
      " 26  total instruction staff                    160 non-null    float64\n",
      " 27  total instruction ft                       160 non-null    float64\n",
      " 28  total instruction pt                       160 non-null    float64\n",
      " 29  total instruction staff fte                160 non-null    float64\n",
      " 30  total non instruction                      160 non-null    float64\n",
      " 31  total non instruction ft                   160 non-null    float64\n",
      " 32  total non instruction pt                   160 non-null    float64\n",
      " 33  total non instruction staff fte            160 non-null    float64\n",
      " 34  student fte per staff fte                  160 non-null    float64\n",
      " 35  student fte per instruction staff fte      160 non-null    float64\n",
      " 36  student fte per non instruction staff fte  160 non-null    float64\n",
      " 37  ivy league                                 160 non-null    object \n",
      "dtypes: float64(15), int64(2), object(21)\n",
      "memory usage: 47.6+ KB\n"
     ]
    }
   ],
   "source": [
    "ivy = df[df['ivy league']=='ivy']\n",
    "ivy = ivy.reset_index(drop=True)\n",
    "ivy.info(2)"
   ]
  },
  {
   "cell_type": "code",
   "execution_count": 182,
   "metadata": {},
   "outputs": [
    {
     "data": {
      "text/html": [
       "<div>\n",
       "<style scoped>\n",
       "    .dataframe tbody tr th:only-of-type {\n",
       "        vertical-align: middle;\n",
       "    }\n",
       "\n",
       "    .dataframe tbody tr th {\n",
       "        vertical-align: top;\n",
       "    }\n",
       "\n",
       "    .dataframe thead th {\n",
       "        text-align: right;\n",
       "    }\n",
       "</style>\n",
       "<table border=\"1\" class=\"dataframe\">\n",
       "  <thead>\n",
       "    <tr style=\"text-align: right;\">\n",
       "      <th></th>\n",
       "      <th>unitid</th>\n",
       "      <th>instnm</th>\n",
       "      <th>addr</th>\n",
       "      <th>city</th>\n",
       "      <th>stabbr</th>\n",
       "      <th>zip</th>\n",
       "      <th>obereg</th>\n",
       "      <th>sector</th>\n",
       "      <th>iclevel</th>\n",
       "      <th>control</th>\n",
       "      <th>...</th>\n",
       "      <th>total instruction pt</th>\n",
       "      <th>total instruction staff fte</th>\n",
       "      <th>total non instruction</th>\n",
       "      <th>total non instruction ft</th>\n",
       "      <th>total non instruction pt</th>\n",
       "      <th>total non instruction staff fte</th>\n",
       "      <th>student fte per staff fte</th>\n",
       "      <th>student fte per instruction staff fte</th>\n",
       "      <th>student fte per non instruction staff fte</th>\n",
       "      <th>ivy league</th>\n",
       "    </tr>\n",
       "  </thead>\n",
       "  <tbody>\n",
       "    <tr>\n",
       "      <th>0</th>\n",
       "      <td>100654</td>\n",
       "      <td>Alabama A &amp; M University</td>\n",
       "      <td>4107 MERIDIAN ST</td>\n",
       "      <td>NORMAL</td>\n",
       "      <td>AL</td>\n",
       "      <td>35762</td>\n",
       "      <td>Southeast</td>\n",
       "      <td>4-year public</td>\n",
       "      <td>Four or more years</td>\n",
       "      <td>Public</td>\n",
       "      <td>...</td>\n",
       "      <td>84.0</td>\n",
       "      <td>320.0</td>\n",
       "      <td>842.0</td>\n",
       "      <td>722.0</td>\n",
       "      <td>120.0</td>\n",
       "      <td>762.0</td>\n",
       "      <td>4.86</td>\n",
       "      <td>16.44</td>\n",
       "      <td>6.90</td>\n",
       "      <td>not an ivy</td>\n",
       "    </tr>\n",
       "    <tr>\n",
       "      <th>1</th>\n",
       "      <td>100663</td>\n",
       "      <td>University Of Alabama At Birmingham</td>\n",
       "      <td>ADMINISTRATION BLDG SUITE 1070</td>\n",
       "      <td>BIRMINGHAM</td>\n",
       "      <td>AL</td>\n",
       "      <td>35294-0110</td>\n",
       "      <td>Southeast</td>\n",
       "      <td>4-year public</td>\n",
       "      <td>Four or more years</td>\n",
       "      <td>Public</td>\n",
       "      <td>...</td>\n",
       "      <td>84.0</td>\n",
       "      <td>959.0</td>\n",
       "      <td>3666.0</td>\n",
       "      <td>2790.0</td>\n",
       "      <td>876.0</td>\n",
       "      <td>3082.0</td>\n",
       "      <td>3.06</td>\n",
       "      <td>12.88</td>\n",
       "      <td>4.01</td>\n",
       "      <td>not an ivy</td>\n",
       "    </tr>\n",
       "  </tbody>\n",
       "</table>\n",
       "<p>2 rows × 38 columns</p>\n",
       "</div>"
      ],
      "text/plain": [
       "   unitid                               instnm  \\\n",
       "0  100654             Alabama A & M University   \n",
       "1  100663  University Of Alabama At Birmingham   \n",
       "\n",
       "                             addr        city stabbr         zip     obereg  \\\n",
       "0                4107 MERIDIAN ST      NORMAL     AL       35762  Southeast   \n",
       "1  ADMINISTRATION BLDG SUITE 1070  BIRMINGHAM     AL  35294-0110  Southeast   \n",
       "\n",
       "          sector             iclevel control  ... total instruction pt  \\\n",
       "0  4-year public  Four or more years  Public  ...                 84.0   \n",
       "1  4-year public  Four or more years  Public  ...                 84.0   \n",
       "\n",
       "  total instruction staff fte total non instruction total non instruction ft  \\\n",
       "0                       320.0                 842.0                    722.0   \n",
       "1                       959.0                3666.0                   2790.0   \n",
       "\n",
       "  total non instruction pt total non instruction staff fte  \\\n",
       "0                    120.0                           762.0   \n",
       "1                    876.0                          3082.0   \n",
       "\n",
       "  student fte per staff fte student fte per instruction staff fte  \\\n",
       "0                      4.86                                 16.44   \n",
       "1                      3.06                                 12.88   \n",
       "\n",
       "  student fte per non instruction staff fte  ivy league  \n",
       "0                                      6.90  not an ivy  \n",
       "1                                      4.01  not an ivy  \n",
       "\n",
       "[2 rows x 38 columns]"
      ]
     },
     "execution_count": 182,
     "metadata": {},
     "output_type": "execute_result"
    }
   ],
   "source": [
    "phd = df[df['carnegie_grouped']=='Doctoral or Research Universities']\n",
    "phd = phd.reset_index(drop=True)\n",
    "phd.info(2)"
   ]
  },
  {
   "cell_type": "code",
   "execution_count": 183,
   "metadata": {},
   "outputs": [
    {
     "data": {
      "text/html": [
       "<div>\n",
       "<style scoped>\n",
       "    .dataframe tbody tr th:only-of-type {\n",
       "        vertical-align: middle;\n",
       "    }\n",
       "\n",
       "    .dataframe tbody tr th {\n",
       "        vertical-align: top;\n",
       "    }\n",
       "\n",
       "    .dataframe thead th {\n",
       "        text-align: right;\n",
       "    }\n",
       "</style>\n",
       "<table border=\"1\" class=\"dataframe\">\n",
       "  <thead>\n",
       "    <tr style=\"text-align: right;\">\n",
       "      <th></th>\n",
       "      <th>unitid</th>\n",
       "      <th>instnm</th>\n",
       "      <th>addr</th>\n",
       "      <th>city</th>\n",
       "      <th>stabbr</th>\n",
       "      <th>zip</th>\n",
       "      <th>obereg</th>\n",
       "      <th>sector</th>\n",
       "      <th>iclevel</th>\n",
       "      <th>control</th>\n",
       "      <th>...</th>\n",
       "      <th>total instruction pt</th>\n",
       "      <th>total instruction staff fte</th>\n",
       "      <th>total non instruction</th>\n",
       "      <th>total non instruction ft</th>\n",
       "      <th>total non instruction pt</th>\n",
       "      <th>total non instruction staff fte</th>\n",
       "      <th>student fte per staff fte</th>\n",
       "      <th>student fte per instruction staff fte</th>\n",
       "      <th>student fte per non instruction staff fte</th>\n",
       "      <th>ivy league</th>\n",
       "    </tr>\n",
       "  </thead>\n",
       "  <tbody>\n",
       "    <tr>\n",
       "      <th>0</th>\n",
       "      <td>130794</td>\n",
       "      <td>Yale University</td>\n",
       "      <td>NaN</td>\n",
       "      <td>NEW HAVEN</td>\n",
       "      <td>CT</td>\n",
       "      <td>6520</td>\n",
       "      <td>New England</td>\n",
       "      <td>4-year private, not-for-profit</td>\n",
       "      <td>Four or more years</td>\n",
       "      <td>Private not-for-profit</td>\n",
       "      <td>...</td>\n",
       "      <td>238.0</td>\n",
       "      <td>1309.0</td>\n",
       "      <td>4560.0</td>\n",
       "      <td>4139.0</td>\n",
       "      <td>421.0</td>\n",
       "      <td>4279.0</td>\n",
       "      <td>2.02</td>\n",
       "      <td>8.60</td>\n",
       "      <td>2.63</td>\n",
       "      <td>ivy</td>\n",
       "    </tr>\n",
       "    <tr>\n",
       "      <th>1</th>\n",
       "      <td>130794</td>\n",
       "      <td>Yale University</td>\n",
       "      <td>NaN</td>\n",
       "      <td>NEW HAVEN</td>\n",
       "      <td>CT</td>\n",
       "      <td>6520</td>\n",
       "      <td>New England</td>\n",
       "      <td>4-year private, not-for-profit</td>\n",
       "      <td>Four or more years</td>\n",
       "      <td>Private not-for-profit</td>\n",
       "      <td>...</td>\n",
       "      <td>345.0</td>\n",
       "      <td>1422.0</td>\n",
       "      <td>5008.0</td>\n",
       "      <td>4249.0</td>\n",
       "      <td>759.0</td>\n",
       "      <td>4502.0</td>\n",
       "      <td>1.91</td>\n",
       "      <td>7.96</td>\n",
       "      <td>2.51</td>\n",
       "      <td>ivy</td>\n",
       "    </tr>\n",
       "  </tbody>\n",
       "</table>\n",
       "<p>2 rows × 38 columns</p>\n",
       "</div>"
      ],
      "text/plain": [
       "   unitid           instnm addr       city stabbr   zip       obereg  \\\n",
       "0  130794  Yale University  NaN  NEW HAVEN     CT  6520  New England   \n",
       "1  130794  Yale University  NaN  NEW HAVEN     CT  6520  New England   \n",
       "\n",
       "                           sector             iclevel                 control  \\\n",
       "0  4-year private, not-for-profit  Four or more years  Private not-for-profit   \n",
       "1  4-year private, not-for-profit  Four or more years  Private not-for-profit   \n",
       "\n",
       "   ... total instruction pt total instruction staff fte total non instruction  \\\n",
       "0  ...                238.0                      1309.0                4560.0   \n",
       "1  ...                345.0                      1422.0                5008.0   \n",
       "\n",
       "  total non instruction ft total non instruction pt  \\\n",
       "0                   4139.0                    421.0   \n",
       "1                   4249.0                    759.0   \n",
       "\n",
       "  total non instruction staff fte student fte per staff fte  \\\n",
       "0                          4279.0                      2.02   \n",
       "1                          4502.0                      1.91   \n",
       "\n",
       "  student fte per instruction staff fte  \\\n",
       "0                                  8.60   \n",
       "1                                  7.96   \n",
       "\n",
       "  student fte per non instruction staff fte ivy league  \n",
       "0                                      2.63        ivy  \n",
       "1                                      2.51        ivy  \n",
       "\n",
       "[2 rows x 38 columns]"
      ]
     },
     "execution_count": 183,
     "metadata": {},
     "output_type": "execute_result"
    }
   ],
   "source": [
    "yale.head(2)"
   ]
  },
  {
   "attachments": {},
   "cell_type": "markdown",
   "metadata": {},
   "source": [
    "Yale - Percentage Change - FTE\n",
    "1. Annual"
   ]
  },
  {
   "cell_type": "code",
   "execution_count": 184,
   "metadata": {},
   "outputs": [
    {
     "data": {
      "text/html": [
       "<div>\n",
       "<style scoped>\n",
       "    .dataframe tbody tr th:only-of-type {\n",
       "        vertical-align: middle;\n",
       "    }\n",
       "\n",
       "    .dataframe tbody tr th {\n",
       "        vertical-align: top;\n",
       "    }\n",
       "\n",
       "    .dataframe thead th {\n",
       "        text-align: right;\n",
       "    }\n",
       "</style>\n",
       "<table border=\"1\" class=\"dataframe\">\n",
       "  <thead>\n",
       "    <tr style=\"text-align: right;\">\n",
       "      <th></th>\n",
       "      <th>unitid</th>\n",
       "      <th>year</th>\n",
       "      <th>student fte</th>\n",
       "      <th>total staff fte</th>\n",
       "      <th>total instruction staff fte</th>\n",
       "      <th>total non instruction staff fte</th>\n",
       "      <th>student fte per staff fte</th>\n",
       "      <th>student fte per instruction staff fte</th>\n",
       "      <th>student fte per non instruction staff fte</th>\n",
       "    </tr>\n",
       "  </thead>\n",
       "  <tbody>\n",
       "    <tr>\n",
       "      <th>0</th>\n",
       "      <td>130794</td>\n",
       "      <td>2002</td>\n",
       "      <td>11261</td>\n",
       "      <td>5588.0</td>\n",
       "      <td>1309.0</td>\n",
       "      <td>4279.0</td>\n",
       "      <td>2.02</td>\n",
       "      <td>8.60</td>\n",
       "      <td>2.63</td>\n",
       "    </tr>\n",
       "    <tr>\n",
       "      <th>1</th>\n",
       "      <td>130794</td>\n",
       "      <td>2003</td>\n",
       "      <td>11315</td>\n",
       "      <td>5924.0</td>\n",
       "      <td>1422.0</td>\n",
       "      <td>4502.0</td>\n",
       "      <td>1.91</td>\n",
       "      <td>7.96</td>\n",
       "      <td>2.51</td>\n",
       "    </tr>\n",
       "  </tbody>\n",
       "</table>\n",
       "</div>"
      ],
      "text/plain": [
       "   unitid  year  student fte  total staff fte  total instruction staff fte  \\\n",
       "0  130794  2002        11261           5588.0                       1309.0   \n",
       "1  130794  2003        11315           5924.0                       1422.0   \n",
       "\n",
       "   total non instruction staff fte  student fte per staff fte  \\\n",
       "0                           4279.0                       2.02   \n",
       "1                           4502.0                       1.91   \n",
       "\n",
       "   student fte per instruction staff fte  \\\n",
       "0                                   8.60   \n",
       "1                                   7.96   \n",
       "\n",
       "   student fte per non instruction staff fte  \n",
       "0                                       2.63  \n",
       "1                                       2.51  "
      ]
     },
     "execution_count": 184,
     "metadata": {},
     "output_type": "execute_result"
    }
   ],
   "source": [
    "yale_pct_change = yale[['unitid','year','student fte','total staff fte','total instruction staff fte','total non instruction staff fte','student fte per staff fte','student fte per instruction staff fte','student fte per non instruction staff fte']]\n",
    "yale_pct_change = yale_pct_change.reset_index(drop=True)\n",
    "yale_pct_change.head(2)"
   ]
  },
  {
   "cell_type": "code",
   "execution_count": 185,
   "metadata": {},
   "outputs": [],
   "source": [
    "yale_pct_change['student fte pct change'] = yale_pct_change['student fte'].pct_change()\n",
    "yale_pct_change['student fte pct change'] = (yale_pct_change['student fte pct change']*100).round(2)\n",
    "yale_pct_change = yale_pct_change.reset_index(drop=True)\n",
    "\n",
    "yale_pct_change['staff fte pct change'] = yale_pct_change['total staff fte'].pct_change()\n",
    "yale_pct_change['staff fte pct change'] = (yale_pct_change['staff fte pct change']*100).round(2)\n",
    "yale_pct_change = yale_pct_change.reset_index(drop=True)\n",
    "\n",
    "yale_pct_change['instruction fte pct change'] = yale_pct_change['total instruction staff fte'].pct_change()\n",
    "yale_pct_change['instruction fte pct change'] = (yale_pct_change['instruction fte pct change']*100).round(2)\n",
    "yale_pct_change = yale_pct_change.reset_index(drop=True)\n",
    "\n",
    "yale_pct_change['non instruction fte pct change'] = yale_pct_change['total non instruction staff fte'].pct_change()\n",
    "yale_pct_change['non instruction fte pct change'] = (yale_pct_change['non instruction fte pct change']*100).round(2)\n",
    "yale_pct_change = yale_pct_change.reset_index(drop=True)\n",
    "\n",
    "yale_pct_change = yale_pct_change.fillna(0.00)"
   ]
  },
  {
   "attachments": {},
   "cell_type": "markdown",
   "metadata": {},
   "source": [
    "Yale - Percentage Change - FTE\n",
    "2. Cumulative"
   ]
  },
  {
   "cell_type": "code",
   "execution_count": 186,
   "metadata": {},
   "outputs": [],
   "source": [
    "yale_base_student = 11261\n",
    "base_date = '2002-01-01'\n",
    "\n",
    "def yale_pct_change_period_student(row):\n",
    "    if row['year'] != '2002-01-01':\n",
    "        return (((row['student fte']-yale_base_student)/yale_base_student)*100)\n",
    "    else:\n",
    "        return 0.0\n",
    "    \n",
    "yale_pct_change['student pct change cumulative'] = yale_pct_change.apply(lambda row: yale_pct_change_period_student(row), axis=1)\n",
    "yale_pct_change['student pct change cumulative'] = yale_pct_change['student pct change cumulative'].round(2)\n",
    "\n",
    "yale_pct_change = yale_pct_change.fillna(0.00)\n",
    "#print(yale_pct_change)"
   ]
  },
  {
   "cell_type": "code",
   "execution_count": 187,
   "metadata": {},
   "outputs": [],
   "source": [
    "yale_base_staff = 5588.0\n",
    "base_date = '2002-01-01'\n",
    "\n",
    "def yale_pct_change_period_staff(row):\n",
    "    if row['year'] != '2002-01-01':\n",
    "        return (((row['total staff fte']-yale_base_staff)/yale_base_staff)*100)\n",
    "    else:\n",
    "        return 0.0\n",
    "    \n",
    "yale_pct_change['staff pct change cumulative'] = yale_pct_change.apply(lambda row: yale_pct_change_period_staff(row), axis=1)\n",
    "yale_pct_change['staff pct change cumulative'] = yale_pct_change['staff pct change cumulative'].round(2)\n",
    "\n",
    "yale_pct_change = yale_pct_change.fillna(0.00)\n",
    "#print(yale_pct_change)"
   ]
  },
  {
   "cell_type": "code",
   "execution_count": 188,
   "metadata": {},
   "outputs": [],
   "source": [
    "yale_base_instruction = 1309.0\n",
    "base_date = '2002-01-01'\n",
    "\n",
    "def yale_pct_change_period_instruction(row):\n",
    "    if row['year'] != '2002-01-01':\n",
    "        return (((row['total instruction staff fte']-yale_base_instruction)/yale_base_instruction)*100)\n",
    "    else:\n",
    "        return 0.0\n",
    "    \n",
    "yale_pct_change['instruction pct change cumulative'] = yale_pct_change.apply(lambda row: yale_pct_change_period_instruction(row), axis=1)\n",
    "yale_pct_change['instruction pct change cumulative'] = yale_pct_change['instruction pct change cumulative'].round(2)\n",
    "\n",
    "yale_pct_change = yale_pct_change.fillna(0.00)"
   ]
  },
  {
   "cell_type": "code",
   "execution_count": 189,
   "metadata": {},
   "outputs": [
    {
     "name": "stdout",
     "output_type": "stream",
     "text": [
      "<class 'pandas.core.frame.DataFrame'>\n",
      "RangeIndex: 20 entries, 0 to 19\n",
      "Data columns (total 17 columns):\n",
      " #   Column                                     Non-Null Count  Dtype  \n",
      "---  ------                                     --------------  -----  \n",
      " 0   unitid                                     20 non-null     int64  \n",
      " 1   year                                       20 non-null     object \n",
      " 2   student fte                                20 non-null     int64  \n",
      " 3   total staff fte                            20 non-null     float64\n",
      " 4   total instruction staff fte                20 non-null     float64\n",
      " 5   total non instruction staff fte            20 non-null     float64\n",
      " 6   student fte per staff fte                  20 non-null     float64\n",
      " 7   student fte per instruction staff fte      20 non-null     float64\n",
      " 8   student fte per non instruction staff fte  20 non-null     float64\n",
      " 9   student fte pct change                     20 non-null     float64\n",
      " 10  staff fte pct change                       20 non-null     float64\n",
      " 11  instruction fte pct change                 20 non-null     float64\n",
      " 12  non instruction fte pct change             20 non-null     float64\n",
      " 13  student pct change cumulative              20 non-null     float64\n",
      " 14  staff pct change cumulative                20 non-null     float64\n",
      " 15  instruction pct change cumulative          20 non-null     float64\n",
      " 16  non instruction pct change cumulative      20 non-null     float64\n",
      "dtypes: float64(14), int64(2), object(1)\n",
      "memory usage: 2.8+ KB\n"
     ]
    }
   ],
   "source": [
    "yale_base_non_instruction = 4279.0\n",
    "base_date = '2002-01-01'\n",
    "\n",
    "def yale_pct_change_period_non_instruction(row):\n",
    "    if row['year'] != '2002-01-01':\n",
    "        return (((row['total non instruction staff fte']-yale_base_non_instruction)/yale_base_non_instruction)*100)\n",
    "    else:\n",
    "        return 0.0\n",
    "    \n",
    "yale_pct_change['non instruction pct change cumulative'] = yale_pct_change.apply(lambda row: yale_pct_change_period_non_instruction(row), axis=1)\n",
    "yale_pct_change['non instruction pct change cumulative'] = yale_pct_change['non instruction pct change cumulative'].round(2)\n",
    "\n",
    "yale_pct_change = yale_pct_change.fillna(0.00)\n",
    "\n",
    "yale_pct_change.info()"
   ]
  },
  {
   "attachments": {},
   "cell_type": "markdown",
   "metadata": {},
   "source": [
    "Yale - Percentage Change - Ratio \n",
    "1. Annual"
   ]
  },
  {
   "cell_type": "code",
   "execution_count": null,
   "metadata": {},
   "outputs": [],
   "source": []
  },
  {
   "cell_type": "code",
   "execution_count": 190,
   "metadata": {},
   "outputs": [],
   "source": [
    "yale_pct_change['student staff ratio pct change'] = yale_pct_change['student fte per staff fte'].pct_change()\n",
    "yale_pct_change['student staff ratio pct change'] = (yale_pct_change['student staff ratio pct change']*100).round(2)\n",
    "\n",
    "yale_pct_change['student instruction staff ratio pct change'] = yale_pct_change['student fte per instruction staff fte'].pct_change()\n",
    "yale_pct_change['student instruction staff ratio pct change'] = (yale_pct_change['student instruction staff ratio pct change']*100).round(2)\n",
    "\n",
    "yale_pct_change['student non instruction staff ratio pct change'] = yale_pct_change['student fte per non instruction staff fte'].pct_change()\n",
    "yale_pct_change['student non instruction staff ratio pct change'] = (yale_pct_change['student non instruction staff ratio pct change']*100).round(2)\n",
    "\n",
    "yale_pct_change = yale_pct_change.fillna(0.00)"
   ]
  },
  {
   "attachments": {},
   "cell_type": "markdown",
   "metadata": {},
   "source": [
    "Yale - Percentage Change - Ratio \n",
    "1. Cumulative"
   ]
  },
  {
   "cell_type": "code",
   "execution_count": 191,
   "metadata": {},
   "outputs": [],
   "source": [
    "yale_base_staff_ratio = 2.02\n",
    "base_date = '2002-01-01'\n",
    "\n",
    "def yale_pct_change_period_staff_ratio(row):\n",
    "    if row['year'] != '2002-01-01':\n",
    "        return (((row['student fte per staff fte']-yale_base_staff_ratio)/yale_base_staff_ratio)*100)\n",
    "    else:\n",
    "        return 0.0\n",
    "    \n",
    "yale_pct_change['student staff ratio pct change cumulative'] = yale_pct_change.apply(lambda row: yale_pct_change_period_staff_ratio(row), axis=1)\n",
    "yale_pct_change['student staff ratio pct change cumulative'] = yale_pct_change['student staff ratio pct change cumulative'].round(2)\n"
   ]
  },
  {
   "cell_type": "code",
   "execution_count": 192,
   "metadata": {},
   "outputs": [],
   "source": [
    "yale_base_instruction_staff_ratio = 8.60\n",
    "base_date = '2002-01-01'\n",
    "\n",
    "def yale_pct_change_period_instruction_staff_ratio(row):\n",
    "    if row['year'] != '2002-01-01':\n",
    "        return (((row['student fte per instruction staff fte']-yale_base_instruction_staff_ratio)/yale_base_instruction_staff_ratio)*100)\n",
    "    else:\n",
    "        return 0.0\n",
    "    \n",
    "yale_pct_change['student instruction staff ratio pct change cumulative'] = yale_pct_change.apply(lambda row: yale_pct_change_period_instruction_staff_ratio(row), axis=1)\n",
    "yale_pct_change['student instruction staff ratio pct change cumulative'] = yale_pct_change['student instruction staff ratio pct change cumulative'].round(2)"
   ]
  },
  {
   "cell_type": "code",
   "execution_count": 193,
   "metadata": {},
   "outputs": [],
   "source": [
    "yale_base_non_instruction_staff_ratio = 2.63\n",
    "base_date = '2002-01-01'\n",
    "\n",
    "def yale_pct_change_period_non_instruction_staff_ratio(row):\n",
    "    if row['year'] != '2002-01-01':\n",
    "        return (((row['student fte per non instruction staff fte']-yale_base_non_instruction_staff_ratio)/yale_base_non_instruction_staff_ratio)*100)\n",
    "    else:\n",
    "        return 0.0\n",
    "    \n",
    "yale_pct_change['student non instruction staff ratio pct change cumulative'] = yale_pct_change.apply(lambda row: yale_pct_change_period_non_instruction_staff_ratio(row), axis=1)\n",
    "yale_pct_change['student non instruction staff ratio pct change cumulative'] = yale_pct_change['student non instruction staff ratio pct change cumulative'].round(2)"
   ]
  },
  {
   "cell_type": "code",
   "execution_count": 194,
   "metadata": {},
   "outputs": [
    {
     "name": "stdout",
     "output_type": "stream",
     "text": [
      "<class 'pandas.core.frame.DataFrame'>\n",
      "RangeIndex: 20 entries, 0 to 19\n",
      "Data columns (total 23 columns):\n",
      " #   Column                                                     Non-Null Count  Dtype  \n",
      "---  ------                                                     --------------  -----  \n",
      " 0   unitid                                                     20 non-null     int64  \n",
      " 1   year                                                       20 non-null     object \n",
      " 2   student fte                                                20 non-null     int64  \n",
      " 3   total staff fte                                            20 non-null     float64\n",
      " 4   total instruction staff fte                                20 non-null     float64\n",
      " 5   total non instruction staff fte                            20 non-null     float64\n",
      " 6   student fte per staff fte                                  20 non-null     float64\n",
      " 7   student fte per instruction staff fte                      20 non-null     float64\n",
      " 8   student fte per non instruction staff fte                  20 non-null     float64\n",
      " 9   student fte pct change                                     20 non-null     float64\n",
      " 10  staff fte pct change                                       20 non-null     float64\n",
      " 11  instruction fte pct change                                 20 non-null     float64\n",
      " 12  non instruction fte pct change                             20 non-null     float64\n",
      " 13  student pct change cumulative                              20 non-null     float64\n",
      " 14  staff pct change cumulative                                20 non-null     float64\n",
      " 15  instruction pct change cumulative                          20 non-null     float64\n",
      " 16  non instruction pct change cumulative                      20 non-null     float64\n",
      " 17  student staff ratio pct change                             20 non-null     float64\n",
      " 18  student instruction staff ratio pct change                 20 non-null     float64\n",
      " 19  student non instruction staff ratio pct change             20 non-null     float64\n",
      " 20  student staff ratio pct change cumulative                  20 non-null     float64\n",
      " 21  student instruction staff ratio pct change cumulative      20 non-null     float64\n",
      " 22  student non instruction staff ratio pct change cumulative  20 non-null     float64\n",
      "dtypes: float64(20), int64(2), object(1)\n",
      "memory usage: 3.7+ KB\n"
     ]
    }
   ],
   "source": [
    "yale_pct_change.info()"
   ]
  },
  {
   "attachments": {},
   "cell_type": "markdown",
   "metadata": {},
   "source": [
    "Yale - Restacking datasets - by type\n",
    "1. FTE Total, FTE Percentage Chanage - Annual, FTE Percentage Chanage - Cumulative\n",
    "2. Ratio Total, Ratio Percentage Chanage - Annual, Ratio Percentage Chanage - Cumulative"
   ]
  },
  {
   "cell_type": "code",
   "execution_count": 195,
   "metadata": {},
   "outputs": [
    {
     "data": {
      "text/html": [
       "<div>\n",
       "<style scoped>\n",
       "    .dataframe tbody tr th:only-of-type {\n",
       "        vertical-align: middle;\n",
       "    }\n",
       "\n",
       "    .dataframe tbody tr th {\n",
       "        vertical-align: top;\n",
       "    }\n",
       "\n",
       "    .dataframe thead th {\n",
       "        text-align: right;\n",
       "    }\n",
       "</style>\n",
       "<table border=\"1\" class=\"dataframe\">\n",
       "  <thead>\n",
       "    <tr style=\"text-align: right;\">\n",
       "      <th></th>\n",
       "      <th>unitid</th>\n",
       "      <th>year</th>\n",
       "      <th>fte</th>\n",
       "      <th>fte pct change</th>\n",
       "      <th>fte pct change cumulative</th>\n",
       "      <th>type</th>\n",
       "    </tr>\n",
       "  </thead>\n",
       "  <tbody>\n",
       "    <tr>\n",
       "      <th>0</th>\n",
       "      <td>130794</td>\n",
       "      <td>2002</td>\n",
       "      <td>11261.0</td>\n",
       "      <td>0.00</td>\n",
       "      <td>0.00</td>\n",
       "      <td>student</td>\n",
       "    </tr>\n",
       "    <tr>\n",
       "      <th>1</th>\n",
       "      <td>130794</td>\n",
       "      <td>2003</td>\n",
       "      <td>11315.0</td>\n",
       "      <td>0.48</td>\n",
       "      <td>0.48</td>\n",
       "      <td>student</td>\n",
       "    </tr>\n",
       "  </tbody>\n",
       "</table>\n",
       "</div>"
      ],
      "text/plain": [
       "   unitid  year      fte  fte pct change  fte pct change cumulative     type\n",
       "0  130794  2002  11261.0            0.00                       0.00  student\n",
       "1  130794  2003  11315.0            0.48                       0.48  student"
      ]
     },
     "execution_count": 195,
     "metadata": {},
     "output_type": "execute_result"
    }
   ],
   "source": [
    "cols_fte = ['unitid','year','fte','fte pct change','fte pct change cumulative','type']\n",
    "\n",
    "yale_fte_pct_change_total_student = yale_pct_change[['unitid','year','student fte','student fte pct change','student pct change cumulative']]\n",
    "yale_fte_pct_change_total_student = yale_fte_pct_change_total_student.reset_index(drop=True)\n",
    "yale_fte_pct_change_total_student[\"type\"] = \"student\"\n",
    "yale_fte_pct_change_total_student.columns = cols_fte\n",
    "yale_fte_pct_change_total_student = yale_fte_pct_change_total_student.reset_index(drop=True)\n",
    "#yale_pct_change_total_student.head(2)\n",
    "\n",
    "yale_fte_pct_change_total_staff = yale_pct_change[['unitid','year','total staff fte','staff fte pct change','staff pct change cumulative']]\n",
    "yale_fte_pct_change_total_staff = yale_fte_pct_change_total_staff.reset_index(drop=True)\n",
    "yale_fte_pct_change_total_staff[\"type\"] = \"all staff\"\n",
    "yale_fte_pct_change_total_staff.columns = cols_fte\n",
    "yale_fte_pct_change_total_staff = yale_fte_pct_change_total_staff.reset_index(drop=True)\n",
    "#yale_pct_change_total_staff.head(2)\n",
    "\n",
    "yale_fte_pct_change_total_instruction = yale_pct_change[['unitid','year','total instruction staff fte','instruction fte pct change','instruction pct change cumulative']]\n",
    "yale_fte_pct_change_total_instruction = yale_fte_pct_change_total_instruction.reset_index(drop=True)\n",
    "yale_fte_pct_change_total_instruction[\"type\"] = \"instructional staff\"\n",
    "yale_fte_pct_change_total_instruction.columns = cols_fte\n",
    "yale_fte_pct_change_total_instruction = yale_fte_pct_change_total_instruction.reset_index(drop=True)\n",
    "#yale_pct_change_total_non_instruction.head(2)\n",
    "\n",
    "yale_fte_pct_change_total_non_instruction = yale_pct_change[['unitid','year','total non instruction staff fte','non instruction fte pct change','non instruction pct change cumulative']]\n",
    "yale_fte_pct_change_total_non_instruction = yale_fte_pct_change_total_non_instruction.reset_index(drop=True)\n",
    "yale_fte_pct_change_total_non_instruction[\"type\"] = \"non instructional staff\"\n",
    "yale_fte_pct_change_total_non_instruction.columns = cols_fte\n",
    "yale_fte_pct_change_total_non_instruction = yale_fte_pct_change_total_non_instruction.reset_index(drop=True)\n",
    "#yale_pct_change_total_non_instruction.head(2)\n",
    "\n",
    "yale_fte_pct_change_by_type = pd.concat([yale_fte_pct_change_total_student,yale_fte_pct_change_total_staff,yale_fte_pct_change_total_instruction,yale_fte_pct_change_total_non_instruction],ignore_index=False)\n",
    "yale_fte_pct_change_by_type=yale_fte_pct_change_by_type.reset_index(drop=True)\n",
    "\n",
    "yale_fte_pct_change_by_type.head(2)"
   ]
  },
  {
   "cell_type": "code",
   "execution_count": 196,
   "metadata": {},
   "outputs": [
    {
     "data": {
      "text/html": [
       "<div>\n",
       "<style scoped>\n",
       "    .dataframe tbody tr th:only-of-type {\n",
       "        vertical-align: middle;\n",
       "    }\n",
       "\n",
       "    .dataframe tbody tr th {\n",
       "        vertical-align: top;\n",
       "    }\n",
       "\n",
       "    .dataframe thead th {\n",
       "        text-align: right;\n",
       "    }\n",
       "</style>\n",
       "<table border=\"1\" class=\"dataframe\">\n",
       "  <thead>\n",
       "    <tr style=\"text-align: right;\">\n",
       "      <th></th>\n",
       "      <th>unitid</th>\n",
       "      <th>year</th>\n",
       "      <th>student fte per staff fte</th>\n",
       "      <th>ratio pct change</th>\n",
       "      <th>ratio pct change cumulative</th>\n",
       "      <th>type</th>\n",
       "    </tr>\n",
       "  </thead>\n",
       "  <tbody>\n",
       "    <tr>\n",
       "      <th>0</th>\n",
       "      <td>130794</td>\n",
       "      <td>2002</td>\n",
       "      <td>2.02</td>\n",
       "      <td>0.00</td>\n",
       "      <td>0.00</td>\n",
       "      <td>all staff</td>\n",
       "    </tr>\n",
       "    <tr>\n",
       "      <th>1</th>\n",
       "      <td>130794</td>\n",
       "      <td>2003</td>\n",
       "      <td>1.91</td>\n",
       "      <td>-5.45</td>\n",
       "      <td>-5.45</td>\n",
       "      <td>all staff</td>\n",
       "    </tr>\n",
       "  </tbody>\n",
       "</table>\n",
       "</div>"
      ],
      "text/plain": [
       "   unitid  year  student fte per staff fte  ratio pct change  \\\n",
       "0  130794  2002                       2.02              0.00   \n",
       "1  130794  2003                       1.91             -5.45   \n",
       "\n",
       "   ratio pct change cumulative       type  \n",
       "0                         0.00  all staff  \n",
       "1                        -5.45  all staff  "
      ]
     },
     "execution_count": 196,
     "metadata": {},
     "output_type": "execute_result"
    }
   ],
   "source": [
    "cols_ratio = ['unitid','year','student fte per staff fte','ratio pct change','ratio pct change cumulative','type']\n",
    "\n",
    "yale_ratio_pct_change_total_staff = yale_pct_change[['unitid','year','student fte per staff fte','student staff ratio pct change','student staff ratio pct change cumulative']]\n",
    "yale_ratio_pct_change_total_staff = yale_ratio_pct_change_total_staff.reset_index(drop=True)\n",
    "yale_ratio_pct_change_total_staff[\"type\"] = \"all staff\"\n",
    "yale_ratio_pct_change_total_staff.columns = cols_ratio\n",
    "yale_ratio_pct_change_total_staff = yale_ratio_pct_change_total_staff.reset_index(drop=True)\n",
    "#yale_pct_change_total_staff.head(2)\n",
    "\n",
    "yale_ratio_pct_change_total_instruction = yale_pct_change[['unitid','year','student fte per instruction staff fte','student instruction staff ratio pct change','student instruction staff ratio pct change cumulative']]\n",
    "yale_ratio_pct_change_total_instruction = yale_ratio_pct_change_total_instruction.reset_index(drop=True)\n",
    "yale_ratio_pct_change_total_instruction[\"type\"] = \"instructional staff\"\n",
    "yale_ratio_pct_change_total_instruction.columns = cols_ratio\n",
    "yale_ratio_pct_change_total_instruction = yale_ratio_pct_change_total_instruction.reset_index(drop=True)\n",
    "#yale_pct_change_total_non_instruction.head(2)\n",
    "\n",
    "yale_ratio_pct_change_total_non_instruction = yale_pct_change[['unitid','year','student fte per non instruction staff fte','student non instruction staff ratio pct change','student non instruction staff ratio pct change cumulative']]\n",
    "yale_ratio_pct_change_total_non_instruction = yale_ratio_pct_change_total_non_instruction.reset_index(drop=True)\n",
    "yale_ratio_pct_change_total_non_instruction[\"type\"] = \"non instructional staff\"\n",
    "yale_ratio_pct_change_total_non_instruction.columns = cols_ratio\n",
    "yale_ratio_pct_change_total_non_instruction = yale_ratio_pct_change_total_non_instruction.reset_index(drop=True)\n",
    "#yale_pct_change_total_non_instruction.head(2)\n",
    "\n",
    "yale_ratio_pct_change_by_type = pd.concat([yale_ratio_pct_change_total_staff,yale_ratio_pct_change_total_instruction,yale_ratio_pct_change_total_non_instruction],ignore_index=False)\n",
    "yale_ratio_pct_change_by_type=yale_ratio_pct_change_by_type.reset_index(drop=True)\n",
    "\n",
    "yale_ratio_pct_change_by_type.head(2)"
   ]
  },
  {
   "attachments": {},
   "cell_type": "markdown",
   "metadata": {},
   "source": [
    "Ivy - FTE - Percentage Change\n",
    "1. Annual"
   ]
  },
  {
   "cell_type": "code",
   "execution_count": 197,
   "metadata": {},
   "outputs": [
    {
     "data": {
      "text/html": [
       "<div>\n",
       "<style scoped>\n",
       "    .dataframe tbody tr th:only-of-type {\n",
       "        vertical-align: middle;\n",
       "    }\n",
       "\n",
       "    .dataframe tbody tr th {\n",
       "        vertical-align: top;\n",
       "    }\n",
       "\n",
       "    .dataframe thead th {\n",
       "        text-align: right;\n",
       "    }\n",
       "</style>\n",
       "<table border=\"1\" class=\"dataframe\">\n",
       "  <thead>\n",
       "    <tr style=\"text-align: right;\">\n",
       "      <th></th>\n",
       "      <th>year</th>\n",
       "      <th>student fte</th>\n",
       "      <th>total staff fte</th>\n",
       "      <th>total instruction staff fte</th>\n",
       "      <th>total non instruction staff fte</th>\n",
       "      <th>student fte per staff fte</th>\n",
       "      <th>student fte per instruction staff fte</th>\n",
       "      <th>student fte per non instruction staff fte</th>\n",
       "    </tr>\n",
       "  </thead>\n",
       "  <tbody>\n",
       "    <tr>\n",
       "      <th>0</th>\n",
       "      <td>2002</td>\n",
       "      <td>103915</td>\n",
       "      <td>49167.0</td>\n",
       "      <td>11127.0</td>\n",
       "      <td>38040.0</td>\n",
       "      <td>2.09</td>\n",
       "      <td>9.62</td>\n",
       "      <td>2.74</td>\n",
       "    </tr>\n",
       "    <tr>\n",
       "      <th>1</th>\n",
       "      <td>2003</td>\n",
       "      <td>112241</td>\n",
       "      <td>53538.0</td>\n",
       "      <td>12201.0</td>\n",
       "      <td>41336.0</td>\n",
       "      <td>2.09</td>\n",
       "      <td>9.25</td>\n",
       "      <td>2.71</td>\n",
       "    </tr>\n",
       "  </tbody>\n",
       "</table>\n",
       "</div>"
      ],
      "text/plain": [
       "   year  student fte  total staff fte  total instruction staff fte  \\\n",
       "0  2002       103915          49167.0                      11127.0   \n",
       "1  2003       112241          53538.0                      12201.0   \n",
       "\n",
       "   total non instruction staff fte  student fte per staff fte  \\\n",
       "0                          38040.0                       2.09   \n",
       "1                          41336.0                       2.09   \n",
       "\n",
       "   student fte per instruction staff fte  \\\n",
       "0                                   9.62   \n",
       "1                                   9.25   \n",
       "\n",
       "   student fte per non instruction staff fte  \n",
       "0                                       2.74  \n",
       "1                                       2.71  "
      ]
     },
     "execution_count": 197,
     "metadata": {},
     "output_type": "execute_result"
    }
   ],
   "source": [
    "ivy_pct_change = ivy.groupby(['year']).agg({'student fte':'sum','total staff fte':'sum','total instruction staff fte':'sum','total non instruction staff fte':'sum','student fte per staff fte':'mean','student fte per instruction staff fte':'mean','student fte per non instruction staff fte':'mean'})\n",
    "ivy_pct_change = ivy_pct_change.reset_index()\n",
    "ivy_pct_change.columns = ['year','student fte','total staff fte','total instruction staff fte','total non instruction staff fte','student fte per staff fte','student fte per instruction staff fte','student fte per non instruction staff fte']\n",
    "ivy_pct_change['student fte per staff fte'] = ivy_pct_change['student fte per staff fte'].round(2)\n",
    "ivy_pct_change['student fte per instruction staff fte'] = ivy_pct_change['student fte per instruction staff fte'].round(2)\n",
    "ivy_pct_change['student fte per non instruction staff fte'] = ivy_pct_change['student fte per non instruction staff fte'].round(2)\n",
    "\n",
    "ivy_pct_change.head(2)"
   ]
  },
  {
   "cell_type": "code",
   "execution_count": 198,
   "metadata": {},
   "outputs": [
    {
     "data": {
      "text/html": [
       "<div>\n",
       "<style scoped>\n",
       "    .dataframe tbody tr th:only-of-type {\n",
       "        vertical-align: middle;\n",
       "    }\n",
       "\n",
       "    .dataframe tbody tr th {\n",
       "        vertical-align: top;\n",
       "    }\n",
       "\n",
       "    .dataframe thead th {\n",
       "        text-align: right;\n",
       "    }\n",
       "</style>\n",
       "<table border=\"1\" class=\"dataframe\">\n",
       "  <thead>\n",
       "    <tr style=\"text-align: right;\">\n",
       "      <th></th>\n",
       "      <th>year</th>\n",
       "      <th>student fte</th>\n",
       "      <th>total staff fte</th>\n",
       "      <th>total instruction staff fte</th>\n",
       "      <th>total non instruction staff fte</th>\n",
       "      <th>student fte per staff fte</th>\n",
       "      <th>student fte per instruction staff fte</th>\n",
       "      <th>student fte per non instruction staff fte</th>\n",
       "      <th>student fte pct change</th>\n",
       "      <th>staff fte pct change</th>\n",
       "      <th>instruction fte pct change</th>\n",
       "      <th>non instruction fte pct change</th>\n",
       "    </tr>\n",
       "  </thead>\n",
       "  <tbody>\n",
       "    <tr>\n",
       "      <th>0</th>\n",
       "      <td>2002</td>\n",
       "      <td>103915</td>\n",
       "      <td>49167.0</td>\n",
       "      <td>11127.0</td>\n",
       "      <td>38040.0</td>\n",
       "      <td>2.09</td>\n",
       "      <td>9.62</td>\n",
       "      <td>2.74</td>\n",
       "      <td>0.00</td>\n",
       "      <td>0.00</td>\n",
       "      <td>0.00</td>\n",
       "      <td>0.00</td>\n",
       "    </tr>\n",
       "    <tr>\n",
       "      <th>1</th>\n",
       "      <td>2003</td>\n",
       "      <td>112241</td>\n",
       "      <td>53538.0</td>\n",
       "      <td>12201.0</td>\n",
       "      <td>41336.0</td>\n",
       "      <td>2.09</td>\n",
       "      <td>9.25</td>\n",
       "      <td>2.71</td>\n",
       "      <td>8.01</td>\n",
       "      <td>8.89</td>\n",
       "      <td>9.65</td>\n",
       "      <td>8.66</td>\n",
       "    </tr>\n",
       "  </tbody>\n",
       "</table>\n",
       "</div>"
      ],
      "text/plain": [
       "   year  student fte  total staff fte  total instruction staff fte  \\\n",
       "0  2002       103915          49167.0                      11127.0   \n",
       "1  2003       112241          53538.0                      12201.0   \n",
       "\n",
       "   total non instruction staff fte  student fte per staff fte  \\\n",
       "0                          38040.0                       2.09   \n",
       "1                          41336.0                       2.09   \n",
       "\n",
       "   student fte per instruction staff fte  \\\n",
       "0                                   9.62   \n",
       "1                                   9.25   \n",
       "\n",
       "   student fte per non instruction staff fte  student fte pct change  \\\n",
       "0                                       2.74                    0.00   \n",
       "1                                       2.71                    8.01   \n",
       "\n",
       "   staff fte pct change  instruction fte pct change  \\\n",
       "0                  0.00                        0.00   \n",
       "1                  8.89                        9.65   \n",
       "\n",
       "   non instruction fte pct change  \n",
       "0                            0.00  \n",
       "1                            8.66  "
      ]
     },
     "execution_count": 198,
     "metadata": {},
     "output_type": "execute_result"
    }
   ],
   "source": [
    "ivy_pct_change['student fte pct change'] = ivy_pct_change['student fte'].pct_change()\n",
    "ivy_pct_change['student fte pct change'] = (ivy_pct_change['student fte pct change']*100).round(2)\n",
    "ivy_pct_change = ivy_pct_change.reset_index(drop=True)\n",
    "\n",
    "ivy_pct_change['staff fte pct change'] = ivy_pct_change['total staff fte'].pct_change()\n",
    "ivy_pct_change['staff fte pct change'] = (ivy_pct_change['staff fte pct change']*100).round(2)\n",
    "ivy_pct_change = ivy_pct_change.reset_index(drop=True)\n",
    "\n",
    "ivy_pct_change['instruction fte pct change'] = ivy_pct_change['total instruction staff fte'].pct_change()\n",
    "ivy_pct_change['instruction fte pct change'] = (ivy_pct_change['instruction fte pct change']*100).round(2)\n",
    "ivy_pct_change = ivy_pct_change.reset_index(drop=True)\n",
    "\n",
    "ivy_pct_change['non instruction fte pct change'] = ivy_pct_change['total non instruction staff fte'].pct_change()\n",
    "ivy_pct_change['non instruction fte pct change'] = (ivy_pct_change['non instruction fte pct change']*100).round(2)\n",
    "ivy_pct_change = ivy_pct_change.reset_index(drop=True)\n",
    "\n",
    "ivy_pct_change = ivy_pct_change.fillna(0.00)\n",
    "ivy_pct_change.head(2)"
   ]
  },
  {
   "attachments": {},
   "cell_type": "markdown",
   "metadata": {},
   "source": [
    "Ivy - Percentage Change - FTE\n",
    "2. Cumulative"
   ]
  },
  {
   "cell_type": "code",
   "execution_count": 199,
   "metadata": {},
   "outputs": [],
   "source": [
    "ivy_base_student = 103916\n",
    "base_date = '2002-01-01'\n",
    "\n",
    "def ivy_pct_change_period_student(row):\n",
    "    if row['year'] != '2002-01-01':\n",
    "        return (((row['student fte']-ivy_base_student)/ivy_base_student)*100)\n",
    "    else:\n",
    "        return 0.0\n",
    "    \n",
    "ivy_pct_change['student pct change cumulative'] = ivy_pct_change.apply(lambda row: ivy_pct_change_period_student(row), axis=1)\n",
    "ivy_pct_change['student pct change cumulative'] = ivy_pct_change['student pct change cumulative'].round(2)\n",
    "\n",
    "ivy_pct_change = ivy_pct_change.fillna(0.00)\n",
    "#print(yale_pct_change)"
   ]
  },
  {
   "cell_type": "code",
   "execution_count": 200,
   "metadata": {},
   "outputs": [],
   "source": [
    "ivy_base_staff = 49167.0\n",
    "base_date = '2002-01-01'\n",
    "\n",
    "def ivy_pct_change_period_staff(row):\n",
    "    if row['year'] != '2002-01-01':\n",
    "        return (((row['total staff fte']-ivy_base_staff)/ivy_base_staff)*100)\n",
    "    else:\n",
    "        return 0.0\n",
    "    \n",
    "ivy_pct_change['staff pct change cumulative'] = ivy_pct_change.apply(lambda row: ivy_pct_change_period_staff(row), axis=1)\n",
    "ivy_pct_change['staff pct change cumulative'] = ivy_pct_change['staff pct change cumulative'].round(2)\n",
    "\n",
    "ivy_pct_change = ivy_pct_change.fillna(0.00)\n",
    "#print(yale_pct_change)"
   ]
  },
  {
   "cell_type": "code",
   "execution_count": 201,
   "metadata": {},
   "outputs": [],
   "source": [
    "ivy_base_instruction = 11127.0\n",
    "base_date = '2002-01-01'\n",
    "\n",
    "def yale_pct_change_period_instruction(row):\n",
    "    if row['year'] != '2002-01-01':\n",
    "        return (((row['total instruction staff fte']-ivy_base_instruction)/ivy_base_instruction)*100)\n",
    "    else:\n",
    "        return 0.0\n",
    "    \n",
    "ivy_pct_change['instruction pct change cumulative'] = ivy_pct_change.apply(lambda row: yale_pct_change_period_instruction(row), axis=1)\n",
    "ivy_pct_change['instruction pct change cumulative'] = ivy_pct_change['instruction pct change cumulative'].round(2)\n",
    "\n",
    "ivy_pct_change = ivy_pct_change.fillna(0.00)"
   ]
  },
  {
   "cell_type": "code",
   "execution_count": 202,
   "metadata": {},
   "outputs": [
    {
     "name": "stdout",
     "output_type": "stream",
     "text": [
      "<class 'pandas.core.frame.DataFrame'>\n",
      "RangeIndex: 20 entries, 0 to 19\n",
      "Data columns (total 16 columns):\n",
      " #   Column                                     Non-Null Count  Dtype  \n",
      "---  ------                                     --------------  -----  \n",
      " 0   year                                       20 non-null     object \n",
      " 1   student fte                                20 non-null     int64  \n",
      " 2   total staff fte                            20 non-null     float64\n",
      " 3   total instruction staff fte                20 non-null     float64\n",
      " 4   total non instruction staff fte            20 non-null     float64\n",
      " 5   student fte per staff fte                  20 non-null     float64\n",
      " 6   student fte per instruction staff fte      20 non-null     float64\n",
      " 7   student fte per non instruction staff fte  20 non-null     float64\n",
      " 8   student fte pct change                     20 non-null     float64\n",
      " 9   staff fte pct change                       20 non-null     float64\n",
      " 10  instruction fte pct change                 20 non-null     float64\n",
      " 11  non instruction fte pct change             20 non-null     float64\n",
      " 12  student pct change cumulative              20 non-null     float64\n",
      " 13  staff pct change cumulative                20 non-null     float64\n",
      " 14  instruction pct change cumulative          20 non-null     float64\n",
      " 15  non instruction pct change cumulative      20 non-null     float64\n",
      "dtypes: float64(14), int64(1), object(1)\n",
      "memory usage: 2.6+ KB\n"
     ]
    },
    {
     "data": {
      "text/html": [
       "<div>\n",
       "<style scoped>\n",
       "    .dataframe tbody tr th:only-of-type {\n",
       "        vertical-align: middle;\n",
       "    }\n",
       "\n",
       "    .dataframe tbody tr th {\n",
       "        vertical-align: top;\n",
       "    }\n",
       "\n",
       "    .dataframe thead th {\n",
       "        text-align: right;\n",
       "    }\n",
       "</style>\n",
       "<table border=\"1\" class=\"dataframe\">\n",
       "  <thead>\n",
       "    <tr style=\"text-align: right;\">\n",
       "      <th></th>\n",
       "      <th>year</th>\n",
       "      <th>student fte</th>\n",
       "      <th>total staff fte</th>\n",
       "      <th>total instruction staff fte</th>\n",
       "      <th>total non instruction staff fte</th>\n",
       "      <th>student fte per staff fte</th>\n",
       "      <th>student fte per instruction staff fte</th>\n",
       "      <th>student fte per non instruction staff fte</th>\n",
       "      <th>student fte pct change</th>\n",
       "      <th>staff fte pct change</th>\n",
       "      <th>instruction fte pct change</th>\n",
       "      <th>non instruction fte pct change</th>\n",
       "      <th>student pct change cumulative</th>\n",
       "      <th>staff pct change cumulative</th>\n",
       "      <th>instruction pct change cumulative</th>\n",
       "      <th>non instruction pct change cumulative</th>\n",
       "    </tr>\n",
       "  </thead>\n",
       "  <tbody>\n",
       "    <tr>\n",
       "      <th>0</th>\n",
       "      <td>2002</td>\n",
       "      <td>103915</td>\n",
       "      <td>49167.0</td>\n",
       "      <td>11127.0</td>\n",
       "      <td>38040.0</td>\n",
       "      <td>2.09</td>\n",
       "      <td>9.62</td>\n",
       "      <td>2.74</td>\n",
       "      <td>0.00</td>\n",
       "      <td>0.00</td>\n",
       "      <td>0.00</td>\n",
       "      <td>0.00</td>\n",
       "      <td>-0.00</td>\n",
       "      <td>0.00</td>\n",
       "      <td>0.00</td>\n",
       "      <td>0.00</td>\n",
       "    </tr>\n",
       "    <tr>\n",
       "      <th>1</th>\n",
       "      <td>2003</td>\n",
       "      <td>112241</td>\n",
       "      <td>53538.0</td>\n",
       "      <td>12201.0</td>\n",
       "      <td>41336.0</td>\n",
       "      <td>2.09</td>\n",
       "      <td>9.25</td>\n",
       "      <td>2.71</td>\n",
       "      <td>8.01</td>\n",
       "      <td>8.89</td>\n",
       "      <td>9.65</td>\n",
       "      <td>8.66</td>\n",
       "      <td>8.01</td>\n",
       "      <td>8.89</td>\n",
       "      <td>9.65</td>\n",
       "      <td>8.66</td>\n",
       "    </tr>\n",
       "  </tbody>\n",
       "</table>\n",
       "</div>"
      ],
      "text/plain": [
       "   year  student fte  total staff fte  total instruction staff fte  \\\n",
       "0  2002       103915          49167.0                      11127.0   \n",
       "1  2003       112241          53538.0                      12201.0   \n",
       "\n",
       "   total non instruction staff fte  student fte per staff fte  \\\n",
       "0                          38040.0                       2.09   \n",
       "1                          41336.0                       2.09   \n",
       "\n",
       "   student fte per instruction staff fte  \\\n",
       "0                                   9.62   \n",
       "1                                   9.25   \n",
       "\n",
       "   student fte per non instruction staff fte  student fte pct change  \\\n",
       "0                                       2.74                    0.00   \n",
       "1                                       2.71                    8.01   \n",
       "\n",
       "   staff fte pct change  instruction fte pct change  \\\n",
       "0                  0.00                        0.00   \n",
       "1                  8.89                        9.65   \n",
       "\n",
       "   non instruction fte pct change  student pct change cumulative  \\\n",
       "0                            0.00                          -0.00   \n",
       "1                            8.66                           8.01   \n",
       "\n",
       "   staff pct change cumulative  instruction pct change cumulative  \\\n",
       "0                         0.00                               0.00   \n",
       "1                         8.89                               9.65   \n",
       "\n",
       "   non instruction pct change cumulative  \n",
       "0                                   0.00  \n",
       "1                                   8.66  "
      ]
     },
     "execution_count": 202,
     "metadata": {},
     "output_type": "execute_result"
    }
   ],
   "source": [
    "ivy_base_non_instruction = 38040.0\n",
    "base_date = '2002-01-01'\n",
    "\n",
    "def ivy_pct_change_period_non_instruction(row):\n",
    "    if row['year'] != '2002-01-01':\n",
    "        return (((row['total non instruction staff fte']-ivy_base_non_instruction)/ivy_base_non_instruction)*100)\n",
    "    else:\n",
    "        return 0.0\n",
    "    \n",
    "ivy_pct_change['non instruction pct change cumulative'] = ivy_pct_change.apply(lambda row: ivy_pct_change_period_non_instruction(row), axis=1)\n",
    "ivy_pct_change['non instruction pct change cumulative'] = ivy_pct_change['non instruction pct change cumulative'].round(2)\n",
    "\n",
    "ivy_pct_change = ivy_pct_change.fillna(0.00)\n",
    "\n",
    "ivy_pct_change.info()\n",
    "ivy_pct_change.head(2)"
   ]
  },
  {
   "attachments": {},
   "cell_type": "markdown",
   "metadata": {},
   "source": [
    "Ivy - Percentage Change - Ratio \n",
    "1. Annual"
   ]
  },
  {
   "cell_type": "code",
   "execution_count": 203,
   "metadata": {},
   "outputs": [],
   "source": [
    "ivy_pct_change['student staff ratio pct change'] = ivy_pct_change['student fte per staff fte'].pct_change()\n",
    "ivy_pct_change['student staff ratio pct change'] = (ivy_pct_change['student staff ratio pct change']*100).round(2)\n",
    "\n",
    "ivy_pct_change['student instruction staff ratio pct change'] = ivy_pct_change['student fte per instruction staff fte'].pct_change()\n",
    "ivy_pct_change['student instruction staff ratio pct change'] = (ivy_pct_change['student instruction staff ratio pct change']*100).round(2)\n",
    "\n",
    "ivy_pct_change['student non instruction staff ratio pct change'] = ivy_pct_change['student fte per non instruction staff fte'].pct_change()\n",
    "ivy_pct_change['student non instruction staff ratio pct change'] = (ivy_pct_change['student non instruction staff ratio pct change']*100).round(2)\n",
    "\n",
    "ivy_pct_change = ivy_pct_change.fillna(0.00)"
   ]
  },
  {
   "attachments": {},
   "cell_type": "markdown",
   "metadata": {},
   "source": [
    "Ivy - Percentage Change - Ratio \n",
    "1. Cumulative"
   ]
  },
  {
   "cell_type": "code",
   "execution_count": 204,
   "metadata": {},
   "outputs": [],
   "source": [
    "ivy_base_staff_ratio = 2.09\n",
    "base_date = '2002-01-01'\n",
    "\n",
    "def ivy_pct_change_period_staff_ratio(row):\n",
    "    if row['year'] != '2002-01-01':\n",
    "        return (((row['student fte per staff fte']-ivy_base_staff_ratio)/ivy_base_staff_ratio)*100)\n",
    "    else:\n",
    "        return 0.0\n",
    "    \n",
    "ivy_pct_change['student staff ratio pct change cumulative'] = ivy_pct_change.apply(lambda row: ivy_pct_change_period_staff_ratio(row), axis=1)\n",
    "ivy_pct_change['student staff ratio pct change cumulative'] = ivy_pct_change['student staff ratio pct change cumulative'].round(2)\n"
   ]
  },
  {
   "cell_type": "code",
   "execution_count": 205,
   "metadata": {},
   "outputs": [],
   "source": [
    "ivy_base_instruction_staff_ratio = 9.62\n",
    "base_date = '2002-01-01'\n",
    "\n",
    "def ivy_pct_change_period_instruction_staff_ratio(row):\n",
    "    if row['year'] != '2002-01-01':\n",
    "        return (((row['student fte per instruction staff fte']-ivy_base_instruction_staff_ratio)/ivy_base_instruction_staff_ratio)*100)\n",
    "    else:\n",
    "        return 0.0\n",
    "    \n",
    "ivy_pct_change['student instruction staff ratio pct change cumulative'] = ivy_pct_change.apply(lambda row: ivy_pct_change_period_instruction_staff_ratio(row), axis=1)\n",
    "ivy_pct_change['student instruction staff ratio pct change cumulative'] = ivy_pct_change['student instruction staff ratio pct change cumulative'].round(2)"
   ]
  },
  {
   "cell_type": "code",
   "execution_count": 206,
   "metadata": {},
   "outputs": [],
   "source": [
    "ivy_base_non_instruction_staff_ratio = 2.74\n",
    "base_date = '2002-01-01'\n",
    "\n",
    "def ivy_pct_change_period_non_instruction_staff_ratio(row):\n",
    "    if row['year'] != '2002-01-01':\n",
    "        return (((row['student fte per non instruction staff fte']-ivy_base_non_instruction_staff_ratio)/ivy_base_non_instruction_staff_ratio)*100)\n",
    "    else:\n",
    "        return 0.0\n",
    "    \n",
    "ivy_pct_change['student non instruction staff ratio pct change cumulative'] = ivy_pct_change.apply(lambda row: ivy_pct_change_period_non_instruction_staff_ratio(row), axis=1)\n",
    "ivy_pct_change['student non instruction staff ratio pct change cumulative'] = ivy_pct_change['student non instruction staff ratio pct change cumulative'].round(2)"
   ]
  },
  {
   "cell_type": "code",
   "execution_count": 207,
   "metadata": {},
   "outputs": [
    {
     "data": {
      "text/html": [
       "<div>\n",
       "<style scoped>\n",
       "    .dataframe tbody tr th:only-of-type {\n",
       "        vertical-align: middle;\n",
       "    }\n",
       "\n",
       "    .dataframe tbody tr th {\n",
       "        vertical-align: top;\n",
       "    }\n",
       "\n",
       "    .dataframe thead th {\n",
       "        text-align: right;\n",
       "    }\n",
       "</style>\n",
       "<table border=\"1\" class=\"dataframe\">\n",
       "  <thead>\n",
       "    <tr style=\"text-align: right;\">\n",
       "      <th></th>\n",
       "      <th>year</th>\n",
       "      <th>student fte</th>\n",
       "      <th>total staff fte</th>\n",
       "      <th>total instruction staff fte</th>\n",
       "      <th>total non instruction staff fte</th>\n",
       "      <th>student fte per staff fte</th>\n",
       "      <th>student fte per instruction staff fte</th>\n",
       "      <th>student fte per non instruction staff fte</th>\n",
       "      <th>student fte pct change</th>\n",
       "      <th>staff fte pct change</th>\n",
       "      <th>...</th>\n",
       "      <th>student pct change cumulative</th>\n",
       "      <th>staff pct change cumulative</th>\n",
       "      <th>instruction pct change cumulative</th>\n",
       "      <th>non instruction pct change cumulative</th>\n",
       "      <th>student staff ratio pct change</th>\n",
       "      <th>student instruction staff ratio pct change</th>\n",
       "      <th>student non instruction staff ratio pct change</th>\n",
       "      <th>student staff ratio pct change cumulative</th>\n",
       "      <th>student instruction staff ratio pct change cumulative</th>\n",
       "      <th>student non instruction staff ratio pct change cumulative</th>\n",
       "    </tr>\n",
       "  </thead>\n",
       "  <tbody>\n",
       "    <tr>\n",
       "      <th>0</th>\n",
       "      <td>2002</td>\n",
       "      <td>103915</td>\n",
       "      <td>49167.0</td>\n",
       "      <td>11127.0</td>\n",
       "      <td>38040.0</td>\n",
       "      <td>2.09</td>\n",
       "      <td>9.62</td>\n",
       "      <td>2.74</td>\n",
       "      <td>0.00</td>\n",
       "      <td>0.00</td>\n",
       "      <td>...</td>\n",
       "      <td>-0.00</td>\n",
       "      <td>0.00</td>\n",
       "      <td>0.00</td>\n",
       "      <td>0.00</td>\n",
       "      <td>0.00</td>\n",
       "      <td>0.00</td>\n",
       "      <td>0.00</td>\n",
       "      <td>0.00</td>\n",
       "      <td>0.00</td>\n",
       "      <td>0.00</td>\n",
       "    </tr>\n",
       "    <tr>\n",
       "      <th>1</th>\n",
       "      <td>2003</td>\n",
       "      <td>112241</td>\n",
       "      <td>53538.0</td>\n",
       "      <td>12201.0</td>\n",
       "      <td>41336.0</td>\n",
       "      <td>2.09</td>\n",
       "      <td>9.25</td>\n",
       "      <td>2.71</td>\n",
       "      <td>8.01</td>\n",
       "      <td>8.89</td>\n",
       "      <td>...</td>\n",
       "      <td>8.01</td>\n",
       "      <td>8.89</td>\n",
       "      <td>9.65</td>\n",
       "      <td>8.66</td>\n",
       "      <td>0.00</td>\n",
       "      <td>-3.85</td>\n",
       "      <td>-1.09</td>\n",
       "      <td>0.00</td>\n",
       "      <td>-3.85</td>\n",
       "      <td>-1.09</td>\n",
       "    </tr>\n",
       "    <tr>\n",
       "      <th>2</th>\n",
       "      <td>2004</td>\n",
       "      <td>112589</td>\n",
       "      <td>54571.0</td>\n",
       "      <td>14427.0</td>\n",
       "      <td>40144.0</td>\n",
       "      <td>2.07</td>\n",
       "      <td>8.07</td>\n",
       "      <td>2.79</td>\n",
       "      <td>0.31</td>\n",
       "      <td>1.93</td>\n",
       "      <td>...</td>\n",
       "      <td>8.35</td>\n",
       "      <td>10.99</td>\n",
       "      <td>29.66</td>\n",
       "      <td>5.53</td>\n",
       "      <td>-0.96</td>\n",
       "      <td>-12.76</td>\n",
       "      <td>2.95</td>\n",
       "      <td>-0.96</td>\n",
       "      <td>-16.11</td>\n",
       "      <td>1.82</td>\n",
       "    </tr>\n",
       "    <tr>\n",
       "      <th>3</th>\n",
       "      <td>2005</td>\n",
       "      <td>114360</td>\n",
       "      <td>53952.0</td>\n",
       "      <td>12883.0</td>\n",
       "      <td>41069.0</td>\n",
       "      <td>2.12</td>\n",
       "      <td>9.03</td>\n",
       "      <td>2.78</td>\n",
       "      <td>1.57</td>\n",
       "      <td>-1.13</td>\n",
       "      <td>...</td>\n",
       "      <td>10.05</td>\n",
       "      <td>9.73</td>\n",
       "      <td>15.78</td>\n",
       "      <td>7.96</td>\n",
       "      <td>2.42</td>\n",
       "      <td>11.90</td>\n",
       "      <td>-0.36</td>\n",
       "      <td>1.44</td>\n",
       "      <td>-6.13</td>\n",
       "      <td>1.46</td>\n",
       "    </tr>\n",
       "    <tr>\n",
       "      <th>4</th>\n",
       "      <td>2006</td>\n",
       "      <td>115007</td>\n",
       "      <td>55070.0</td>\n",
       "      <td>13451.0</td>\n",
       "      <td>41618.0</td>\n",
       "      <td>2.09</td>\n",
       "      <td>8.80</td>\n",
       "      <td>2.75</td>\n",
       "      <td>0.57</td>\n",
       "      <td>2.07</td>\n",
       "      <td>...</td>\n",
       "      <td>10.67</td>\n",
       "      <td>12.01</td>\n",
       "      <td>20.89</td>\n",
       "      <td>9.41</td>\n",
       "      <td>-1.42</td>\n",
       "      <td>-2.55</td>\n",
       "      <td>-1.08</td>\n",
       "      <td>0.00</td>\n",
       "      <td>-8.52</td>\n",
       "      <td>0.36</td>\n",
       "    </tr>\n",
       "  </tbody>\n",
       "</table>\n",
       "<p>5 rows × 22 columns</p>\n",
       "</div>"
      ],
      "text/plain": [
       "   year  student fte  total staff fte  total instruction staff fte  \\\n",
       "0  2002       103915          49167.0                      11127.0   \n",
       "1  2003       112241          53538.0                      12201.0   \n",
       "2  2004       112589          54571.0                      14427.0   \n",
       "3  2005       114360          53952.0                      12883.0   \n",
       "4  2006       115007          55070.0                      13451.0   \n",
       "\n",
       "   total non instruction staff fte  student fte per staff fte  \\\n",
       "0                          38040.0                       2.09   \n",
       "1                          41336.0                       2.09   \n",
       "2                          40144.0                       2.07   \n",
       "3                          41069.0                       2.12   \n",
       "4                          41618.0                       2.09   \n",
       "\n",
       "   student fte per instruction staff fte  \\\n",
       "0                                   9.62   \n",
       "1                                   9.25   \n",
       "2                                   8.07   \n",
       "3                                   9.03   \n",
       "4                                   8.80   \n",
       "\n",
       "   student fte per non instruction staff fte  student fte pct change  \\\n",
       "0                                       2.74                    0.00   \n",
       "1                                       2.71                    8.01   \n",
       "2                                       2.79                    0.31   \n",
       "3                                       2.78                    1.57   \n",
       "4                                       2.75                    0.57   \n",
       "\n",
       "   staff fte pct change  ...  student pct change cumulative  \\\n",
       "0                  0.00  ...                          -0.00   \n",
       "1                  8.89  ...                           8.01   \n",
       "2                  1.93  ...                           8.35   \n",
       "3                 -1.13  ...                          10.05   \n",
       "4                  2.07  ...                          10.67   \n",
       "\n",
       "   staff pct change cumulative  instruction pct change cumulative  \\\n",
       "0                         0.00                               0.00   \n",
       "1                         8.89                               9.65   \n",
       "2                        10.99                              29.66   \n",
       "3                         9.73                              15.78   \n",
       "4                        12.01                              20.89   \n",
       "\n",
       "   non instruction pct change cumulative  student staff ratio pct change  \\\n",
       "0                                   0.00                            0.00   \n",
       "1                                   8.66                            0.00   \n",
       "2                                   5.53                           -0.96   \n",
       "3                                   7.96                            2.42   \n",
       "4                                   9.41                           -1.42   \n",
       "\n",
       "   student instruction staff ratio pct change  \\\n",
       "0                                        0.00   \n",
       "1                                       -3.85   \n",
       "2                                      -12.76   \n",
       "3                                       11.90   \n",
       "4                                       -2.55   \n",
       "\n",
       "   student non instruction staff ratio pct change  \\\n",
       "0                                            0.00   \n",
       "1                                           -1.09   \n",
       "2                                            2.95   \n",
       "3                                           -0.36   \n",
       "4                                           -1.08   \n",
       "\n",
       "   student staff ratio pct change cumulative  \\\n",
       "0                                       0.00   \n",
       "1                                       0.00   \n",
       "2                                      -0.96   \n",
       "3                                       1.44   \n",
       "4                                       0.00   \n",
       "\n",
       "   student instruction staff ratio pct change cumulative  \\\n",
       "0                                               0.00       \n",
       "1                                              -3.85       \n",
       "2                                             -16.11       \n",
       "3                                              -6.13       \n",
       "4                                              -8.52       \n",
       "\n",
       "   student non instruction staff ratio pct change cumulative  \n",
       "0                                               0.00          \n",
       "1                                              -1.09          \n",
       "2                                               1.82          \n",
       "3                                               1.46          \n",
       "4                                               0.36          \n",
       "\n",
       "[5 rows x 22 columns]"
      ]
     },
     "execution_count": 207,
     "metadata": {},
     "output_type": "execute_result"
    }
   ],
   "source": [
    "ivy_pct_change.head()"
   ]
  },
  {
   "attachments": {},
   "cell_type": "markdown",
   "metadata": {},
   "source": [
    "Ivy - Restacking datasets - by type\n",
    "1. FTE Total, FTE Percentage Chanage - Annual, FTE Percentage Chanage - Cumulative\n",
    "2. Ratio Total, Ratio Percentage Chanage - Annual, Ratio Percentage Chanage - Cumulative"
   ]
  },
  {
   "cell_type": "code",
   "execution_count": 208,
   "metadata": {},
   "outputs": [
    {
     "data": {
      "text/html": [
       "<div>\n",
       "<style scoped>\n",
       "    .dataframe tbody tr th:only-of-type {\n",
       "        vertical-align: middle;\n",
       "    }\n",
       "\n",
       "    .dataframe tbody tr th {\n",
       "        vertical-align: top;\n",
       "    }\n",
       "\n",
       "    .dataframe thead th {\n",
       "        text-align: right;\n",
       "    }\n",
       "</style>\n",
       "<table border=\"1\" class=\"dataframe\">\n",
       "  <thead>\n",
       "    <tr style=\"text-align: right;\">\n",
       "      <th></th>\n",
       "      <th>year</th>\n",
       "      <th>fte</th>\n",
       "      <th>fte pct change</th>\n",
       "      <th>fte pct change cumulative</th>\n",
       "      <th>type</th>\n",
       "    </tr>\n",
       "  </thead>\n",
       "  <tbody>\n",
       "    <tr>\n",
       "      <th>0</th>\n",
       "      <td>2002</td>\n",
       "      <td>103915.0</td>\n",
       "      <td>0.00</td>\n",
       "      <td>-0.00</td>\n",
       "      <td>student</td>\n",
       "    </tr>\n",
       "    <tr>\n",
       "      <th>1</th>\n",
       "      <td>2003</td>\n",
       "      <td>112241.0</td>\n",
       "      <td>8.01</td>\n",
       "      <td>8.01</td>\n",
       "      <td>student</td>\n",
       "    </tr>\n",
       "  </tbody>\n",
       "</table>\n",
       "</div>"
      ],
      "text/plain": [
       "   year       fte  fte pct change  fte pct change cumulative     type\n",
       "0  2002  103915.0            0.00                      -0.00  student\n",
       "1  2003  112241.0            8.01                       8.01  student"
      ]
     },
     "execution_count": 208,
     "metadata": {},
     "output_type": "execute_result"
    }
   ],
   "source": [
    "cols_fte_ivy = ['year','fte','fte pct change','fte pct change cumulative','type']\n",
    "\n",
    "ivy_fte_pct_change_total_student = ivy_pct_change[['year','student fte','student fte pct change','student pct change cumulative']]\n",
    "ivy_fte_pct_change_total_student = ivy_fte_pct_change_total_student.reset_index(drop=True)\n",
    "ivy_fte_pct_change_total_student[\"type\"] = \"student\"\n",
    "ivy_fte_pct_change_total_student.columns = cols_fte_ivy\n",
    "ivy_fte_pct_change_total_student = ivy_fte_pct_change_total_student.reset_index(drop=True)\n",
    "\n",
    "ivy_fte_pct_change_total_staff = ivy_pct_change[['year','total staff fte','staff fte pct change','staff pct change cumulative']]\n",
    "ivy_fte_pct_change_total_staff = ivy_fte_pct_change_total_staff.reset_index(drop=True)\n",
    "ivy_fte_pct_change_total_staff[\"type\"] = \"all staff\"\n",
    "ivy_fte_pct_change_total_staff.columns = cols_fte_ivy\n",
    "ivy_fte_pct_change_total_staff = ivy_fte_pct_change_total_staff.reset_index(drop=True)\n",
    "#yale_pct_change_total_staff.head(2)\n",
    "\n",
    "ivy_fte_pct_change_total_instruction = ivy_pct_change[['year','total instruction staff fte','instruction fte pct change','instruction pct change cumulative']]\n",
    "ivy_fte_pct_change_total_instruction = ivy_fte_pct_change_total_instruction.reset_index(drop=True)\n",
    "ivy_fte_pct_change_total_instruction[\"type\"] = \"instructional staff\"\n",
    "ivy_fte_pct_change_total_instruction.columns = cols_fte_ivy\n",
    "ivy_fte_pct_change_total_instruction = ivy_fte_pct_change_total_instruction.reset_index(drop=True)\n",
    "#yale_pct_change_total_non_instruction.head(2)\n",
    "\n",
    "ivy_fte_pct_change_total_non_instruction = ivy_pct_change[['year','total non instruction staff fte','non instruction fte pct change','non instruction pct change cumulative']]\n",
    "ivy_fte_pct_change_total_non_instruction = ivy_fte_pct_change_total_non_instruction.reset_index(drop=True)\n",
    "ivy_fte_pct_change_total_non_instruction[\"type\"] = \"non instructional staff\"\n",
    "ivy_fte_pct_change_total_non_instruction.columns = cols_fte_ivy\n",
    "ivy_fte_pct_change_total_non_instruction = ivy_fte_pct_change_total_non_instruction.reset_index(drop=True)\n",
    "#yale_pct_change_total_non_instruction.head(2)\n",
    "\n",
    "ivy_fte_pct_change_by_type = pd.concat([ivy_fte_pct_change_total_student,ivy_fte_pct_change_total_staff,ivy_fte_pct_change_total_instruction,ivy_fte_pct_change_total_non_instruction],ignore_index=False)\n",
    "ivy_fte_pct_change_by_type=ivy_fte_pct_change_by_type.reset_index(drop=True)\n",
    "\n",
    "ivy_fte_pct_change_by_type.head(2)"
   ]
  },
  {
   "cell_type": "code",
   "execution_count": 209,
   "metadata": {},
   "outputs": [
    {
     "data": {
      "text/html": [
       "<div>\n",
       "<style scoped>\n",
       "    .dataframe tbody tr th:only-of-type {\n",
       "        vertical-align: middle;\n",
       "    }\n",
       "\n",
       "    .dataframe tbody tr th {\n",
       "        vertical-align: top;\n",
       "    }\n",
       "\n",
       "    .dataframe thead th {\n",
       "        text-align: right;\n",
       "    }\n",
       "</style>\n",
       "<table border=\"1\" class=\"dataframe\">\n",
       "  <thead>\n",
       "    <tr style=\"text-align: right;\">\n",
       "      <th></th>\n",
       "      <th>year</th>\n",
       "      <th>student fte per staff fte</th>\n",
       "      <th>ratio pct change</th>\n",
       "      <th>ratio pct change cumulative</th>\n",
       "      <th>type</th>\n",
       "    </tr>\n",
       "  </thead>\n",
       "  <tbody>\n",
       "    <tr>\n",
       "      <th>0</th>\n",
       "      <td>2002</td>\n",
       "      <td>2.09</td>\n",
       "      <td>0.0</td>\n",
       "      <td>0.0</td>\n",
       "      <td>all staff</td>\n",
       "    </tr>\n",
       "    <tr>\n",
       "      <th>1</th>\n",
       "      <td>2003</td>\n",
       "      <td>2.09</td>\n",
       "      <td>0.0</td>\n",
       "      <td>0.0</td>\n",
       "      <td>all staff</td>\n",
       "    </tr>\n",
       "  </tbody>\n",
       "</table>\n",
       "</div>"
      ],
      "text/plain": [
       "   year  student fte per staff fte  ratio pct change  \\\n",
       "0  2002                       2.09               0.0   \n",
       "1  2003                       2.09               0.0   \n",
       "\n",
       "   ratio pct change cumulative       type  \n",
       "0                          0.0  all staff  \n",
       "1                          0.0  all staff  "
      ]
     },
     "execution_count": 209,
     "metadata": {},
     "output_type": "execute_result"
    }
   ],
   "source": [
    "cols_ratio_ivy = ['year','student fte per staff fte','ratio pct change','ratio pct change cumulative','type']\n",
    "\n",
    "ivy_ratio_pct_change_total_staff = ivy_pct_change[['year','student fte per staff fte','student staff ratio pct change','student staff ratio pct change cumulative']]\n",
    "ivy_ratio_pct_change_total_staff = ivy_ratio_pct_change_total_staff.reset_index(drop=True)\n",
    "ivy_ratio_pct_change_total_staff[\"type\"] = \"all staff\"\n",
    "ivy_ratio_pct_change_total_staff.columns = cols_ratio_ivy\n",
    "ivy_ratio_pct_change_total_staff = ivy_ratio_pct_change_total_staff.reset_index(drop=True)\n",
    "#ivy_ratio_pct_change_total_staff.head(2)\n",
    "\n",
    "ivy_ratio_pct_change_total_instruction = ivy_pct_change[['year','student fte per instruction staff fte','student instruction staff ratio pct change','student instruction staff ratio pct change cumulative']]\n",
    "ivy_ratio_pct_change_total_instruction = ivy_ratio_pct_change_total_instruction.reset_index(drop=True)\n",
    "ivy_ratio_pct_change_total_instruction[\"type\"] = \"instructional staff\"\n",
    "ivy_ratio_pct_change_total_instruction.columns = cols_ratio_ivy\n",
    "ivy_ratio_pct_change_total_instruction = ivy_ratio_pct_change_total_instruction.reset_index(drop=True)\n",
    "#ivy_ratio_pct_change_total_instruction.head(2)\n",
    "\n",
    "ivy_ratio_pct_change_total_non_instruction = ivy_pct_change[['year','student fte per non instruction staff fte','student non instruction staff ratio pct change','student non instruction staff ratio pct change cumulative']]\n",
    "ivy_ratio_pct_change_total_non_instruction = ivy_ratio_pct_change_total_non_instruction.reset_index(drop=True)\n",
    "ivy_ratio_pct_change_total_non_instruction[\"type\"] = \"non instructional staff\"\n",
    "ivy_ratio_pct_change_total_non_instruction.columns = cols_ratio_ivy\n",
    "ivy_ratio_pct_change_total_non_instruction = ivy_ratio_pct_change_total_non_instruction.reset_index(drop=True)\n",
    "#ivy_ratio_pct_change_total_non_instruction.head(2)\n",
    "\n",
    "ivy_ratio_pct_change_by_type = pd.concat([ivy_ratio_pct_change_total_staff,ivy_ratio_pct_change_total_instruction,ivy_ratio_pct_change_total_non_instruction],ignore_index=False)\n",
    "ivy_ratio_pct_change_by_type=ivy_ratio_pct_change_by_type.reset_index(drop=True)\n",
    "\n",
    "ivy_ratio_pct_change_by_type.head(2)"
   ]
  },
  {
   "attachments": {},
   "cell_type": "markdown",
   "metadata": {},
   "source": [
    "Phd - FTE - Percentage Change\n",
    "1. Annual"
   ]
  },
  {
   "cell_type": "code",
   "execution_count": 210,
   "metadata": {},
   "outputs": [
    {
     "data": {
      "text/html": [
       "<div>\n",
       "<style scoped>\n",
       "    .dataframe tbody tr th:only-of-type {\n",
       "        vertical-align: middle;\n",
       "    }\n",
       "\n",
       "    .dataframe tbody tr th {\n",
       "        vertical-align: top;\n",
       "    }\n",
       "\n",
       "    .dataframe thead th {\n",
       "        text-align: right;\n",
       "    }\n",
       "</style>\n",
       "<table border=\"1\" class=\"dataframe\">\n",
       "  <thead>\n",
       "    <tr style=\"text-align: right;\">\n",
       "      <th></th>\n",
       "      <th>year</th>\n",
       "      <th>student fte</th>\n",
       "      <th>total staff fte</th>\n",
       "      <th>total instruction staff fte</th>\n",
       "      <th>total non instruction staff fte</th>\n",
       "      <th>student fte per staff fte</th>\n",
       "      <th>student fte per instruction staff fte</th>\n",
       "      <th>student fte per non instruction staff fte</th>\n",
       "    </tr>\n",
       "  </thead>\n",
       "  <tbody>\n",
       "    <tr>\n",
       "      <th>0</th>\n",
       "      <td>2002</td>\n",
       "      <td>3900471</td>\n",
       "      <td>917224.0</td>\n",
       "      <td>264881.0</td>\n",
       "      <td>652367.0</td>\n",
       "      <td>4.98</td>\n",
       "      <td>15.35</td>\n",
       "      <td>7.73</td>\n",
       "    </tr>\n",
       "    <tr>\n",
       "      <th>1</th>\n",
       "      <td>2003</td>\n",
       "      <td>3983501</td>\n",
       "      <td>907763.0</td>\n",
       "      <td>260977.0</td>\n",
       "      <td>646815.0</td>\n",
       "      <td>5.03</td>\n",
       "      <td>15.57</td>\n",
       "      <td>7.84</td>\n",
       "    </tr>\n",
       "  </tbody>\n",
       "</table>\n",
       "</div>"
      ],
      "text/plain": [
       "   year  student fte  total staff fte  total instruction staff fte  \\\n",
       "0  2002      3900471         917224.0                     264881.0   \n",
       "1  2003      3983501         907763.0                     260977.0   \n",
       "\n",
       "   total non instruction staff fte  student fte per staff fte  \\\n",
       "0                         652367.0                       4.98   \n",
       "1                         646815.0                       5.03   \n",
       "\n",
       "   student fte per instruction staff fte  \\\n",
       "0                                  15.35   \n",
       "1                                  15.57   \n",
       "\n",
       "   student fte per non instruction staff fte  \n",
       "0                                       7.73  \n",
       "1                                       7.84  "
      ]
     },
     "execution_count": 210,
     "metadata": {},
     "output_type": "execute_result"
    }
   ],
   "source": [
    "phd_pct_change = phd.groupby(['year']).agg({'student fte':'sum','total staff fte':'sum','total instruction staff fte':'sum','total non instruction staff fte':'sum','student fte per staff fte':'mean','student fte per instruction staff fte':'mean','student fte per non instruction staff fte':'mean'})\n",
    "phd_pct_change = phd_pct_change.reset_index()\n",
    "phd_pct_change.columns = ['year','student fte','total staff fte','total instruction staff fte','total non instruction staff fte','student fte per staff fte','student fte per instruction staff fte','student fte per non instruction staff fte']\n",
    "phd_pct_change['student fte per staff fte'] = phd_pct_change['student fte per staff fte'].round(2)\n",
    "phd_pct_change['student fte per instruction staff fte'] = phd_pct_change['student fte per instruction staff fte'].round(2)\n",
    "phd_pct_change['student fte per non instruction staff fte'] = phd_pct_change['student fte per non instruction staff fte'].round(2)\n",
    "\n",
    "phd_pct_change.head(2)"
   ]
  },
  {
   "cell_type": "code",
   "execution_count": 211,
   "metadata": {},
   "outputs": [
    {
     "data": {
      "text/html": [
       "<div>\n",
       "<style scoped>\n",
       "    .dataframe tbody tr th:only-of-type {\n",
       "        vertical-align: middle;\n",
       "    }\n",
       "\n",
       "    .dataframe tbody tr th {\n",
       "        vertical-align: top;\n",
       "    }\n",
       "\n",
       "    .dataframe thead th {\n",
       "        text-align: right;\n",
       "    }\n",
       "</style>\n",
       "<table border=\"1\" class=\"dataframe\">\n",
       "  <thead>\n",
       "    <tr style=\"text-align: right;\">\n",
       "      <th></th>\n",
       "      <th>year</th>\n",
       "      <th>student fte</th>\n",
       "      <th>total staff fte</th>\n",
       "      <th>total instruction staff fte</th>\n",
       "      <th>total non instruction staff fte</th>\n",
       "      <th>student fte per staff fte</th>\n",
       "      <th>student fte per instruction staff fte</th>\n",
       "      <th>student fte per non instruction staff fte</th>\n",
       "      <th>student fte pct change</th>\n",
       "      <th>staff fte pct change</th>\n",
       "      <th>instruction fte pct change</th>\n",
       "      <th>non instruction fte pct change</th>\n",
       "    </tr>\n",
       "  </thead>\n",
       "  <tbody>\n",
       "    <tr>\n",
       "      <th>0</th>\n",
       "      <td>2002</td>\n",
       "      <td>3900471</td>\n",
       "      <td>917224.0</td>\n",
       "      <td>264881.0</td>\n",
       "      <td>652367.0</td>\n",
       "      <td>4.98</td>\n",
       "      <td>15.35</td>\n",
       "      <td>7.73</td>\n",
       "      <td>0.00</td>\n",
       "      <td>0.00</td>\n",
       "      <td>0.00</td>\n",
       "      <td>0.00</td>\n",
       "    </tr>\n",
       "    <tr>\n",
       "      <th>1</th>\n",
       "      <td>2003</td>\n",
       "      <td>3983501</td>\n",
       "      <td>907763.0</td>\n",
       "      <td>260977.0</td>\n",
       "      <td>646815.0</td>\n",
       "      <td>5.03</td>\n",
       "      <td>15.57</td>\n",
       "      <td>7.84</td>\n",
       "      <td>2.13</td>\n",
       "      <td>-1.03</td>\n",
       "      <td>-1.47</td>\n",
       "      <td>-0.85</td>\n",
       "    </tr>\n",
       "  </tbody>\n",
       "</table>\n",
       "</div>"
      ],
      "text/plain": [
       "   year  student fte  total staff fte  total instruction staff fte  \\\n",
       "0  2002      3900471         917224.0                     264881.0   \n",
       "1  2003      3983501         907763.0                     260977.0   \n",
       "\n",
       "   total non instruction staff fte  student fte per staff fte  \\\n",
       "0                         652367.0                       4.98   \n",
       "1                         646815.0                       5.03   \n",
       "\n",
       "   student fte per instruction staff fte  \\\n",
       "0                                  15.35   \n",
       "1                                  15.57   \n",
       "\n",
       "   student fte per non instruction staff fte  student fte pct change  \\\n",
       "0                                       7.73                    0.00   \n",
       "1                                       7.84                    2.13   \n",
       "\n",
       "   staff fte pct change  instruction fte pct change  \\\n",
       "0                  0.00                        0.00   \n",
       "1                 -1.03                       -1.47   \n",
       "\n",
       "   non instruction fte pct change  \n",
       "0                            0.00  \n",
       "1                           -0.85  "
      ]
     },
     "execution_count": 211,
     "metadata": {},
     "output_type": "execute_result"
    }
   ],
   "source": [
    "phd_pct_change['student fte pct change'] = phd_pct_change['student fte'].pct_change()\n",
    "phd_pct_change['student fte pct change'] = (phd_pct_change['student fte pct change']*100).round(2)\n",
    "phd_pct_change = phd_pct_change.reset_index(drop=True)\n",
    "\n",
    "phd_pct_change['staff fte pct change'] = phd_pct_change['total staff fte'].pct_change()\n",
    "phd_pct_change['staff fte pct change'] = (phd_pct_change['staff fte pct change']*100).round(2)\n",
    "phd_pct_change = phd_pct_change.reset_index(drop=True)\n",
    "\n",
    "phd_pct_change['instruction fte pct change'] = phd_pct_change['total instruction staff fte'].pct_change()\n",
    "phd_pct_change['instruction fte pct change'] = (phd_pct_change['instruction fte pct change']*100).round(2)\n",
    "phd_pct_change = phd_pct_change.reset_index(drop=True)\n",
    "\n",
    "phd_pct_change['non instruction fte pct change'] = phd_pct_change['total non instruction staff fte'].pct_change()\n",
    "phd_pct_change['non instruction fte pct change'] = (phd_pct_change['non instruction fte pct change']*100).round(2)\n",
    "phd_pct_change = phd_pct_change.reset_index(drop=True)\n",
    "\n",
    "phd_pct_change = phd_pct_change.fillna(0.00)\n",
    "\n",
    "phd_pct_change.head(2)"
   ]
  },
  {
   "attachments": {},
   "cell_type": "markdown",
   "metadata": {},
   "source": [
    "Phd - Percentage Change - FTE\n",
    "2. Cumulative"
   ]
  },
  {
   "cell_type": "code",
   "execution_count": 212,
   "metadata": {},
   "outputs": [],
   "source": [
    "phd_base_student = 3900480\n",
    "base_date = '2002-01-01'\n",
    "\n",
    "def phd_pct_change_period_student(row):\n",
    "    if row['year'] != '2002-01-01':\n",
    "        return (((row['student fte']-phd_base_student)/phd_base_student)*100)\n",
    "    else:\n",
    "        return 0.0\n",
    "    \n",
    "phd_pct_change['student pct change cumulative'] = phd_pct_change.apply(lambda row: phd_pct_change_period_student(row), axis=1)\n",
    "phd_pct_change['student pct change cumulative'] = phd_pct_change['student pct change cumulative'].round(2)\n",
    "\n",
    "phd_pct_change = phd_pct_change.fillna(0.00)\n",
    "#print(yale_pct_change)"
   ]
  },
  {
   "cell_type": "code",
   "execution_count": 213,
   "metadata": {},
   "outputs": [],
   "source": [
    "phd_base_staff = 917224.0\n",
    "base_date = '2002-01-01'\n",
    "\n",
    "def phd_pct_change_period_staff(row):\n",
    "    if row['year'] != '2002-01-01':\n",
    "        return (((row['total staff fte']-phd_base_staff)/phd_base_staff)*100)\n",
    "    else:\n",
    "        return 0.0\n",
    "    \n",
    "phd_pct_change['staff pct change cumulative'] = phd_pct_change.apply(lambda row: phd_pct_change_period_staff(row), axis=1)\n",
    "phd_pct_change['staff pct change cumulative'] = phd_pct_change['staff pct change cumulative'].round(2)\n",
    "\n",
    "phd_pct_change = phd_pct_change.fillna(0.00)\n",
    "#print(yale_pct_change)"
   ]
  },
  {
   "cell_type": "code",
   "execution_count": 214,
   "metadata": {},
   "outputs": [],
   "source": [
    "phd_base_instruction = 264881.0\n",
    "base_date = '2002-01-01'\n",
    "\n",
    "def phd_pct_change_period_instruction(row):\n",
    "    if row['year'] != '2002-01-01':\n",
    "        return (((row['total instruction staff fte']-phd_base_instruction)/phd_base_instruction)*100)\n",
    "    else:\n",
    "        return 0.0\n",
    "    \n",
    "phd_pct_change['instruction pct change cumulative'] = phd_pct_change.apply(lambda row: phd_pct_change_period_instruction(row), axis=1)\n",
    "phd_pct_change['instruction pct change cumulative'] = phd_pct_change['instruction pct change cumulative'].round(2)\n",
    "\n",
    "phd_pct_change = phd_pct_change.fillna(0.00)"
   ]
  },
  {
   "cell_type": "code",
   "execution_count": 215,
   "metadata": {},
   "outputs": [
    {
     "name": "stdout",
     "output_type": "stream",
     "text": [
      "<class 'pandas.core.frame.DataFrame'>\n",
      "RangeIndex: 20 entries, 0 to 19\n",
      "Data columns (total 16 columns):\n",
      " #   Column                                     Non-Null Count  Dtype  \n",
      "---  ------                                     --------------  -----  \n",
      " 0   year                                       20 non-null     object \n",
      " 1   student fte                                20 non-null     int64  \n",
      " 2   total staff fte                            20 non-null     float64\n",
      " 3   total instruction staff fte                20 non-null     float64\n",
      " 4   total non instruction staff fte            20 non-null     float64\n",
      " 5   student fte per staff fte                  20 non-null     float64\n",
      " 6   student fte per instruction staff fte      20 non-null     float64\n",
      " 7   student fte per non instruction staff fte  20 non-null     float64\n",
      " 8   student fte pct change                     20 non-null     float64\n",
      " 9   staff fte pct change                       20 non-null     float64\n",
      " 10  instruction fte pct change                 20 non-null     float64\n",
      " 11  non instruction fte pct change             20 non-null     float64\n",
      " 12  student pct change cumulative              20 non-null     float64\n",
      " 13  staff pct change cumulative                20 non-null     float64\n",
      " 14  instruction pct change cumulative          20 non-null     float64\n",
      " 15  non instruction pct change cumulative      20 non-null     float64\n",
      "dtypes: float64(14), int64(1), object(1)\n",
      "memory usage: 2.6+ KB\n"
     ]
    }
   ],
   "source": [
    "phd_base_non_instruction = 652367.0\n",
    "base_date = '2002-01-01'\n",
    "\n",
    "def phd_pct_change_period_non_instruction(row):\n",
    "    if row['year'] != '2002-01-01':\n",
    "        return (((row['total non instruction staff fte']-phd_base_non_instruction)/phd_base_non_instruction)*100)\n",
    "    else:\n",
    "        return 0.0\n",
    "    \n",
    "phd_pct_change['non instruction pct change cumulative'] = phd_pct_change.apply(lambda row: phd_pct_change_period_non_instruction(row), axis=1)\n",
    "phd_pct_change['non instruction pct change cumulative'] = phd_pct_change['non instruction pct change cumulative'].round(2)\n",
    "\n",
    "phd_pct_change = phd_pct_change.fillna(0.00)\n",
    "\n",
    "phd_pct_change.info()"
   ]
  },
  {
   "attachments": {},
   "cell_type": "markdown",
   "metadata": {},
   "source": [
    "Phd - Percentage Change - Ratio \n",
    "1. Annual"
   ]
  },
  {
   "cell_type": "code",
   "execution_count": 216,
   "metadata": {},
   "outputs": [],
   "source": [
    "phd_pct_change['student staff ratio pct change'] = phd_pct_change['student fte per staff fte'].pct_change()\n",
    "phd_pct_change['student staff ratio pct change'] = (phd_pct_change['student staff ratio pct change']*100).round(2)\n",
    "\n",
    "phd_pct_change['student instruction staff ratio pct change'] = phd_pct_change['student fte per instruction staff fte'].pct_change()\n",
    "phd_pct_change['student instruction staff ratio pct change'] = (phd_pct_change['student instruction staff ratio pct change']*100).round(2)\n",
    "\n",
    "phd_pct_change['student non instruction staff ratio pct change'] = phd_pct_change['student fte per non instruction staff fte'].pct_change()\n",
    "phd_pct_change['student non instruction staff ratio pct change'] = (phd_pct_change['student non instruction staff ratio pct change']*100).round(2)\n",
    "\n",
    "phd_pct_change = phd_pct_change.fillna(0.00)"
   ]
  },
  {
   "attachments": {},
   "cell_type": "markdown",
   "metadata": {},
   "source": [
    "Phd - Percentage Change - Ratio \n",
    "1. Cumulative"
   ]
  },
  {
   "cell_type": "code",
   "execution_count": 217,
   "metadata": {},
   "outputs": [],
   "source": [
    "phd_base_staff_ratio = 4.98\n",
    "base_date = '2002-01-01'\n",
    "\n",
    "def phd_pct_change_period_staff_ratio(row):\n",
    "    if row['year'] != '2002-01-01':\n",
    "        return (((row['student fte per staff fte']-phd_base_staff_ratio)/phd_base_staff_ratio)*100)\n",
    "    else:\n",
    "        return 0.0\n",
    "    \n",
    "phd_pct_change['student staff ratio pct change cumulative'] = phd_pct_change.apply(lambda row: phd_pct_change_period_staff_ratio(row), axis=1)\n",
    "phd_pct_change['student staff ratio pct change cumulative'] = phd_pct_change['student staff ratio pct change cumulative'].round(2)\n"
   ]
  },
  {
   "cell_type": "code",
   "execution_count": 218,
   "metadata": {},
   "outputs": [],
   "source": [
    "phd_base_instruction_staff_ratio = 15.35\n",
    "base_date = '2002-01-01'\n",
    "\n",
    "def phd_pct_change_period_instruction_staff_ratio(row):\n",
    "    if row['year'] != '2002-01-01':\n",
    "        return (((row['student fte per instruction staff fte']-phd_base_instruction_staff_ratio)/phd_base_instruction_staff_ratio)*100)\n",
    "    else:\n",
    "        return 0.0\n",
    "    \n",
    "phd_pct_change['student instruction staff ratio pct change cumulative'] = phd_pct_change.apply(lambda row: phd_pct_change_period_instruction_staff_ratio(row), axis=1)\n",
    "phd_pct_change['student instruction staff ratio pct change cumulative'] = phd_pct_change['student instruction staff ratio pct change cumulative'].round(2)"
   ]
  },
  {
   "cell_type": "code",
   "execution_count": 219,
   "metadata": {},
   "outputs": [],
   "source": [
    "phd_base_non_instruction_staff_ratio = 2.63\n",
    "base_date = '2002-01-01'\n",
    "\n",
    "def phd_pct_change_period_non_instruction_staff_ratio(row):\n",
    "    if row['year'] != '2002-01-01':\n",
    "        return (((row['student fte per non instruction staff fte']-phd_base_non_instruction_staff_ratio)/phd_base_non_instruction_staff_ratio)*100)\n",
    "    else:\n",
    "        return 0.0\n",
    "    \n",
    "phd_pct_change['student non instruction staff ratio pct change cumulative'] = phd_pct_change.apply(lambda row: phd_pct_change_period_non_instruction_staff_ratio(row), axis=1)\n",
    "phd_pct_change['student non instruction staff ratio pct change cumulative'] = phd_pct_change['student non instruction staff ratio pct change cumulative'].round(2)"
   ]
  },
  {
   "cell_type": "code",
   "execution_count": 220,
   "metadata": {},
   "outputs": [
    {
     "name": "stdout",
     "output_type": "stream",
     "text": [
      "<class 'pandas.core.frame.DataFrame'>\n",
      "RangeIndex: 20 entries, 0 to 19\n",
      "Data columns (total 22 columns):\n",
      " #   Column                                                     Non-Null Count  Dtype  \n",
      "---  ------                                                     --------------  -----  \n",
      " 0   year                                                       20 non-null     object \n",
      " 1   student fte                                                20 non-null     int64  \n",
      " 2   total staff fte                                            20 non-null     float64\n",
      " 3   total instruction staff fte                                20 non-null     float64\n",
      " 4   total non instruction staff fte                            20 non-null     float64\n",
      " 5   student fte per staff fte                                  20 non-null     float64\n",
      " 6   student fte per instruction staff fte                      20 non-null     float64\n",
      " 7   student fte per non instruction staff fte                  20 non-null     float64\n",
      " 8   student fte pct change                                     20 non-null     float64\n",
      " 9   staff fte pct change                                       20 non-null     float64\n",
      " 10  instruction fte pct change                                 20 non-null     float64\n",
      " 11  non instruction fte pct change                             20 non-null     float64\n",
      " 12  student pct change cumulative                              20 non-null     float64\n",
      " 13  staff pct change cumulative                                20 non-null     float64\n",
      " 14  instruction pct change cumulative                          20 non-null     float64\n",
      " 15  non instruction pct change cumulative                      20 non-null     float64\n",
      " 16  student staff ratio pct change                             20 non-null     float64\n",
      " 17  student instruction staff ratio pct change                 20 non-null     float64\n",
      " 18  student non instruction staff ratio pct change             20 non-null     float64\n",
      " 19  student staff ratio pct change cumulative                  20 non-null     float64\n",
      " 20  student instruction staff ratio pct change cumulative      20 non-null     float64\n",
      " 21  student non instruction staff ratio pct change cumulative  20 non-null     float64\n",
      "dtypes: float64(20), int64(1), object(1)\n",
      "memory usage: 3.6+ KB\n"
     ]
    }
   ],
   "source": [
    "phd_pct_change.info()"
   ]
  },
  {
   "attachments": {},
   "cell_type": "markdown",
   "metadata": {},
   "source": [
    "Yale - Restacking datasets - by type\n",
    "1. FTE Total, FTE Percentage Chanage - Annual, FTE Percentage Chanage - Cumulative\n",
    "2. Ratio Total, Ratio Percentage Chanage - Annual, Ratio Percentage Chanage - Cumulative"
   ]
  },
  {
   "cell_type": "code",
   "execution_count": 221,
   "metadata": {},
   "outputs": [
    {
     "name": "stdout",
     "output_type": "stream",
     "text": [
      "<class 'pandas.core.frame.DataFrame'>\n",
      "RangeIndex: 20 entries, 0 to 19\n",
      "Data columns (total 22 columns):\n",
      " #   Column                                                     Non-Null Count  Dtype  \n",
      "---  ------                                                     --------------  -----  \n",
      " 0   year                                                       20 non-null     object \n",
      " 1   student fte                                                20 non-null     int64  \n",
      " 2   total staff fte                                            20 non-null     float64\n",
      " 3   total instruction staff fte                                20 non-null     float64\n",
      " 4   total non instruction staff fte                            20 non-null     float64\n",
      " 5   student fte per staff fte                                  20 non-null     float64\n",
      " 6   student fte per instruction staff fte                      20 non-null     float64\n",
      " 7   student fte per non instruction staff fte                  20 non-null     float64\n",
      " 8   student fte pct change                                     20 non-null     float64\n",
      " 9   staff fte pct change                                       20 non-null     float64\n",
      " 10  instruction fte pct change                                 20 non-null     float64\n",
      " 11  non instruction fte pct change                             20 non-null     float64\n",
      " 12  student pct change cumulative                              20 non-null     float64\n",
      " 13  staff pct change cumulative                                20 non-null     float64\n",
      " 14  instruction pct change cumulative                          20 non-null     float64\n",
      " 15  non instruction pct change cumulative                      20 non-null     float64\n",
      " 16  student staff ratio pct change                             20 non-null     float64\n",
      " 17  student instruction staff ratio pct change                 20 non-null     float64\n",
      " 18  student non instruction staff ratio pct change             20 non-null     float64\n",
      " 19  student staff ratio pct change cumulative                  20 non-null     float64\n",
      " 20  student instruction staff ratio pct change cumulative      20 non-null     float64\n",
      " 21  student non instruction staff ratio pct change cumulative  20 non-null     float64\n",
      "dtypes: float64(20), int64(1), object(1)\n",
      "memory usage: 3.6+ KB\n"
     ]
    },
    {
     "data": {
      "text/html": [
       "<div>\n",
       "<style scoped>\n",
       "    .dataframe tbody tr th:only-of-type {\n",
       "        vertical-align: middle;\n",
       "    }\n",
       "\n",
       "    .dataframe tbody tr th {\n",
       "        vertical-align: top;\n",
       "    }\n",
       "\n",
       "    .dataframe thead th {\n",
       "        text-align: right;\n",
       "    }\n",
       "</style>\n",
       "<table border=\"1\" class=\"dataframe\">\n",
       "  <thead>\n",
       "    <tr style=\"text-align: right;\">\n",
       "      <th></th>\n",
       "      <th>year</th>\n",
       "      <th>fte</th>\n",
       "      <th>fte pct change</th>\n",
       "      <th>fte pct change cumulative</th>\n",
       "      <th>type</th>\n",
       "    </tr>\n",
       "  </thead>\n",
       "  <tbody>\n",
       "    <tr>\n",
       "      <th>0</th>\n",
       "      <td>2002</td>\n",
       "      <td>3900471.0</td>\n",
       "      <td>0.00</td>\n",
       "      <td>-0.00</td>\n",
       "      <td>student</td>\n",
       "    </tr>\n",
       "    <tr>\n",
       "      <th>1</th>\n",
       "      <td>2003</td>\n",
       "      <td>3983501.0</td>\n",
       "      <td>2.13</td>\n",
       "      <td>2.13</td>\n",
       "      <td>student</td>\n",
       "    </tr>\n",
       "  </tbody>\n",
       "</table>\n",
       "</div>"
      ],
      "text/plain": [
       "   year        fte  fte pct change  fte pct change cumulative     type\n",
       "0  2002  3900471.0            0.00                      -0.00  student\n",
       "1  2003  3983501.0            2.13                       2.13  student"
      ]
     },
     "execution_count": 221,
     "metadata": {},
     "output_type": "execute_result"
    }
   ],
   "source": [
    "cols_fte = ['year','fte','fte pct change','fte pct change cumulative','type']\n",
    "\n",
    "phd_pct_change.info()\n",
    "phd_fte_pct_change_total_student = phd_pct_change[['year','student fte','student fte pct change','student pct change cumulative']]\n",
    "phd_fte_pct_change_total_student = phd_fte_pct_change_total_student.reset_index(drop=True)\n",
    "phd_fte_pct_change_total_student[\"type\"] = \"student\"\n",
    "phd_fte_pct_change_total_student.columns = cols_fte\n",
    "phd_fte_pct_change_total_student = phd_fte_pct_change_total_student.reset_index(drop=True)\n",
    "#phd_pct_change_total_student.head(2)\n",
    "\n",
    "phd_fte_pct_change_total_staff = phd_pct_change[['year','total staff fte','staff fte pct change','staff pct change cumulative']]\n",
    "phd_fte_pct_change_total_staff = phd_fte_pct_change_total_staff.reset_index(drop=True)\n",
    "phd_fte_pct_change_total_staff[\"type\"] = \"all staff\"\n",
    "phd_fte_pct_change_total_staff.columns = cols_fte\n",
    "phd_fte_pct_change_total_staff = phd_fte_pct_change_total_staff.reset_index(drop=True)\n",
    "#phd_pct_change_total_staff.head(2)\n",
    "\n",
    "phd_fte_pct_change_total_instruction = phd_pct_change[['year','total instruction staff fte','instruction fte pct change','instruction pct change cumulative']]\n",
    "phd_fte_pct_change_total_instruction = phd_fte_pct_change_total_instruction.reset_index(drop=True)\n",
    "phd_fte_pct_change_total_instruction[\"type\"] = \"instructional staff\"\n",
    "phd_fte_pct_change_total_instruction.columns = cols_fte\n",
    "phd_fte_pct_change_total_instruction = phd_fte_pct_change_total_instruction.reset_index(drop=True)\n",
    "#phd_pct_change_total_non_instruction.head(2)\n",
    "\n",
    "phd_fte_pct_change_total_non_instruction = phd_pct_change[['year','total non instruction staff fte','non instruction fte pct change','non instruction pct change cumulative']]\n",
    "phd_fte_pct_change_total_non_instruction = phd_fte_pct_change_total_non_instruction.reset_index(drop=True)\n",
    "phd_fte_pct_change_total_non_instruction[\"type\"] = \"non instructional staff\"\n",
    "phd_fte_pct_change_total_non_instruction.columns = cols_fte\n",
    "phd_fte_pct_change_total_non_instruction = phd_fte_pct_change_total_non_instruction.reset_index(drop=True)\n",
    "#phd_pct_change_total_non_instruction.head(2)\n",
    "\n",
    "phd_fte_pct_change_by_type = pd.concat([phd_fte_pct_change_total_student,phd_fte_pct_change_total_staff,phd_fte_pct_change_total_instruction,phd_fte_pct_change_total_non_instruction],ignore_index=False)\n",
    "phd_fte_pct_change_by_type=phd_fte_pct_change_by_type.reset_index(drop=True)\n",
    "\n",
    "phd_fte_pct_change_by_type.head(2)"
   ]
  },
  {
   "attachments": {},
   "cell_type": "markdown",
   "metadata": {},
   "source": [
    "\n",
    "\n",
    "\n",
    "phd_ratio_pct_change_total_instruction = phd_pct_change[['year','student fte per instruction staff fte','student instruction staff ratio pct change','student instruction staff ratio pct change cumulative']]\n",
    "phd_ratio_pct_change_total_instruction = phd_ratio_pct_change_total_instruction.reset_index(drop=True)\n",
    "phd_ratio_pct_change_total_instruction[\"type\"] = \"instructional staff\"\n",
    "phd_ratio_pct_change_total_instruction.columns = cols_ratio\n",
    "phd_ratio_pct_change_total_instruction = phd_ratio_pct_change_total_instruction.reset_index(drop=True)\n",
    "#phd_pct_change_total_non_instruction.head(2)\n",
    "\n",
    "phd_ratio_pct_change_total_non_instruction = phd_pct_change[['year','student fte per non instruction staff fte','student non instruction staff ratio pct change','student non instruction staff ratio pct change cumulative']]\n",
    "phd_ratio_pct_change_total_non_instruction = yale_ratio_pct_change_total_non_instruction.reset_index(drop=True)\n",
    "phd_ratio_pct_change_total_non_instruction[\"type\"] = \"non instructional staff\"\n",
    "phd_ratio_pct_change_total_non_instruction.columns = cols_ratio\n",
    "phd_ratio_pct_change_total_non_instruction = phd_ratio_pct_change_total_non_instruction.reset_index(drop=True)\n",
    "#phd_pct_change_total_non_instruction.head(2)\n",
    "\n",
    "phd_ratio_pct_change_by_type = pd.concat([phd_ratio_pct_change_total_staff,phd_ratio_pct_change_total_instruction,phd_ratio_pct_change_total_non_instruction],ignore_index=False)\n",
    "phd_ratio_pct_change_by_type=phd_ratio_pct_change_by_type.reset_index(drop=True)\n",
    "\n",
    "phd_ratio_pct_change_by_type.head(2)"
   ]
  },
  {
   "cell_type": "code",
   "execution_count": 222,
   "metadata": {},
   "outputs": [],
   "source": [
    "cols_ratio = ['year','student fte per staff fte','ratio pct change','ratio pct change cumulative','type']\n",
    "\n",
    "phd_ratio_pct_change_total_staff = phd_pct_change[['year','student fte per staff fte','student staff ratio pct change','student staff ratio pct change cumulative']]\n",
    "phd_ratio_pct_change_total_staff = phd_ratio_pct_change_total_staff.reset_index(drop=True)\n",
    "phd_ratio_pct_change_total_staff[\"type\"] = \"all staff\"\n",
    "phd_ratio_pct_change_total_staff.columns = cols_ratio\n",
    "phd_ratio_pct_change_total_staff = phd_ratio_pct_change_total_staff.reset_index(drop=True)\n",
    "#phd_ratio_pct_change_total_staff.head(2)\n",
    "\n",
    "phd_ratio_pct_change_total_instruction = phd_pct_change[['year','student fte per instruction staff fte','student instruction staff ratio pct change','student instruction staff ratio pct change cumulative']]\n",
    "phd_ratio_pct_change_total_instruction = phd_ratio_pct_change_total_instruction.reset_index(drop=True)\n",
    "phd_ratio_pct_change_total_instruction[\"type\"] = \"instructional staff\"\n",
    "phd_ratio_pct_change_total_instruction.columns = cols_ratio\n",
    "phd_ratio_pct_change_total_instruction = phd_ratio_pct_change_total_instruction.reset_index(drop=True)\n",
    "#phd_ratio_pct_change_total_instruction.head(2)\n",
    "\n",
    "phd_ratio_pct_change_total_non_instruction = phd_pct_change[['year','student fte per non instruction staff fte','student non instruction staff ratio pct change','student non instruction staff ratio pct change cumulative']]\n",
    "phd_ratio_pct_change_total_non_instruction = phd_ratio_pct_change_total_non_instruction.reset_index(drop=True)\n",
    "phd_ratio_pct_change_total_non_instruction[\"type\"] = \"non instructional staff\"\n",
    "phd_ratio_pct_change_total_non_instruction.columns = cols_ratio\n",
    "phd_ratio_pct_change_total_non_instruction = phd_ratio_pct_change_total_non_instruction.reset_index(drop=True)\n",
    "#phd_pct_change_total_non_instruction.head(2)\n",
    "\n",
    "phd_ratio_pct_change_by_type = pd.concat([phd_ratio_pct_change_total_staff,phd_ratio_pct_change_total_instruction,phd_ratio_pct_change_total_non_instruction],ignore_index=False)\n",
    "phd_ratio_pct_change_by_type=phd_ratio_pct_change_by_type.reset_index(drop=True)\n"
   ]
  },
  {
   "attachments": {},
   "cell_type": "markdown",
   "metadata": {},
   "source": [
    "All - FTE - Percentage Change\n",
    "1. Annual"
   ]
  },
  {
   "cell_type": "code",
   "execution_count": 223,
   "metadata": {},
   "outputs": [
    {
     "data": {
      "text/html": [
       "<div>\n",
       "<style scoped>\n",
       "    .dataframe tbody tr th:only-of-type {\n",
       "        vertical-align: middle;\n",
       "    }\n",
       "\n",
       "    .dataframe tbody tr th {\n",
       "        vertical-align: top;\n",
       "    }\n",
       "\n",
       "    .dataframe thead th {\n",
       "        text-align: right;\n",
       "    }\n",
       "</style>\n",
       "<table border=\"1\" class=\"dataframe\">\n",
       "  <thead>\n",
       "    <tr style=\"text-align: right;\">\n",
       "      <th></th>\n",
       "      <th>year</th>\n",
       "      <th>student fte</th>\n",
       "      <th>total staff fte</th>\n",
       "      <th>total instruction staff fte</th>\n",
       "      <th>total non instruction staff fte</th>\n",
       "      <th>student fte per staff fte</th>\n",
       "      <th>student fte per instruction staff fte</th>\n",
       "      <th>student fte per non instruction staff fte</th>\n",
       "    </tr>\n",
       "  </thead>\n",
       "  <tbody>\n",
       "    <tr>\n",
       "      <th>0</th>\n",
       "      <td>2002</td>\n",
       "      <td>11119226</td>\n",
       "      <td>1944071.0</td>\n",
       "      <td>678155.0</td>\n",
       "      <td>1265965.0</td>\n",
       "      <td>6.76</td>\n",
       "      <td>16.35</td>\n",
       "      <td>12.07</td>\n",
       "    </tr>\n",
       "    <tr>\n",
       "      <th>1</th>\n",
       "      <td>2003</td>\n",
       "      <td>11395962</td>\n",
       "      <td>1953453.0</td>\n",
       "      <td>683106.0</td>\n",
       "      <td>1270444.0</td>\n",
       "      <td>6.75</td>\n",
       "      <td>16.38</td>\n",
       "      <td>12.23</td>\n",
       "    </tr>\n",
       "  </tbody>\n",
       "</table>\n",
       "</div>"
      ],
      "text/plain": [
       "   year  student fte  total staff fte  total instruction staff fte  \\\n",
       "0  2002     11119226        1944071.0                     678155.0   \n",
       "1  2003     11395962        1953453.0                     683106.0   \n",
       "\n",
       "   total non instruction staff fte  student fte per staff fte  \\\n",
       "0                        1265965.0                       6.76   \n",
       "1                        1270444.0                       6.75   \n",
       "\n",
       "   student fte per instruction staff fte  \\\n",
       "0                                  16.35   \n",
       "1                                  16.38   \n",
       "\n",
       "   student fte per non instruction staff fte  \n",
       "0                                      12.07  \n",
       "1                                      12.23  "
      ]
     },
     "execution_count": 223,
     "metadata": {},
     "output_type": "execute_result"
    }
   ],
   "source": [
    "all_inst_pct_change = df.groupby(['year']).agg({'student fte':'sum','total staff fte':'sum','total instruction staff fte':'sum','total non instruction staff fte':'sum','student fte per staff fte':'mean','student fte per instruction staff fte':'mean','student fte per non instruction staff fte':'mean'})\n",
    "all_inst_pct_change = all_inst_pct_change.reset_index()\n",
    "all_inst_pct_change.columns = ['year','student fte','total staff fte','total instruction staff fte','total non instruction staff fte','student fte per staff fte','student fte per instruction staff fte','student fte per non instruction staff fte']\n",
    "all_inst_pct_change['student fte per staff fte'] = all_inst_pct_change['student fte per staff fte'].round(2)\n",
    "all_inst_pct_change['student fte per instruction staff fte'] = all_inst_pct_change['student fte per instruction staff fte'].round(2)\n",
    "all_inst_pct_change['student fte per non instruction staff fte'] = all_inst_pct_change['student fte per non instruction staff fte'].round(2)\n",
    "\n",
    "all_inst_pct_change.head(2)"
   ]
  },
  {
   "cell_type": "code",
   "execution_count": 224,
   "metadata": {},
   "outputs": [
    {
     "data": {
      "text/html": [
       "<div>\n",
       "<style scoped>\n",
       "    .dataframe tbody tr th:only-of-type {\n",
       "        vertical-align: middle;\n",
       "    }\n",
       "\n",
       "    .dataframe tbody tr th {\n",
       "        vertical-align: top;\n",
       "    }\n",
       "\n",
       "    .dataframe thead th {\n",
       "        text-align: right;\n",
       "    }\n",
       "</style>\n",
       "<table border=\"1\" class=\"dataframe\">\n",
       "  <thead>\n",
       "    <tr style=\"text-align: right;\">\n",
       "      <th></th>\n",
       "      <th>year</th>\n",
       "      <th>student fte</th>\n",
       "      <th>total staff fte</th>\n",
       "      <th>total instruction staff fte</th>\n",
       "      <th>total non instruction staff fte</th>\n",
       "      <th>student fte per staff fte</th>\n",
       "      <th>student fte per instruction staff fte</th>\n",
       "      <th>student fte per non instruction staff fte</th>\n",
       "      <th>student fte pct change</th>\n",
       "      <th>staff fte pct change</th>\n",
       "      <th>instruction fte pct change</th>\n",
       "      <th>non instruction fte pct change</th>\n",
       "    </tr>\n",
       "  </thead>\n",
       "  <tbody>\n",
       "    <tr>\n",
       "      <th>0</th>\n",
       "      <td>2002</td>\n",
       "      <td>11119226</td>\n",
       "      <td>1944071.0</td>\n",
       "      <td>678155.0</td>\n",
       "      <td>1265965.0</td>\n",
       "      <td>6.76</td>\n",
       "      <td>16.35</td>\n",
       "      <td>12.07</td>\n",
       "      <td>0.00</td>\n",
       "      <td>0.00</td>\n",
       "      <td>0.00</td>\n",
       "      <td>0.00</td>\n",
       "    </tr>\n",
       "    <tr>\n",
       "      <th>1</th>\n",
       "      <td>2003</td>\n",
       "      <td>11395962</td>\n",
       "      <td>1953453.0</td>\n",
       "      <td>683106.0</td>\n",
       "      <td>1270444.0</td>\n",
       "      <td>6.75</td>\n",
       "      <td>16.38</td>\n",
       "      <td>12.23</td>\n",
       "      <td>2.49</td>\n",
       "      <td>0.48</td>\n",
       "      <td>0.73</td>\n",
       "      <td>0.35</td>\n",
       "    </tr>\n",
       "    <tr>\n",
       "      <th>2</th>\n",
       "      <td>2004</td>\n",
       "      <td>11626900</td>\n",
       "      <td>2040905.0</td>\n",
       "      <td>763673.0</td>\n",
       "      <td>1277304.0</td>\n",
       "      <td>6.71</td>\n",
       "      <td>16.11</td>\n",
       "      <td>12.29</td>\n",
       "      <td>2.03</td>\n",
       "      <td>4.48</td>\n",
       "      <td>11.79</td>\n",
       "      <td>0.54</td>\n",
       "    </tr>\n",
       "    <tr>\n",
       "      <th>3</th>\n",
       "      <td>2005</td>\n",
       "      <td>11735284</td>\n",
       "      <td>2015238.0</td>\n",
       "      <td>717422.0</td>\n",
       "      <td>1297863.0</td>\n",
       "      <td>6.66</td>\n",
       "      <td>16.09</td>\n",
       "      <td>12.17</td>\n",
       "      <td>0.93</td>\n",
       "      <td>-1.26</td>\n",
       "      <td>-6.06</td>\n",
       "      <td>1.61</td>\n",
       "    </tr>\n",
       "    <tr>\n",
       "      <th>4</th>\n",
       "      <td>2006</td>\n",
       "      <td>11926403</td>\n",
       "      <td>2061024.0</td>\n",
       "      <td>732787.0</td>\n",
       "      <td>1328307.0</td>\n",
       "      <td>6.57</td>\n",
       "      <td>15.89</td>\n",
       "      <td>12.01</td>\n",
       "      <td>1.63</td>\n",
       "      <td>2.27</td>\n",
       "      <td>2.14</td>\n",
       "      <td>2.35</td>\n",
       "    </tr>\n",
       "  </tbody>\n",
       "</table>\n",
       "</div>"
      ],
      "text/plain": [
       "   year  student fte  total staff fte  total instruction staff fte  \\\n",
       "0  2002     11119226        1944071.0                     678155.0   \n",
       "1  2003     11395962        1953453.0                     683106.0   \n",
       "2  2004     11626900        2040905.0                     763673.0   \n",
       "3  2005     11735284        2015238.0                     717422.0   \n",
       "4  2006     11926403        2061024.0                     732787.0   \n",
       "\n",
       "   total non instruction staff fte  student fte per staff fte  \\\n",
       "0                        1265965.0                       6.76   \n",
       "1                        1270444.0                       6.75   \n",
       "2                        1277304.0                       6.71   \n",
       "3                        1297863.0                       6.66   \n",
       "4                        1328307.0                       6.57   \n",
       "\n",
       "   student fte per instruction staff fte  \\\n",
       "0                                  16.35   \n",
       "1                                  16.38   \n",
       "2                                  16.11   \n",
       "3                                  16.09   \n",
       "4                                  15.89   \n",
       "\n",
       "   student fte per non instruction staff fte  student fte pct change  \\\n",
       "0                                      12.07                    0.00   \n",
       "1                                      12.23                    2.49   \n",
       "2                                      12.29                    2.03   \n",
       "3                                      12.17                    0.93   \n",
       "4                                      12.01                    1.63   \n",
       "\n",
       "   staff fte pct change  instruction fte pct change  \\\n",
       "0                  0.00                        0.00   \n",
       "1                  0.48                        0.73   \n",
       "2                  4.48                       11.79   \n",
       "3                 -1.26                       -6.06   \n",
       "4                  2.27                        2.14   \n",
       "\n",
       "   non instruction fte pct change  \n",
       "0                            0.00  \n",
       "1                            0.35  \n",
       "2                            0.54  \n",
       "3                            1.61  \n",
       "4                            2.35  "
      ]
     },
     "execution_count": 224,
     "metadata": {},
     "output_type": "execute_result"
    }
   ],
   "source": [
    "all_inst_pct_change['student fte pct change'] = all_inst_pct_change['student fte'].pct_change()\n",
    "all_inst_pct_change['student fte pct change'] = (all_inst_pct_change['student fte pct change']*100).round(2)\n",
    "all_inst_pct_change = all_inst_pct_change.reset_index(drop=True)\n",
    "\n",
    "all_inst_pct_change['staff fte pct change'] = all_inst_pct_change['total staff fte'].pct_change()\n",
    "all_inst_pct_change['staff fte pct change'] = (all_inst_pct_change['staff fte pct change']*100).round(2)\n",
    "all_inst_pct_change = all_inst_pct_change.reset_index(drop=True)\n",
    "\n",
    "all_inst_pct_change['instruction fte pct change'] = all_inst_pct_change['total instruction staff fte'].pct_change()\n",
    "all_inst_pct_change['instruction fte pct change'] = (all_inst_pct_change['instruction fte pct change']*100).round(2)\n",
    "all_inst_pct_change = all_inst_pct_change.reset_index(drop=True)\n",
    "\n",
    "all_inst_pct_change['non instruction fte pct change'] = all_inst_pct_change['total non instruction staff fte'].pct_change()\n",
    "all_inst_pct_change['non instruction fte pct change'] = (all_inst_pct_change['non instruction fte pct change']*100).round(2)\n",
    "all_inst_pct_change = all_inst_pct_change.reset_index(drop=True)\n",
    "\n",
    "all_inst_pct_change = all_inst_pct_change.fillna(0.00)\n",
    "\n",
    "all_inst_pct_change.head()"
   ]
  },
  {
   "attachments": {},
   "cell_type": "markdown",
   "metadata": {},
   "source": [
    "All - Percentage Change - FTE\n",
    "2. Cumulative"
   ]
  },
  {
   "cell_type": "code",
   "execution_count": 225,
   "metadata": {},
   "outputs": [],
   "source": [
    "all_inst_base_student = 11196060\n",
    "base_date = '2002-01-01'\n",
    "\n",
    "def all_inst_pct_change_period_student(row):\n",
    "    if row['year'] != '2002-01-01':\n",
    "        return (((row['student fte']-all_inst_base_student)/all_inst_base_student)*100)\n",
    "    else:\n",
    "        return 0.0\n",
    "    \n",
    "all_inst_pct_change['student pct change cumulative'] = all_inst_pct_change.apply(lambda row: all_inst_pct_change_period_student(row), axis=1)\n",
    "all_inst_pct_change['student pct change cumulative'] = all_inst_pct_change['student pct change cumulative'].round(2)\n",
    "\n",
    "all_inst_pct_change = all_inst_pct_change.fillna(0.00)\n",
    "#print(all_inst_pct_change)"
   ]
  },
  {
   "cell_type": "code",
   "execution_count": 226,
   "metadata": {},
   "outputs": [],
   "source": [
    "all_inst_base_staff = 1948888.0\n",
    "base_date = '2002-01-01'\n",
    "\n",
    "def all_inst_pct_change_period_staff(row):\n",
    "    if row['year'] != '2002-01-01':\n",
    "        return (((row['total staff fte']-all_inst_base_staff)/all_inst_base_staff)*100)\n",
    "    else:\n",
    "        return 0.0\n",
    "    \n",
    "all_inst_pct_change['staff pct change cumulative'] = all_inst_pct_change.apply(lambda row: all_inst_pct_change_period_staff(row), axis=1)\n",
    "all_inst_pct_change['staff pct change cumulative'] = all_inst_pct_change['staff pct change cumulative'].round(2)\n",
    "\n",
    "all_inst_pct_change = all_inst_pct_change.fillna(0.00)\n",
    "#print(all_inst_pct_change)"
   ]
  },
  {
   "cell_type": "code",
   "execution_count": 227,
   "metadata": {},
   "outputs": [],
   "source": [
    "all_inst_base_instruction = 680832.0\n",
    "base_date = '2002-01-01'\n",
    "\n",
    "def all_inst_pct_change_period_instruction(row):\n",
    "    if row['year'] != '2002-01-01':\n",
    "        return (((row['total instruction staff fte']-all_inst_base_instruction)/all_inst_base_instruction)*100)\n",
    "    else:\n",
    "        return 0.0\n",
    "    \n",
    "all_inst_pct_change['instruction pct change cumulative'] = all_inst_pct_change.apply(lambda row: all_inst_pct_change_period_instruction(row), axis=1)\n",
    "all_inst_pct_change['instruction pct change cumulative'] = all_inst_pct_change['instruction pct change cumulative'].round(2)\n",
    "\n",
    "all_inst_pct_change = all_inst_pct_change.fillna(0.00)\n",
    "#print(all_inst_pct_change)"
   ]
  },
  {
   "cell_type": "code",
   "execution_count": 228,
   "metadata": {},
   "outputs": [
    {
     "name": "stdout",
     "output_type": "stream",
     "text": [
      "<class 'pandas.core.frame.DataFrame'>\n",
      "RangeIndex: 20 entries, 0 to 19\n",
      "Data columns (total 16 columns):\n",
      " #   Column                                     Non-Null Count  Dtype  \n",
      "---  ------                                     --------------  -----  \n",
      " 0   year                                       20 non-null     object \n",
      " 1   student fte                                20 non-null     int64  \n",
      " 2   total staff fte                            20 non-null     float64\n",
      " 3   total instruction staff fte                20 non-null     float64\n",
      " 4   total non instruction staff fte            20 non-null     float64\n",
      " 5   student fte per staff fte                  20 non-null     float64\n",
      " 6   student fte per instruction staff fte      20 non-null     float64\n",
      " 7   student fte per non instruction staff fte  20 non-null     float64\n",
      " 8   student fte pct change                     20 non-null     float64\n",
      " 9   staff fte pct change                       20 non-null     float64\n",
      " 10  instruction fte pct change                 20 non-null     float64\n",
      " 11  non instruction fte pct change             20 non-null     float64\n",
      " 12  student pct change cumulative              20 non-null     float64\n",
      " 13  staff pct change cumulative                20 non-null     float64\n",
      " 14  instruction pct change cumulative          20 non-null     float64\n",
      " 15  non instruction pct change cumulative      20 non-null     float64\n",
      "dtypes: float64(14), int64(1), object(1)\n",
      "memory usage: 2.6+ KB\n"
     ]
    }
   ],
   "source": [
    "all_inst_base_non_instruction = 1268106.0\n",
    "base_date = '2002-01-01'\n",
    "\n",
    "def all_inst_pct_change_period_non_instruction(row):\n",
    "    if row['year'] != '2002-01-01':\n",
    "        return (((row['total non instruction staff fte']-all_inst_base_non_instruction)/all_inst_base_non_instruction)*100)\n",
    "    else:\n",
    "        return 0.0\n",
    "    \n",
    "all_inst_pct_change['non instruction pct change cumulative'] = all_inst_pct_change.apply(lambda row: all_inst_pct_change_period_non_instruction(row), axis=1)\n",
    "all_inst_pct_change['non instruction pct change cumulative'] = all_inst_pct_change['non instruction pct change cumulative'].round(2)\n",
    "\n",
    "all_inst_pct_change = all_inst_pct_change.fillna(0.00)\n",
    "all_inst_pct_change.info()"
   ]
  },
  {
   "attachments": {},
   "cell_type": "markdown",
   "metadata": {},
   "source": [
    "All Institutions - Percentage Change - Ratio \n",
    "1. Annual"
   ]
  },
  {
   "cell_type": "code",
   "execution_count": 229,
   "metadata": {},
   "outputs": [],
   "source": [
    "all_inst_pct_change['student staff ratio pct change'] = all_inst_pct_change['student fte per staff fte'].pct_change()\n",
    "all_inst_pct_change['student staff ratio pct change'] = (all_inst_pct_change['student staff ratio pct change']*100).round(2)\n",
    "\n",
    "all_inst_pct_change['student instruction staff ratio pct change'] = all_inst_pct_change['student fte per instruction staff fte'].pct_change()\n",
    "all_inst_pct_change['student instruction staff ratio pct change'] = (all_inst_pct_change['student instruction staff ratio pct change']*100).round(2)\n",
    "\n",
    "all_inst_pct_change['student non instruction staff ratio pct change'] = all_inst_pct_change['student fte per non instruction staff fte'].pct_change()\n",
    "all_inst_pct_change['student non instruction staff ratio pct change'] = (all_inst_pct_change['student non instruction staff ratio pct change']*100).round(2)\n",
    "\n",
    "all_inst_pct_change = all_inst_pct_change.fillna(0.00)"
   ]
  },
  {
   "attachments": {},
   "cell_type": "markdown",
   "metadata": {},
   "source": [
    "All Institutions - Percentage Change - Ratio \n",
    "1. Cumulative"
   ]
  },
  {
   "cell_type": "code",
   "execution_count": 230,
   "metadata": {},
   "outputs": [],
   "source": [
    "all_inst_base_staff_ratio = 6.81\n",
    "base_date = '2002-01-01'\n",
    "\n",
    "def all_inst_pct_change_period_staff_ratio(row):\n",
    "    if row['year'] != '2002-01-01':\n",
    "        return (((row['student fte per staff fte']-all_inst_base_staff_ratio)/all_inst_base_staff_ratio)*100)\n",
    "    else:\n",
    "        return 0.0\n",
    "    \n",
    "all_inst_pct_change['student staff ratio pct change cumulative'] = all_inst_pct_change.apply(lambda row: all_inst_pct_change_period_staff_ratio(row), axis=1)\n",
    "all_inst_pct_change['student staff ratio pct change cumulative'] = all_inst_pct_change['student staff ratio pct change cumulative'].round(2)"
   ]
  },
  {
   "cell_type": "code",
   "execution_count": 231,
   "metadata": {},
   "outputs": [],
   "source": [
    "all_inst_base_instruction_staff_ratio = 16.41\n",
    "base_date = '2002-01-01'\n",
    "\n",
    "def all_inst_pct_change_period_instruction_staff_ratio(row):\n",
    "    if row['year'] != '2002-01-01':\n",
    "        return (((row['student fte per instruction staff fte']-all_inst_base_instruction_staff_ratio)/all_inst_base_instruction_staff_ratio)*100)\n",
    "    else:\n",
    "        return 0.0\n",
    "    \n",
    "all_inst_pct_change['student instruction staff ratio pct change cumulative'] = all_inst_pct_change.apply(lambda row: all_inst_pct_change_period_instruction_staff_ratio(row), axis=1)\n",
    "all_inst_pct_change['student instruction staff ratio pct change cumulative'] = all_inst_pct_change['student instruction staff ratio pct change cumulative'].round(2)"
   ]
  },
  {
   "cell_type": "code",
   "execution_count": 232,
   "metadata": {},
   "outputs": [
    {
     "name": "stdout",
     "output_type": "stream",
     "text": [
      "<class 'pandas.core.frame.DataFrame'>\n",
      "RangeIndex: 20 entries, 0 to 19\n",
      "Data columns (total 22 columns):\n",
      " #   Column                                                     Non-Null Count  Dtype  \n",
      "---  ------                                                     --------------  -----  \n",
      " 0   year                                                       20 non-null     object \n",
      " 1   student fte                                                20 non-null     int64  \n",
      " 2   total staff fte                                            20 non-null     float64\n",
      " 3   total instruction staff fte                                20 non-null     float64\n",
      " 4   total non instruction staff fte                            20 non-null     float64\n",
      " 5   student fte per staff fte                                  20 non-null     float64\n",
      " 6   student fte per instruction staff fte                      20 non-null     float64\n",
      " 7   student fte per non instruction staff fte                  20 non-null     float64\n",
      " 8   student fte pct change                                     20 non-null     float64\n",
      " 9   staff fte pct change                                       20 non-null     float64\n",
      " 10  instruction fte pct change                                 20 non-null     float64\n",
      " 11  non instruction fte pct change                             20 non-null     float64\n",
      " 12  student pct change cumulative                              20 non-null     float64\n",
      " 13  staff pct change cumulative                                20 non-null     float64\n",
      " 14  instruction pct change cumulative                          20 non-null     float64\n",
      " 15  non instruction pct change cumulative                      20 non-null     float64\n",
      " 16  student staff ratio pct change                             20 non-null     float64\n",
      " 17  student instruction staff ratio pct change                 20 non-null     float64\n",
      " 18  student non instruction staff ratio pct change             20 non-null     float64\n",
      " 19  student staff ratio pct change cumulative                  20 non-null     float64\n",
      " 20  student instruction staff ratio pct change cumulative      20 non-null     float64\n",
      " 21  student non instruction staff ratio pct change cumulative  20 non-null     float64\n",
      "dtypes: float64(20), int64(1), object(1)\n",
      "memory usage: 3.6+ KB\n"
     ]
    }
   ],
   "source": [
    "all_inst_base_non_instruction_staff_ratio = 12.20\n",
    "base_date = '2002-01-01'\n",
    "\n",
    "def all_inst_pct_change_period_non_instruction_staff_ratio(row):\n",
    "    if row['year'] != '2002-01-01':\n",
    "        return (((row['student fte per non instruction staff fte']-all_inst_base_non_instruction_staff_ratio)/all_inst_base_non_instruction_staff_ratio)*100)\n",
    "    else:\n",
    "        return 0.0\n",
    "    \n",
    "all_inst_pct_change['student non instruction staff ratio pct change cumulative'] = all_inst_pct_change.apply(lambda row: all_inst_pct_change_period_non_instruction_staff_ratio(row), axis=1)\n",
    "all_inst_pct_change['student non instruction staff ratio pct change cumulative'] = all_inst_pct_change['student non instruction staff ratio pct change cumulative'].round(2)\n",
    "\n",
    "all_inst_pct_change.info(2)"
   ]
  },
  {
   "attachments": {},
   "cell_type": "markdown",
   "metadata": {},
   "source": [
    "All Institutions - Restacking datasets - by type\n",
    "1. FTE Total, FTE Percentage Chanage - Annual, FTE Percentage Chanage - Cumulative\n",
    "2. Ratio Total, Ratio Percentage Chanage - Annual, Ratio Percentage Chanage - Cumulative"
   ]
  },
  {
   "cell_type": "code",
   "execution_count": 233,
   "metadata": {},
   "outputs": [
    {
     "data": {
      "text/html": [
       "<div>\n",
       "<style scoped>\n",
       "    .dataframe tbody tr th:only-of-type {\n",
       "        vertical-align: middle;\n",
       "    }\n",
       "\n",
       "    .dataframe tbody tr th {\n",
       "        vertical-align: top;\n",
       "    }\n",
       "\n",
       "    .dataframe thead th {\n",
       "        text-align: right;\n",
       "    }\n",
       "</style>\n",
       "<table border=\"1\" class=\"dataframe\">\n",
       "  <thead>\n",
       "    <tr style=\"text-align: right;\">\n",
       "      <th></th>\n",
       "      <th>year</th>\n",
       "      <th>fte</th>\n",
       "      <th>fte pct change</th>\n",
       "      <th>fte pct change cumulative</th>\n",
       "      <th>type</th>\n",
       "    </tr>\n",
       "  </thead>\n",
       "  <tbody>\n",
       "    <tr>\n",
       "      <th>0</th>\n",
       "      <td>2002</td>\n",
       "      <td>11119226.0</td>\n",
       "      <td>0.00</td>\n",
       "      <td>-0.69</td>\n",
       "      <td>student</td>\n",
       "    </tr>\n",
       "    <tr>\n",
       "      <th>1</th>\n",
       "      <td>2003</td>\n",
       "      <td>11395962.0</td>\n",
       "      <td>2.49</td>\n",
       "      <td>1.79</td>\n",
       "      <td>student</td>\n",
       "    </tr>\n",
       "  </tbody>\n",
       "</table>\n",
       "</div>"
      ],
      "text/plain": [
       "   year         fte  fte pct change  fte pct change cumulative     type\n",
       "0  2002  11119226.0            0.00                      -0.69  student\n",
       "1  2003  11395962.0            2.49                       1.79  student"
      ]
     },
     "execution_count": 233,
     "metadata": {},
     "output_type": "execute_result"
    }
   ],
   "source": [
    "cols_fte = ['year','fte','fte pct change','fte pct change cumulative','type']\n",
    "\n",
    "all_inst_pct_change_total_student = all_inst_pct_change[['year','student fte','student fte pct change','student pct change cumulative']]\n",
    "all_inst_pct_change_total_student = all_inst_pct_change_total_student.reset_index(drop=True)\n",
    "all_inst_pct_change_total_student[\"type\"] = \"student\"\n",
    "all_inst_pct_change_total_student.columns = cols_fte\n",
    "all_inst_pct_change_total_student = all_inst_pct_change_total_student.reset_index(drop=True)\n",
    "#yale_pct_change_total_student.head(2)\n",
    "\n",
    "all_inst_fte_pct_change_total_staff = all_inst_pct_change[['year','total staff fte','staff fte pct change','staff pct change cumulative']]\n",
    "all_inst_fte_pct_change_total_staff = all_inst_fte_pct_change_total_staff.reset_index(drop=True)\n",
    "all_inst_fte_pct_change_total_staff[\"type\"] = \"all staff\"\n",
    "all_inst_fte_pct_change_total_staff.columns = cols_fte\n",
    "all_inst_fte_pct_change_total_staff = all_inst_fte_pct_change_total_staff.reset_index(drop=True)\n",
    "#yale_pct_change_total_staff.head(2)\n",
    "\n",
    "all_inst_fte_pct_change_total_instruction = all_inst_pct_change[['year','total instruction staff fte','instruction fte pct change','instruction pct change cumulative']]\n",
    "all_inst_fte_pct_change_total_instruction = all_inst_fte_pct_change_total_instruction.reset_index(drop=True)\n",
    "all_inst_fte_pct_change_total_instruction[\"type\"] = \"instructional staff\"\n",
    "all_inst_fte_pct_change_total_instruction.columns = cols_fte\n",
    "all_inst_fte_pct_change_total_instruction = all_inst_fte_pct_change_total_instruction.reset_index(drop=True)\n",
    "#yale_pct_change_total_non_instruction.head(2)\n",
    "\n",
    "all_inst_fte_pct_change_total_non_instruction = all_inst_pct_change[['year','total non instruction staff fte','non instruction fte pct change','non instruction pct change cumulative']]\n",
    "all_inst_fte_pct_change_total_non_instruction = all_inst_fte_pct_change_total_non_instruction.reset_index(drop=True)\n",
    "all_inst_fte_pct_change_total_non_instruction[\"type\"] = \"non instructional staff\"\n",
    "all_inst_fte_pct_change_total_non_instruction.columns = cols_fte\n",
    "all_inst_fte_pct_change_total_non_instruction = all_inst_fte_pct_change_total_non_instruction.reset_index(drop=True)\n",
    "#yale_pct_change_total_non_instruction.head(2)\n",
    "\n",
    "all_inst_fte_pct_change_by_type = pd.concat([all_inst_pct_change_total_student,all_inst_fte_pct_change_total_staff,all_inst_fte_pct_change_total_instruction,all_inst_fte_pct_change_total_non_instruction],ignore_index=False)\n",
    "all_inst_fte_pct_change_by_type=all_inst_fte_pct_change_by_type.reset_index(drop=True)\n",
    "\n",
    "all_inst_fte_pct_change_by_type.head(2)"
   ]
  },
  {
   "attachments": {},
   "cell_type": "markdown",
   "metadata": {},
   "source": [
    "Visualizations -- YALE"
   ]
  },
  {
   "cell_type": "code",
   "execution_count": 234,
   "metadata": {},
   "outputs": [
    {
     "data": {
      "image/png": "[encoded data removed]",
      "text/plain": [
       "<Figure size 640x480 with 1 Axes>"
      ]
     },
     "metadata": {},
     "output_type": "display_data"
    }
   ],
   "source": [
    "sns.set_theme(style=\"ticks\")\n",
    "custom_palette = ['#1f78b4','#b2df8a','#a6cee3']\n",
    "              \n",
    "yale_student_staff_ratio = sns.lineplot(x='year',y='student fte per staff fte', hue ='type', data=yale_ratio_pct_change_by_type, legend='brief', palette=custom_palette)\n",
    "\n",
    "plt.ylabel('student fte per 1 staff fte')\n",
    "plt.xticks(rotation=30)\n",
    "plt.autoscale(enable=True, axis='x', tight=True)\n",
    "plt.legend(['all staff fte','instructional staff','non instructional staff'])\n",
    "plt.title('Yale student to staff ratio, by staff type: Fall 2002 - Spring 2022 ')\n",
    "plt.show()"
   ]
  },
  {
   "cell_type": "code",
   "execution_count": 235,
   "metadata": {},
   "outputs": [
    {
     "data": {
      "image/png": "[encoded data removed]",
      "text/plain": [
       "<Figure size 640x480 with 1 Axes>"
      ]
     },
     "metadata": {},
     "output_type": "display_data"
    }
   ],
   "source": [
    "sns.set_theme(style=\"ticks\")\n",
    "custom_palette = ['#4d4d4d','#1f78b4','#b2df8a','#a6cee3']\n",
    "              \n",
    "fte_all = sns.lineplot(x='year',y='fte', hue ='type', data=yale_fte_pct_change_by_type, legend='brief', palette=custom_palette)\n",
    "\n",
    "plt.ylabel('total full time equivalent (fte)')\n",
    "plt.xticks(rotation=30)\n",
    "plt.autoscale(enable=True, axis='x', tight=True)\n",
    "plt.legend(['student fte','all staff fte','instructional staff','non instructional staff'])\n",
    "plt.title('Yale enrollment fte and staff fte: Fall 2002 - Spring 2022')\n",
    "plt.show()"
   ]
  },
  {
   "cell_type": "code",
   "execution_count": 262,
   "metadata": {},
   "outputs": [
    {
     "data": {
      "application/vnd.plotly.v1+json": {
       "config": {
        "plotlyServerURL": "https://plot.ly"
       },
       "data": [
        {
         "line": {
          "color": "#3a3940",
          "width": 3
         },
         "mode": "lines",
         "name": "total student",
         "type": "scatter",
         "visible": true,
         "x": [
          "2002",
          "2003",
          "2004",
          "2005",
          "2006",
          "2007",
          "2008",
          "2009",
          "2010",
          "2011",
          "2012",
          "2013",
          "2014",
          "2015",
          "2016",
          "2017",
          "2018",
          "2019",
          "2020",
          "2021"
         ],
         "y": [
          11261,
          11315,
          11276,
          11360,
          11303,
          11345,
          10109,
          11507,
          11597,
          11763,
          11804,
          11997,
          12223,
          12302,
          12388,
          12915,
          13353,
          13522,
          11964,
          14439
         ]
        },
        {
         "line": {
          "color": "#142A9C",
          "width": 3
         },
         "mode": "lines",
         "name": "total staff",
         "type": "scatter",
         "visible": true,
         "x": [
          "2002",
          "2003",
          "2004",
          "2005",
          "2006",
          "2007",
          "2008",
          "2009",
          "2010",
          "2011",
          "2012",
          "2013",
          "2014",
          "2015",
          "2016",
          "2017",
          "2018",
          "2019",
          "2020",
          "2021"
         ],
         "y": [
          5588,
          5924,
          6013,
          6355,
          6604,
          6907,
          7463,
          7560,
          7351,
          7347,
          7301,
          7496,
          7565,
          7750,
          7880,
          7976,
          8074,
          8307,
          8327,
          8415
         ]
        },
        {
         "line": {
          "color": "#A1A1CE",
          "width": 2
         },
         "mode": "lines",
         "name": "instructional staff",
         "type": "scatter",
         "visible": false,
         "x": [
          "2002",
          "2003",
          "2004",
          "2005",
          "2006",
          "2007",
          "2008",
          "2009",
          "2010",
          "2011",
          "2012",
          "2013",
          "2014",
          "2015",
          "2016",
          "2017",
          "2018",
          "2019",
          "2020",
          "2021"
         ],
         "y": [
          1309,
          1422,
          1483,
          1601,
          1655,
          1746,
          1854,
          1948,
          1957,
          1956,
          1789,
          1835,
          1918,
          1929,
          2041,
          2110,
          1976,
          2059,
          2066,
          2153
         ]
        },
        {
         "line": {
          "color": "#7498D2",
          "width": 2
         },
         "mode": "lines",
         "name": "non instructional staff",
         "type": "scatter",
         "visible": false,
         "x": [
          "2002",
          "2003",
          "2004",
          "2005",
          "2006",
          "2007",
          "2008",
          "2009",
          "2010",
          "2011",
          "2012",
          "2013",
          "2014",
          "2015",
          "2016",
          "2017",
          "2018",
          "2019",
          "2020",
          "2021"
         ],
         "y": [
          4279,
          4502,
          4530,
          4754,
          4949,
          5161,
          5609,
          5612,
          5394,
          5391,
          5511,
          5661,
          5648,
          5820,
          5838,
          5866,
          6098,
          6248,
          6261,
          6261
         ]
        }
       ],
       "layout": {
        "autosize": false,
        "height": 508,
        "hoverdistance": 100,
        "hoverlabel": {
         "namelength": -1
        },
        "hovermode": "x",
        "legend": {
         "bgcolor": "#FAFDF1",
         "orientation": "h",
         "x": 0,
         "y": 1
        },
        "margin": {
         "b": 20,
         "l": 20,
         "r": 20,
         "t": 20
        },
        "paper_bgcolor": "#FAFDF1",
        "plot_bgcolor": "#FAFDF1",
        "spikedistance": 1000,
        "template": {
         "data": {
          "bar": [
           {
            "error_x": {
             "color": "#2a3f5f"
            },
            "error_y": {
             "color": "#2a3f5f"
            },
            "marker": {
             "line": {
              "color": "white",
              "width": 0.5
             },
             "pattern": {
              "fillmode": "overlay",
              "size": 10,
              "solidity": 0.2
             }
            },
            "type": "bar"
           }
          ],
          "barpolar": [
           {
            "marker": {
             "line": {
              "color": "white",
              "width": 0.5
             },
             "pattern": {
              "fillmode": "overlay",
              "size": 10,
              "solidity": 0.2
             }
            },
            "type": "barpolar"
           }
          ],
          "carpet": [
           {
            "aaxis": {
             "endlinecolor": "#2a3f5f",
             "gridcolor": "#C8D4E3",
             "linecolor": "#C8D4E3",
             "minorgridcolor": "#C8D4E3",
             "startlinecolor": "#2a3f5f"
            },
            "baxis": {
             "endlinecolor": "#2a3f5f",
             "gridcolor": "#C8D4E3",
             "linecolor": "#C8D4E3",
             "minorgridcolor": "#C8D4E3",
             "startlinecolor": "#2a3f5f"
            },
            "type": "carpet"
           }
          ],
          "choropleth": [
           {
            "colorbar": {
             "outlinewidth": 0,
             "ticks": ""
            },
            "type": "choropleth"
           }
          ],
          "contour": [
           {
            "colorbar": {
             "outlinewidth": 0,
             "ticks": ""
            },
            "colorscale": [
             [
              0,
              "#0d0887"
             ],
             [
              0.1111111111111111,
              "#46039f"
             ],
             [
              0.2222222222222222,
              "#7201a8"
             ],
             [
              0.3333333333333333,
              "#9c179e"
             ],
             [
              0.4444444444444444,
              "#bd3786"
             ],
             [
              0.5555555555555556,
              "#d8576b"
             ],
             [
              0.6666666666666666,
              "#ed7953"
             ],
             [
              0.7777777777777778,
              "#fb9f3a"
             ],
             [
              0.8888888888888888,
              "#fdca26"
             ],
             [
              1,
              "#f0f921"
             ]
            ],
            "type": "contour"
           }
          ],
          "contourcarpet": [
           {
            "colorbar": {
             "outlinewidth": 0,
             "ticks": ""
            },
            "type": "contourcarpet"
           }
          ],
          "heatmap": [
           {
            "colorbar": {
             "outlinewidth": 0,
             "ticks": ""
            },
            "colorscale": [
             [
              0,
              "#0d0887"
             ],
             [
              0.1111111111111111,
              "#46039f"
             ],
             [
              0.2222222222222222,
              "#7201a8"
             ],
             [
              0.3333333333333333,
              "#9c179e"
             ],
             [
              0.4444444444444444,
              "#bd3786"
             ],
             [
              0.5555555555555556,
              "#d8576b"
             ],
             [
              0.6666666666666666,
              "#ed7953"
             ],
             [
              0.7777777777777778,
              "#fb9f3a"
             ],
             [
              0.8888888888888888,
              "#fdca26"
             ],
             [
              1,
              "#f0f921"
             ]
            ],
            "type": "heatmap"
           }
          ],
          "heatmapgl": [
           {
            "colorbar": {
             "outlinewidth": 0,
             "ticks": ""
            },
            "colorscale": [
             [
              0,
              "#0d0887"
             ],
             [
              0.1111111111111111,
              "#46039f"
             ],
             [
              0.2222222222222222,
              "#7201a8"
             ],
             [
              0.3333333333333333,
              "#9c179e"
             ],
             [
              0.4444444444444444,
              "#bd3786"
             ],
             [
              0.5555555555555556,
              "#d8576b"
             ],
             [
              0.6666666666666666,
              "#ed7953"
             ],
             [
              0.7777777777777778,
              "#fb9f3a"
             ],
             [
              0.8888888888888888,
              "#fdca26"
             ],
             [
              1,
              "#f0f921"
             ]
            ],
            "type": "heatmapgl"
           }
          ],
          "histogram": [
           {
            "marker": {
             "pattern": {
              "fillmode": "overlay",
              "size": 10,
              "solidity": 0.2
             }
            },
            "type": "histogram"
           }
          ],
          "histogram2d": [
           {
            "colorbar": {
             "outlinewidth": 0,
             "ticks": ""
            },
            "colorscale": [
             [
              0,
              "#0d0887"
             ],
             [
              0.1111111111111111,
              "#46039f"
             ],
             [
              0.2222222222222222,
              "#7201a8"
             ],
             [
              0.3333333333333333,
              "#9c179e"
             ],
             [
              0.4444444444444444,
              "#bd3786"
             ],
             [
              0.5555555555555556,
              "#d8576b"
             ],
             [
              0.6666666666666666,
              "#ed7953"
             ],
             [
              0.7777777777777778,
              "#fb9f3a"
             ],
             [
              0.8888888888888888,
              "#fdca26"
             ],
             [
              1,
              "#f0f921"
             ]
            ],
            "type": "histogram2d"
           }
          ],
          "histogram2dcontour": [
           {
            "colorbar": {
             "outlinewidth": 0,
             "ticks": ""
            },
            "colorscale": [
             [
              0,
              "#0d0887"
             ],
             [
              0.1111111111111111,
              "#46039f"
             ],
             [
              0.2222222222222222,
              "#7201a8"
             ],
             [
              0.3333333333333333,
              "#9c179e"
             ],
             [
              0.4444444444444444,
              "#bd3786"
             ],
             [
              0.5555555555555556,
              "#d8576b"
             ],
             [
              0.6666666666666666,
              "#ed7953"
             ],
             [
              0.7777777777777778,
              "#fb9f3a"
             ],
             [
              0.8888888888888888,
              "#fdca26"
             ],
             [
              1,
              "#f0f921"
             ]
            ],
            "type": "histogram2dcontour"
           }
          ],
          "mesh3d": [
           {
            "colorbar": {
             "outlinewidth": 0,
             "ticks": ""
            },
            "type": "mesh3d"
           }
          ],
          "parcoords": [
           {
            "line": {
             "colorbar": {
              "outlinewidth": 0,
              "ticks": ""
             }
            },
            "type": "parcoords"
           }
          ],
          "pie": [
           {
            "automargin": true,
            "type": "pie"
           }
          ],
          "scatter": [
           {
            "fillpattern": {
             "fillmode": "overlay",
             "size": 10,
             "solidity": 0.2
            },
            "type": "scatter"
           }
          ],
          "scatter3d": [
           {
            "line": {
             "colorbar": {
              "outlinewidth": 0,
              "ticks": ""
             }
            },
            "marker": {
             "colorbar": {
              "outlinewidth": 0,
              "ticks": ""
             }
            },
            "type": "scatter3d"
           }
          ],
          "scattercarpet": [
           {
            "marker": {
             "colorbar": {
              "outlinewidth": 0,
              "ticks": ""
             }
            },
            "type": "scattercarpet"
           }
          ],
          "scattergeo": [
           {
            "marker": {
             "colorbar": {
              "outlinewidth": 0,
              "ticks": ""
             }
            },
            "type": "scattergeo"
           }
          ],
          "scattergl": [
           {
            "marker": {
             "colorbar": {
              "outlinewidth": 0,
              "ticks": ""
             }
            },
            "type": "scattergl"
           }
          ],
          "scattermapbox": [
           {
            "marker": {
             "colorbar": {
              "outlinewidth": 0,
              "ticks": ""
             }
            },
            "type": "scattermapbox"
           }
          ],
          "scatterpolar": [
           {
            "marker": {
             "colorbar": {
              "outlinewidth": 0,
              "ticks": ""
             }
            },
            "type": "scatterpolar"
           }
          ],
          "scatterpolargl": [
           {
            "marker": {
             "colorbar": {
              "outlinewidth": 0,
              "ticks": ""
             }
            },
            "type": "scatterpolargl"
           }
          ],
          "scatterternary": [
           {
            "marker": {
             "colorbar": {
              "outlinewidth": 0,
              "ticks": ""
             }
            },
            "type": "scatterternary"
           }
          ],
          "surface": [
           {
            "colorbar": {
             "outlinewidth": 0,
             "ticks": ""
            },
            "colorscale": [
             [
              0,
              "#0d0887"
             ],
             [
              0.1111111111111111,
              "#46039f"
             ],
             [
              0.2222222222222222,
              "#7201a8"
             ],
             [
              0.3333333333333333,
              "#9c179e"
             ],
             [
              0.4444444444444444,
              "#bd3786"
             ],
             [
              0.5555555555555556,
              "#d8576b"
             ],
             [
              0.6666666666666666,
              "#ed7953"
             ],
             [
              0.7777777777777778,
              "#fb9f3a"
             ],
             [
              0.8888888888888888,
              "#fdca26"
             ],
             [
              1,
              "#f0f921"
             ]
            ],
            "type": "surface"
           }
          ],
          "table": [
           {
            "cells": {
             "fill": {
              "color": "#EBF0F8"
             },
             "line": {
              "color": "white"
             }
            },
            "header": {
             "fill": {
              "color": "#C8D4E3"
             },
             "line": {
              "color": "white"
             }
            },
            "type": "table"
           }
          ]
         },
         "layout": {
          "annotationdefaults": {
           "arrowcolor": "#2a3f5f",
           "arrowhead": 0,
           "arrowwidth": 1
          },
          "autotypenumbers": "strict",
          "coloraxis": {
           "colorbar": {
            "outlinewidth": 0,
            "ticks": ""
           }
          },
          "colorscale": {
           "diverging": [
            [
             0,
             "#8e0152"
            ],
            [
             0.1,
             "#c51b7d"
            ],
            [
             0.2,
             "#de77ae"
            ],
            [
             0.3,
             "#f1b6da"
            ],
            [
             0.4,
             "#fde0ef"
            ],
            [
             0.5,
             "#f7f7f7"
            ],
            [
             0.6,
             "#e6f5d0"
            ],
            [
             0.7,
             "#b8e186"
            ],
            [
             0.8,
             "#7fbc41"
            ],
            [
             0.9,
             "#4d9221"
            ],
            [
             1,
             "#276419"
            ]
           ],
           "sequential": [
            [
             0,
             "#0d0887"
            ],
            [
             0.1111111111111111,
             "#46039f"
            ],
            [
             0.2222222222222222,
             "#7201a8"
            ],
            [
             0.3333333333333333,
             "#9c179e"
            ],
            [
             0.4444444444444444,
             "#bd3786"
            ],
            [
             0.5555555555555556,
             "#d8576b"
            ],
            [
             0.6666666666666666,
             "#ed7953"
            ],
            [
             0.7777777777777778,
             "#fb9f3a"
            ],
            [
             0.8888888888888888,
             "#fdca26"
            ],
            [
             1,
             "#f0f921"
            ]
           ],
           "sequentialminus": [
            [
             0,
             "#0d0887"
            ],
            [
             0.1111111111111111,
             "#46039f"
            ],
            [
             0.2222222222222222,
             "#7201a8"
            ],
            [
             0.3333333333333333,
             "#9c179e"
            ],
            [
             0.4444444444444444,
             "#bd3786"
            ],
            [
             0.5555555555555556,
             "#d8576b"
            ],
            [
             0.6666666666666666,
             "#ed7953"
            ],
            [
             0.7777777777777778,
             "#fb9f3a"
            ],
            [
             0.8888888888888888,
             "#fdca26"
            ],
            [
             1,
             "#f0f921"
            ]
           ]
          },
          "colorway": [
           "#636efa",
           "#EF553B",
           "#00cc96",
           "#ab63fa",
           "#FFA15A",
           "#19d3f3",
           "#FF6692",
           "#B6E880",
           "#FF97FF",
           "#FECB52"
          ],
          "font": {
           "color": "#2a3f5f"
          },
          "geo": {
           "bgcolor": "white",
           "lakecolor": "white",
           "landcolor": "white",
           "showlakes": true,
           "showland": true,
           "subunitcolor": "#C8D4E3"
          },
          "hoverlabel": {
           "align": "left"
          },
          "hovermode": "closest",
          "mapbox": {
           "style": "light"
          },
          "paper_bgcolor": "white",
          "plot_bgcolor": "white",
          "polar": {
           "angularaxis": {
            "gridcolor": "#EBF0F8",
            "linecolor": "#EBF0F8",
            "ticks": ""
           },
           "bgcolor": "white",
           "radialaxis": {
            "gridcolor": "#EBF0F8",
            "linecolor": "#EBF0F8",
            "ticks": ""
           }
          },
          "scene": {
           "xaxis": {
            "backgroundcolor": "white",
            "gridcolor": "#DFE8F3",
            "gridwidth": 2,
            "linecolor": "#EBF0F8",
            "showbackground": true,
            "ticks": "",
            "zerolinecolor": "#EBF0F8"
           },
           "yaxis": {
            "backgroundcolor": "white",
            "gridcolor": "#DFE8F3",
            "gridwidth": 2,
            "linecolor": "#EBF0F8",
            "showbackground": true,
            "ticks": "",
            "zerolinecolor": "#EBF0F8"
           },
           "zaxis": {
            "backgroundcolor": "white",
            "gridcolor": "#DFE8F3",
            "gridwidth": 2,
            "linecolor": "#EBF0F8",
            "showbackground": true,
            "ticks": "",
            "zerolinecolor": "#EBF0F8"
           }
          },
          "shapedefaults": {
           "line": {
            "color": "#2a3f5f"
           }
          },
          "ternary": {
           "aaxis": {
            "gridcolor": "#DFE8F3",
            "linecolor": "#A2B1C6",
            "ticks": ""
           },
           "baxis": {
            "gridcolor": "#DFE8F3",
            "linecolor": "#A2B1C6",
            "ticks": ""
           },
           "bgcolor": "white",
           "caxis": {
            "gridcolor": "#DFE8F3",
            "linecolor": "#A2B1C6",
            "ticks": ""
           }
          },
          "title": {
           "x": 0.05
          },
          "xaxis": {
           "automargin": true,
           "gridcolor": "#EBF0F8",
           "linecolor": "#EBF0F8",
           "ticks": "",
           "title": {
            "standoff": 15
           },
           "zerolinecolor": "#EBF0F8",
           "zerolinewidth": 2
          },
          "yaxis": {
           "automargin": true,
           "gridcolor": "#EBF0F8",
           "linecolor": "#EBF0F8",
           "ticks": "",
           "title": {
            "standoff": 15
           },
           "zerolinecolor": "#EBF0F8",
           "zerolinewidth": 2
          }
         }
        },
        "title": {
         "automargin": true,
         "font": {
          "color": "#3a3940",
          "family": "Georgia",
          "size": 22
         },
         "text": "<b>Title</b>",
         "yref": "paper"
        },
        "updatemenus": [
         {
          "active": 0,
          "buttons": [
           {
            "args": [
             {
              "visible": [
               true,
               true,
               false,
               false
              ]
             }
            ],
            "label": "Total",
            "method": "update"
           },
           {
            "args": [
             {
              "visible": [
               true,
               true,
               true,
               true
              ]
             }
            ],
            "label": "Staff Type",
            "method": "update"
           }
          ],
          "direction": "right",
          "type": "buttons",
          "x": 1,
          "y": 1.15
         }
        ],
        "width": 608,
        "xaxis": {
         "fixedrange": true,
         "linecolor": "#BCCCDC",
         "showgrid": false,
         "showspikes": true,
         "spikecolor": "#999999",
         "spikedash": "dot",
         "spikemode": "across",
         "spikethickness": 2,
         "tickangle": 45,
         "title": {
          "text": "year"
         }
        },
        "yaxis": {
         "fixedrange": true,
         "linecolor": "#BCCCDC",
         "range": [
          0,
          15000
         ],
         "showgrid": false,
         "title": {
          "text": "total full-time equivalent (FTE) headcount"
         }
        }
       }
      }
     },
     "metadata": {},
     "output_type": "display_data"
    }
   ],
   "source": [
    "pio.templates.default = \"plotly_white\"\n",
    "\n",
    "fig_fte = go.Figure()\n",
    "fig_fte.add_trace(go.Scatter(x=yale_pct_change[\"year\"],y=yale_pct_change['student fte'],name=\"total student\",mode=\"lines\",line=dict(width=3,color='#3a3940'),visible=True))\n",
    "fig_fte.add_trace(go.Scatter(x=yale_pct_change[\"year\"],y=yale_pct_change['total staff fte'],name=\"total staff\",mode=\"lines\",line=dict(width=3,color='#142A9C'),visible=True))\n",
    "fig_fte.add_trace(go.Scatter(x=yale_pct_change[\"year\"],y=yale_pct_change['total instruction staff fte'],name=\"instructional staff\",mode=\"lines\",line=dict(width=2,color='#A1A1CE'),visible=False))\n",
    "fig_fte.add_trace(go.Scatter(x=yale_pct_change[\"year\"],y=yale_pct_change['total non instruction staff fte'],name=\"non instructional staff\",mode=\"lines\",line=dict(width=2,color='#7498D2'),visible=False))\n",
    "\n",
    "\n",
    "fig_fte.update_layout(\n",
    "    plot_bgcolor=\"#FAFDF1\",\n",
    "    paper_bgcolor=\"#FAFDF1\",\n",
    "    hovermode=\"x\",\n",
    "    hoverdistance=100, # Distance to show hover label of data point\n",
    "    spikedistance=1000, # Distance to show spike\n",
    "    xaxis=dict(\n",
    "        title='year',\n",
    "        linecolor=\"#BCCCDC\",\n",
    "        showspikes=True,\n",
    "        spikethickness=2,\n",
    "        spikedash=\"dot\",\n",
    "        spikecolor=\"#999999\",\n",
    "        spikemode=\"across\",\n",
    "        showgrid=False,\n",
    "        fixedrange = True\n",
    "    ),\n",
    "    yaxis = dict(\n",
    "        title=\"total full-time equivalent (FTE) headcount\",\n",
    "        linecolor=\"#BCCCDC\",\n",
    "        showgrid=False,\n",
    "        fixedrange = True,\n",
    "        range = [0,15000]\n",
    "    )\n",
    ")\n",
    "\n",
    "fig_fte.update_layout(\n",
    "    autosize=False,\n",
    "    width=608,\n",
    "    height=508,\n",
    "    margin=dict(l=20, r=20, t=20, b=20))\n",
    "\n",
    "fig_fte.update_layout(legend = dict(\n",
    "    orientation = \"h\",\n",
    "    x=0,\n",
    "    y=1,\n",
    "    bgcolor=\"#FAFDF1\")\n",
    ")\n",
    "\n",
    "fig_fte.update_layout(\n",
    "    title=dict(text=\"<b>Title</b>\", font=dict(size=24), automargin=True, yref='paper')\n",
    ")\n",
    "\n",
    "fig_fte.update_layout(\n",
    "    title_font_family=\"Georgia\",\n",
    "    title_font_color=\"#3a3940\",\n",
    "    title_font_size = 22\n",
    ")\n",
    "\n",
    "\n",
    "fig_fte = fig_fte.update_xaxes(tickangle=45)\n",
    "fig_fte.update_layout(hoverlabel_namelength=-1)\n",
    "\n",
    "fig_fte.update_layout(\n",
    "    updatemenus=[\n",
    "        dict(\n",
    "            type=\"buttons\",\n",
    "            direction=\"right\",\n",
    "            active=0,\n",
    "            x=1,\n",
    "            y=1.15,\n",
    "            buttons=list([\n",
    "                dict(label=\"Total\",\n",
    "                     method=\"update\",\n",
    "                     args=[{\"visible\": [True, True, False, False]}]),\n",
    "                dict(label=\"Staff Type\",\n",
    "                     method=\"update\",\n",
    "                     args=[{\"visible\": [True, True, True, True]}])\n",
    "            ]),\n",
    "        )\n",
    "    ])\n",
    "\n",
    "fig_fte.show()\n",
    "#fig_fte.write_html(\"/Users/ellenruthconnell/Documents/INFO_696/4_visualizations/figure1.html\")"
   ]
  },
  {
   "cell_type": "code",
   "execution_count": 263,
   "metadata": {},
   "outputs": [
    {
     "data": {
      "application/vnd.plotly.v1+json": {
       "config": {
        "plotlyServerURL": "https://plot.ly"
       },
       "data": [
        {
         "marker": {
          "color": "#142A9C"
         },
         "name": "student : staff ratio",
         "orientation": "v",
         "type": "bar",
         "visible": true,
         "width": 0.3,
         "x": [
          "2002",
          "2003",
          "2004",
          "2005",
          "2006",
          "2007",
          "2008",
          "2009",
          "2010",
          "2011",
          "2012",
          "2013",
          "2014",
          "2015",
          "2016",
          "2017",
          "2018",
          "2019",
          "2020",
          "2021"
         ],
         "xaxis": "x",
         "y": [
          2.02,
          1.91,
          1.88,
          1.79,
          1.71,
          1.64,
          1.35,
          1.52,
          1.58,
          1.6,
          1.62,
          1.6,
          1.62,
          1.59,
          1.57,
          1.62,
          1.65,
          1.63,
          1.44,
          1.72
         ],
         "yaxis": "y"
        },
        {
         "marker": {
          "color": "#A1A1CE"
         },
         "name": "student : instructional staff ratio",
         "orientation": "v",
         "type": "bar",
         "visible": false,
         "width": 0.3,
         "x": [
          "2002",
          "2003",
          "2004",
          "2005",
          "2006",
          "2007",
          "2008",
          "2009",
          "2010",
          "2011",
          "2012",
          "2013",
          "2014",
          "2015",
          "2016",
          "2017",
          "2018",
          "2019",
          "2020",
          "2021"
         ],
         "xaxis": "x",
         "y": [
          8.6,
          7.96,
          7.6,
          7.1,
          6.83,
          6.5,
          5.45,
          5.91,
          5.93,
          6.01,
          6.6,
          6.54,
          6.37,
          6.38,
          6.07,
          6.12,
          6.76,
          6.57,
          5.79,
          6.71
         ],
         "yaxis": "y"
        },
        {
         "marker": {
          "color": "#7498D2"
         },
         "name": "student : non instructional staff ratio",
         "orientation": "v",
         "type": "bar",
         "visible": false,
         "width": 0.3,
         "x": [
          "2002",
          "2003",
          "2004",
          "2005",
          "2006",
          "2007",
          "2008",
          "2009",
          "2010",
          "2011",
          "2012",
          "2013",
          "2014",
          "2015",
          "2016",
          "2017",
          "2018",
          "2019",
          "2020",
          "2021"
         ],
         "xaxis": "x",
         "y": [
          2.63,
          2.51,
          2.49,
          2.39,
          2.28,
          2.2,
          1.8,
          2.05,
          2.15,
          2.18,
          2.14,
          2.12,
          2.16,
          2.11,
          2.12,
          2.2,
          2.19,
          2.16,
          1.91,
          2.31
         ],
         "yaxis": "y"
        },
        {
         "line": {
          "color": "#3a3940",
          "width": 2
         },
         "mode": "lines",
         "name": "total student",
         "type": "scatter",
         "visible": true,
         "x": [
          "2002",
          "2003",
          "2004",
          "2005",
          "2006",
          "2007",
          "2008",
          "2009",
          "2010",
          "2011",
          "2012",
          "2013",
          "2014",
          "2015",
          "2016",
          "2017",
          "2018",
          "2019",
          "2020",
          "2021"
         ],
         "xaxis": "x",
         "y": [
          11261,
          11315,
          11276,
          11360,
          11303,
          11345,
          10109,
          11507,
          11597,
          11763,
          11804,
          11997,
          12223,
          12302,
          12388,
          12915,
          13353,
          13522,
          11964,
          14439
         ],
         "yaxis": "y2"
        }
       ],
       "layout": {
        "autosize": false,
        "height": 508,
        "hoverdistance": 100,
        "hoverlabel": {
         "namelength": -1
        },
        "hovermode": "x",
        "legend": {
         "bgcolor": "#FAFDF1",
         "orientation": "h",
         "x": 0,
         "y": 1
        },
        "margin": {
         "b": 20,
         "l": 20,
         "r": 20,
         "t": 20
        },
        "paper_bgcolor": "#FAFDF1",
        "plot_bgcolor": "#FAFDF1",
        "spikedistance": 1000,
        "template": {
         "data": {
          "bar": [
           {
            "error_x": {
             "color": "#2a3f5f"
            },
            "error_y": {
             "color": "#2a3f5f"
            },
            "marker": {
             "line": {
              "color": "white",
              "width": 0.5
             },
             "pattern": {
              "fillmode": "overlay",
              "size": 10,
              "solidity": 0.2
             }
            },
            "type": "bar"
           }
          ],
          "barpolar": [
           {
            "marker": {
             "line": {
              "color": "white",
              "width": 0.5
             },
             "pattern": {
              "fillmode": "overlay",
              "size": 10,
              "solidity": 0.2
             }
            },
            "type": "barpolar"
           }
          ],
          "carpet": [
           {
            "aaxis": {
             "endlinecolor": "#2a3f5f",
             "gridcolor": "#C8D4E3",
             "linecolor": "#C8D4E3",
             "minorgridcolor": "#C8D4E3",
             "startlinecolor": "#2a3f5f"
            },
            "baxis": {
             "endlinecolor": "#2a3f5f",
             "gridcolor": "#C8D4E3",
             "linecolor": "#C8D4E3",
             "minorgridcolor": "#C8D4E3",
             "startlinecolor": "#2a3f5f"
            },
            "type": "carpet"
           }
          ],
          "choropleth": [
           {
            "colorbar": {
             "outlinewidth": 0,
             "ticks": ""
            },
            "type": "choropleth"
           }
          ],
          "contour": [
           {
            "colorbar": {
             "outlinewidth": 0,
             "ticks": ""
            },
            "colorscale": [
             [
              0,
              "#0d0887"
             ],
             [
              0.1111111111111111,
              "#46039f"
             ],
             [
              0.2222222222222222,
              "#7201a8"
             ],
             [
              0.3333333333333333,
              "#9c179e"
             ],
             [
              0.4444444444444444,
              "#bd3786"
             ],
             [
              0.5555555555555556,
              "#d8576b"
             ],
             [
              0.6666666666666666,
              "#ed7953"
             ],
             [
              0.7777777777777778,
              "#fb9f3a"
             ],
             [
              0.8888888888888888,
              "#fdca26"
             ],
             [
              1,
              "#f0f921"
             ]
            ],
            "type": "contour"
           }
          ],
          "contourcarpet": [
           {
            "colorbar": {
             "outlinewidth": 0,
             "ticks": ""
            },
            "type": "contourcarpet"
           }
          ],
          "heatmap": [
           {
            "colorbar": {
             "outlinewidth": 0,
             "ticks": ""
            },
            "colorscale": [
             [
              0,
              "#0d0887"
             ],
             [
              0.1111111111111111,
              "#46039f"
             ],
             [
              0.2222222222222222,
              "#7201a8"
             ],
             [
              0.3333333333333333,
              "#9c179e"
             ],
             [
              0.4444444444444444,
              "#bd3786"
             ],
             [
              0.5555555555555556,
              "#d8576b"
             ],
             [
              0.6666666666666666,
              "#ed7953"
             ],
             [
              0.7777777777777778,
              "#fb9f3a"
             ],
             [
              0.8888888888888888,
              "#fdca26"
             ],
             [
              1,
              "#f0f921"
             ]
            ],
            "type": "heatmap"
           }
          ],
          "heatmapgl": [
           {
            "colorbar": {
             "outlinewidth": 0,
             "ticks": ""
            },
            "colorscale": [
             [
              0,
              "#0d0887"
             ],
             [
              0.1111111111111111,
              "#46039f"
             ],
             [
              0.2222222222222222,
              "#7201a8"
             ],
             [
              0.3333333333333333,
              "#9c179e"
             ],
             [
              0.4444444444444444,
              "#bd3786"
             ],
             [
              0.5555555555555556,
              "#d8576b"
             ],
             [
              0.6666666666666666,
              "#ed7953"
             ],
             [
              0.7777777777777778,
              "#fb9f3a"
             ],
             [
              0.8888888888888888,
              "#fdca26"
             ],
             [
              1,
              "#f0f921"
             ]
            ],
            "type": "heatmapgl"
           }
          ],
          "histogram": [
           {
            "marker": {
             "pattern": {
              "fillmode": "overlay",
              "size": 10,
              "solidity": 0.2
             }
            },
            "type": "histogram"
           }
          ],
          "histogram2d": [
           {
            "colorbar": {
             "outlinewidth": 0,
             "ticks": ""
            },
            "colorscale": [
             [
              0,
              "#0d0887"
             ],
             [
              0.1111111111111111,
              "#46039f"
             ],
             [
              0.2222222222222222,
              "#7201a8"
             ],
             [
              0.3333333333333333,
              "#9c179e"
             ],
             [
              0.4444444444444444,
              "#bd3786"
             ],
             [
              0.5555555555555556,
              "#d8576b"
             ],
             [
              0.6666666666666666,
              "#ed7953"
             ],
             [
              0.7777777777777778,
              "#fb9f3a"
             ],
             [
              0.8888888888888888,
              "#fdca26"
             ],
             [
              1,
              "#f0f921"
             ]
            ],
            "type": "histogram2d"
           }
          ],
          "histogram2dcontour": [
           {
            "colorbar": {
             "outlinewidth": 0,
             "ticks": ""
            },
            "colorscale": [
             [
              0,
              "#0d0887"
             ],
             [
              0.1111111111111111,
              "#46039f"
             ],
             [
              0.2222222222222222,
              "#7201a8"
             ],
             [
              0.3333333333333333,
              "#9c179e"
             ],
             [
              0.4444444444444444,
              "#bd3786"
             ],
             [
              0.5555555555555556,
              "#d8576b"
             ],
             [
              0.6666666666666666,
              "#ed7953"
             ],
             [
              0.7777777777777778,
              "#fb9f3a"
             ],
             [
              0.8888888888888888,
              "#fdca26"
             ],
             [
              1,
              "#f0f921"
             ]
            ],
            "type": "histogram2dcontour"
           }
          ],
          "mesh3d": [
           {
            "colorbar": {
             "outlinewidth": 0,
             "ticks": ""
            },
            "type": "mesh3d"
           }
          ],
          "parcoords": [
           {
            "line": {
             "colorbar": {
              "outlinewidth": 0,
              "ticks": ""
             }
            },
            "type": "parcoords"
           }
          ],
          "pie": [
           {
            "automargin": true,
            "type": "pie"
           }
          ],
          "scatter": [
           {
            "fillpattern": {
             "fillmode": "overlay",
             "size": 10,
             "solidity": 0.2
            },
            "type": "scatter"
           }
          ],
          "scatter3d": [
           {
            "line": {
             "colorbar": {
              "outlinewidth": 0,
              "ticks": ""
             }
            },
            "marker": {
             "colorbar": {
              "outlinewidth": 0,
              "ticks": ""
             }
            },
            "type": "scatter3d"
           }
          ],
          "scattercarpet": [
           {
            "marker": {
             "colorbar": {
              "outlinewidth": 0,
              "ticks": ""
             }
            },
            "type": "scattercarpet"
           }
          ],
          "scattergeo": [
           {
            "marker": {
             "colorbar": {
              "outlinewidth": 0,
              "ticks": ""
             }
            },
            "type": "scattergeo"
           }
          ],
          "scattergl": [
           {
            "marker": {
             "colorbar": {
              "outlinewidth": 0,
              "ticks": ""
             }
            },
            "type": "scattergl"
           }
          ],
          "scattermapbox": [
           {
            "marker": {
             "colorbar": {
              "outlinewidth": 0,
              "ticks": ""
             }
            },
            "type": "scattermapbox"
           }
          ],
          "scatterpolar": [
           {
            "marker": {
             "colorbar": {
              "outlinewidth": 0,
              "ticks": ""
             }
            },
            "type": "scatterpolar"
           }
          ],
          "scatterpolargl": [
           {
            "marker": {
             "colorbar": {
              "outlinewidth": 0,
              "ticks": ""
             }
            },
            "type": "scatterpolargl"
           }
          ],
          "scatterternary": [
           {
            "marker": {
             "colorbar": {
              "outlinewidth": 0,
              "ticks": ""
             }
            },
            "type": "scatterternary"
           }
          ],
          "surface": [
           {
            "colorbar": {
             "outlinewidth": 0,
             "ticks": ""
            },
            "colorscale": [
             [
              0,
              "#0d0887"
             ],
             [
              0.1111111111111111,
              "#46039f"
             ],
             [
              0.2222222222222222,
              "#7201a8"
             ],
             [
              0.3333333333333333,
              "#9c179e"
             ],
             [
              0.4444444444444444,
              "#bd3786"
             ],
             [
              0.5555555555555556,
              "#d8576b"
             ],
             [
              0.6666666666666666,
              "#ed7953"
             ],
             [
              0.7777777777777778,
              "#fb9f3a"
             ],
             [
              0.8888888888888888,
              "#fdca26"
             ],
             [
              1,
              "#f0f921"
             ]
            ],
            "type": "surface"
           }
          ],
          "table": [
           {
            "cells": {
             "fill": {
              "color": "#EBF0F8"
             },
             "line": {
              "color": "white"
             }
            },
            "header": {
             "fill": {
              "color": "#C8D4E3"
             },
             "line": {
              "color": "white"
             }
            },
            "type": "table"
           }
          ]
         },
         "layout": {
          "annotationdefaults": {
           "arrowcolor": "#2a3f5f",
           "arrowhead": 0,
           "arrowwidth": 1
          },
          "autotypenumbers": "strict",
          "coloraxis": {
           "colorbar": {
            "outlinewidth": 0,
            "ticks": ""
           }
          },
          "colorscale": {
           "diverging": [
            [
             0,
             "#8e0152"
            ],
            [
             0.1,
             "#c51b7d"
            ],
            [
             0.2,
             "#de77ae"
            ],
            [
             0.3,
             "#f1b6da"
            ],
            [
             0.4,
             "#fde0ef"
            ],
            [
             0.5,
             "#f7f7f7"
            ],
            [
             0.6,
             "#e6f5d0"
            ],
            [
             0.7,
             "#b8e186"
            ],
            [
             0.8,
             "#7fbc41"
            ],
            [
             0.9,
             "#4d9221"
            ],
            [
             1,
             "#276419"
            ]
           ],
           "sequential": [
            [
             0,
             "#0d0887"
            ],
            [
             0.1111111111111111,
             "#46039f"
            ],
            [
             0.2222222222222222,
             "#7201a8"
            ],
            [
             0.3333333333333333,
             "#9c179e"
            ],
            [
             0.4444444444444444,
             "#bd3786"
            ],
            [
             0.5555555555555556,
             "#d8576b"
            ],
            [
             0.6666666666666666,
             "#ed7953"
            ],
            [
             0.7777777777777778,
             "#fb9f3a"
            ],
            [
             0.8888888888888888,
             "#fdca26"
            ],
            [
             1,
             "#f0f921"
            ]
           ],
           "sequentialminus": [
            [
             0,
             "#0d0887"
            ],
            [
             0.1111111111111111,
             "#46039f"
            ],
            [
             0.2222222222222222,
             "#7201a8"
            ],
            [
             0.3333333333333333,
             "#9c179e"
            ],
            [
             0.4444444444444444,
             "#bd3786"
            ],
            [
             0.5555555555555556,
             "#d8576b"
            ],
            [
             0.6666666666666666,
             "#ed7953"
            ],
            [
             0.7777777777777778,
             "#fb9f3a"
            ],
            [
             0.8888888888888888,
             "#fdca26"
            ],
            [
             1,
             "#f0f921"
            ]
           ]
          },
          "colorway": [
           "#636efa",
           "#EF553B",
           "#00cc96",
           "#ab63fa",
           "#FFA15A",
           "#19d3f3",
           "#FF6692",
           "#B6E880",
           "#FF97FF",
           "#FECB52"
          ],
          "font": {
           "color": "#2a3f5f"
          },
          "geo": {
           "bgcolor": "white",
           "lakecolor": "white",
           "landcolor": "white",
           "showlakes": true,
           "showland": true,
           "subunitcolor": "#C8D4E3"
          },
          "hoverlabel": {
           "align": "left"
          },
          "hovermode": "closest",
          "mapbox": {
           "style": "light"
          },
          "paper_bgcolor": "white",
          "plot_bgcolor": "white",
          "polar": {
           "angularaxis": {
            "gridcolor": "#EBF0F8",
            "linecolor": "#EBF0F8",
            "ticks": ""
           },
           "bgcolor": "white",
           "radialaxis": {
            "gridcolor": "#EBF0F8",
            "linecolor": "#EBF0F8",
            "ticks": ""
           }
          },
          "scene": {
           "xaxis": {
            "backgroundcolor": "white",
            "gridcolor": "#DFE8F3",
            "gridwidth": 2,
            "linecolor": "#EBF0F8",
            "showbackground": true,
            "ticks": "",
            "zerolinecolor": "#EBF0F8"
           },
           "yaxis": {
            "backgroundcolor": "white",
            "gridcolor": "#DFE8F3",
            "gridwidth": 2,
            "linecolor": "#EBF0F8",
            "showbackground": true,
            "ticks": "",
            "zerolinecolor": "#EBF0F8"
           },
           "zaxis": {
            "backgroundcolor": "white",
            "gridcolor": "#DFE8F3",
            "gridwidth": 2,
            "linecolor": "#EBF0F8",
            "showbackground": true,
            "ticks": "",
            "zerolinecolor": "#EBF0F8"
           }
          },
          "shapedefaults": {
           "line": {
            "color": "#2a3f5f"
           }
          },
          "ternary": {
           "aaxis": {
            "gridcolor": "#DFE8F3",
            "linecolor": "#A2B1C6",
            "ticks": ""
           },
           "baxis": {
            "gridcolor": "#DFE8F3",
            "linecolor": "#A2B1C6",
            "ticks": ""
           },
           "bgcolor": "white",
           "caxis": {
            "gridcolor": "#DFE8F3",
            "linecolor": "#A2B1C6",
            "ticks": ""
           }
          },
          "title": {
           "x": 0.05
          },
          "xaxis": {
           "automargin": true,
           "gridcolor": "#EBF0F8",
           "linecolor": "#EBF0F8",
           "ticks": "",
           "title": {
            "standoff": 15
           },
           "zerolinecolor": "#EBF0F8",
           "zerolinewidth": 2
          },
          "yaxis": {
           "automargin": true,
           "gridcolor": "#EBF0F8",
           "linecolor": "#EBF0F8",
           "ticks": "",
           "title": {
            "standoff": 15
           },
           "zerolinecolor": "#EBF0F8",
           "zerolinewidth": 2
          }
         }
        },
        "title": {
         "automargin": true,
         "font": {
          "color": "#3a3940",
          "family": "Georgia",
          "size": 22
         },
         "text": "<b>Title</b>",
         "yref": "paper"
        },
        "updatemenus": [
         {
          "active": 0,
          "buttons": [
           {
            "args": [
             {
              "visible": [
               true,
               false,
               false,
               true
              ]
             }
            ],
            "label": "Total",
            "method": "update"
           },
           {
            "args": [
             {
              "visible": [
               true,
               true,
               true,
               true
              ]
             }
            ],
            "label": "Staff Type",
            "method": "update"
           }
          ],
          "direction": "right",
          "type": "buttons",
          "x": 1,
          "y": 1.15
         }
        ],
        "width": 608,
        "xaxis": {
         "anchor": "y",
         "domain": [
          0,
          0.94
         ],
         "fixedrange": true,
         "linecolor": "#BCCCDC",
         "showgrid": false,
         "showspikes": true,
         "spikecolor": "#999999",
         "spikedash": "dot",
         "spikemode": "across",
         "spikethickness": 2,
         "tickangle": 45,
         "title": {
          "text": "year"
         }
        },
        "yaxis": {
         "anchor": "x",
         "domain": [
          0,
          1
         ],
         "fixedrange": true,
         "linecolor": "#BCCCDC",
         "range": [
          0,
          15
         ],
         "showgrid": false,
         "title": {
          "text": "student FTE per staff FTE"
         }
        },
        "yaxis2": {
         "anchor": "x",
         "overlaying": "y",
         "range": [
          0,
          16000
         ],
         "side": "right",
         "title": {
          "text": "FTE headcount"
         }
        }
       }
      }
     },
     "metadata": {},
     "output_type": "display_data"
    }
   ],
   "source": [
    "pio.templates.default = \"plotly_white\"\n",
    "\n",
    "fig_ratio = make_subplots(specs=[[{\"secondary_y\": True}]])\n",
    "\n",
    "fig_ratio.add_trace(go.Bar(x=yale_pct_change[\"year\"],y=yale_pct_change['student fte per staff fte'],orientation='v',name=\"student : staff ratio\",marker=dict(color='#142A9C'),width=.3,visible=True),secondary_y=False)\n",
    "fig_ratio.add_trace(go.Bar(x=yale_pct_change[\"year\"],y=yale_pct_change['student fte per instruction staff fte'],orientation='v',name=\"student : instructional staff ratio\",marker=dict(color='#A1A1CE'),width=.3,visible=False),secondary_y=False)\n",
    "fig_ratio.add_trace(go.Bar(x=yale_pct_change[\"year\"],y=yale_pct_change['student fte per non instruction staff fte'],orientation='v',name=\"student : non instructional staff ratio\",marker=dict(color='#7498D2'),width=.3,visible=False),secondary_y=False)\n",
    "fig_ratio.add_trace(go.Scatter(x=yale_pct_change[\"year\"],y=yale_pct_change['student fte'],name=\"total student\",mode=\"lines\",line=dict(width=2,color='#3a3940'),visible=True),secondary_y=True)\n",
    "\n",
    "\n",
    "fig_ratio.update_yaxes(title_text=\"FTE headcount\", range=[0,16000], secondary_y=True)\n",
    "\n",
    "fig_ratio.update_layout(\n",
    "    plot_bgcolor=\"#FAFDF1\",\n",
    "    paper_bgcolor=\"#FAFDF1\",\n",
    "    hovermode=\"x\",\n",
    "    hoverdistance=100, # Distance to show hover label of data point\n",
    "    spikedistance=1000, # Distance to show spike\n",
    "    xaxis=dict(\n",
    "        title='year',\n",
    "        linecolor=\"#BCCCDC\",\n",
    "        showspikes=True,\n",
    "        spikethickness=2,\n",
    "        spikedash=\"dot\",\n",
    "        spikecolor=\"#999999\",\n",
    "        spikemode=\"across\",\n",
    "        showgrid=False,\n",
    "        fixedrange = True\n",
    "    ),\n",
    "    yaxis = dict(\n",
    "        title=\"student FTE per staff FTE\",\n",
    "        linecolor=\"#BCCCDC\",\n",
    "        showgrid=False,\n",
    "        fixedrange = True,\n",
    "        range=[0,15]\n",
    "    )\n",
    ")\n",
    "\n",
    "fig_ratio.update_layout(\n",
    "    autosize=False,\n",
    "    width=608,\n",
    "    height=508,\n",
    "    margin=dict(l=20, r=20, t=20, b=20))\n",
    "\n",
    "fig_ratio.update_layout(legend = dict(\n",
    "    orientation = \"h\",\n",
    "    x=0,\n",
    "    y=1,\n",
    "    bgcolor=\"#FAFDF1\")\n",
    ")\n",
    "\n",
    "fig_ratio.update_layout(\n",
    "    title=dict(text=\"<b>Title</b>\", font=dict(size=24), automargin=True, yref='paper')\n",
    ")\n",
    "\n",
    "fig_ratio.update_layout(\n",
    "    title_font_family=\"Georgia\",\n",
    "    title_font_color=\"#3a3940\",\n",
    "    title_font_size = 22\n",
    ")\n",
    "\n",
    "\n",
    "fig_ratio = fig_ratio.update_xaxes(tickangle=45)\n",
    "fig_ratio.update_layout(hoverlabel_namelength=-1)\n",
    "\n",
    "fig_ratio.update_layout(\n",
    "    updatemenus=[\n",
    "        dict(\n",
    "            type=\"buttons\",\n",
    "            direction=\"right\",\n",
    "            active=0,\n",
    "            x=1,\n",
    "            y=1.15,\n",
    "            buttons=list([\n",
    "                dict(label=\"Total\",\n",
    "                     method=\"update\",\n",
    "                     args=[{\"visible\": [True, False, False, True]}]),\n",
    "                dict(label=\"Staff Type\",\n",
    "                     method=\"update\",\n",
    "                     args=[{\"visible\": [True, True, True, True]}])\n",
    "            ]),\n",
    "        )\n",
    "    ])\n",
    "\n",
    "fig_ratio.show()"
   ]
  },
  {
   "cell_type": "code",
   "execution_count": 264,
   "metadata": {},
   "outputs": [
    {
     "data": {
      "application/vnd.plotly.v1+json": {
       "config": {
        "plotlyServerURL": "https://plot.ly"
       },
       "data": [
        {
         "line": {
          "color": "#3a3940",
          "width": 2
         },
         "mode": "lines",
         "name": "total student",
         "type": "scatter",
         "visible": true,
         "x": [
          "2002",
          "2003",
          "2004",
          "2005",
          "2006",
          "2007",
          "2008",
          "2009",
          "2010",
          "2011",
          "2012",
          "2013",
          "2014",
          "2015",
          "2016",
          "2017",
          "2018",
          "2019",
          "2020",
          "2021"
         ],
         "y": [
          0,
          0.48,
          0.13,
          0.88,
          0.37,
          0.75,
          -10.23,
          2.18,
          2.98,
          4.46,
          4.82,
          6.54,
          8.54,
          9.24,
          10.01,
          14.69,
          18.58,
          20.08,
          6.24,
          28.22
         ]
        },
        {
         "line": {
          "color": "#142A9C",
          "width": 2
         },
         "mode": "lines",
         "name": "total staff",
         "type": "scatter",
         "visible": true,
         "x": [
          "2002",
          "2003",
          "2004",
          "2005",
          "2006",
          "2007",
          "2008",
          "2009",
          "2010",
          "2011",
          "2012",
          "2013",
          "2014",
          "2015",
          "2016",
          "2017",
          "2018",
          "2019",
          "2020",
          "2021"
         ],
         "y": [
          0,
          6.01,
          7.61,
          13.73,
          18.18,
          23.6,
          33.55,
          35.29,
          31.55,
          31.48,
          30.65,
          34.14,
          35.38,
          38.69,
          41.02,
          42.73,
          44.49,
          48.66,
          49.02,
          50.59
         ]
        },
        {
         "line": {
          "color": "#A1A1CE",
          "width": 2
         },
         "mode": "lines",
         "name": "instructional staff",
         "type": "scatter",
         "visible": true,
         "x": [
          "2002",
          "2003",
          "2004",
          "2005",
          "2006",
          "2007",
          "2008",
          "2009",
          "2010",
          "2011",
          "2012",
          "2013",
          "2014",
          "2015",
          "2016",
          "2017",
          "2018",
          "2019",
          "2020",
          "2021"
         ],
         "y": [
          0,
          8.63,
          13.29,
          22.31,
          26.43,
          33.38,
          41.63,
          48.82,
          49.5,
          49.43,
          36.67,
          40.18,
          46.52,
          47.36,
          55.92,
          61.19,
          50.95,
          57.3,
          57.83,
          64.48
         ]
        },
        {
         "line": {
          "color": "#7498D2",
          "width": 2
         },
         "mode": "lines",
         "name": "non instructional staff",
         "type": "scatter",
         "visible": true,
         "x": [
          "2002",
          "2003",
          "2004",
          "2005",
          "2006",
          "2007",
          "2008",
          "2009",
          "2010",
          "2011",
          "2012",
          "2013",
          "2014",
          "2015",
          "2016",
          "2017",
          "2018",
          "2019",
          "2020",
          "2021"
         ],
         "y": [
          0,
          5.21,
          5.87,
          11.1,
          15.66,
          20.61,
          31.08,
          31.15,
          26.06,
          25.99,
          28.79,
          32.3,
          31.99,
          36.01,
          36.43,
          37.09,
          42.51,
          46.02,
          46.32,
          46.32
         ]
        }
       ],
       "layout": {
        "autosize": false,
        "height": 508,
        "hoverdistance": 100,
        "hoverlabel": {
         "namelength": -1
        },
        "hovermode": "x",
        "legend": {
         "bgcolor": "#FAFDF1",
         "orientation": "h",
         "x": 0,
         "y": 1
        },
        "margin": {
         "b": 20,
         "l": 20,
         "r": 25,
         "t": 65
        },
        "paper_bgcolor": "#FAFDF1",
        "plot_bgcolor": "#FAFDF1",
        "spikedistance": 1000,
        "template": {
         "data": {
          "bar": [
           {
            "error_x": {
             "color": "#2a3f5f"
            },
            "error_y": {
             "color": "#2a3f5f"
            },
            "marker": {
             "line": {
              "color": "white",
              "width": 0.5
             },
             "pattern": {
              "fillmode": "overlay",
              "size": 10,
              "solidity": 0.2
             }
            },
            "type": "bar"
           }
          ],
          "barpolar": [
           {
            "marker": {
             "line": {
              "color": "white",
              "width": 0.5
             },
             "pattern": {
              "fillmode": "overlay",
              "size": 10,
              "solidity": 0.2
             }
            },
            "type": "barpolar"
           }
          ],
          "carpet": [
           {
            "aaxis": {
             "endlinecolor": "#2a3f5f",
             "gridcolor": "#C8D4E3",
             "linecolor": "#C8D4E3",
             "minorgridcolor": "#C8D4E3",
             "startlinecolor": "#2a3f5f"
            },
            "baxis": {
             "endlinecolor": "#2a3f5f",
             "gridcolor": "#C8D4E3",
             "linecolor": "#C8D4E3",
             "minorgridcolor": "#C8D4E3",
             "startlinecolor": "#2a3f5f"
            },
            "type": "carpet"
           }
          ],
          "choropleth": [
           {
            "colorbar": {
             "outlinewidth": 0,
             "ticks": ""
            },
            "type": "choropleth"
           }
          ],
          "contour": [
           {
            "colorbar": {
             "outlinewidth": 0,
             "ticks": ""
            },
            "colorscale": [
             [
              0,
              "#0d0887"
             ],
             [
              0.1111111111111111,
              "#46039f"
             ],
             [
              0.2222222222222222,
              "#7201a8"
             ],
             [
              0.3333333333333333,
              "#9c179e"
             ],
             [
              0.4444444444444444,
              "#bd3786"
             ],
             [
              0.5555555555555556,
              "#d8576b"
             ],
             [
              0.6666666666666666,
              "#ed7953"
             ],
             [
              0.7777777777777778,
              "#fb9f3a"
             ],
             [
              0.8888888888888888,
              "#fdca26"
             ],
             [
              1,
              "#f0f921"
             ]
            ],
            "type": "contour"
           }
          ],
          "contourcarpet": [
           {
            "colorbar": {
             "outlinewidth": 0,
             "ticks": ""
            },
            "type": "contourcarpet"
           }
          ],
          "heatmap": [
           {
            "colorbar": {
             "outlinewidth": 0,
             "ticks": ""
            },
            "colorscale": [
             [
              0,
              "#0d0887"
             ],
             [
              0.1111111111111111,
              "#46039f"
             ],
             [
              0.2222222222222222,
              "#7201a8"
             ],
             [
              0.3333333333333333,
              "#9c179e"
             ],
             [
              0.4444444444444444,
              "#bd3786"
             ],
             [
              0.5555555555555556,
              "#d8576b"
             ],
             [
              0.6666666666666666,
              "#ed7953"
             ],
             [
              0.7777777777777778,
              "#fb9f3a"
             ],
             [
              0.8888888888888888,
              "#fdca26"
             ],
             [
              1,
              "#f0f921"
             ]
            ],
            "type": "heatmap"
           }
          ],
          "heatmapgl": [
           {
            "colorbar": {
             "outlinewidth": 0,
             "ticks": ""
            },
            "colorscale": [
             [
              0,
              "#0d0887"
             ],
             [
              0.1111111111111111,
              "#46039f"
             ],
             [
              0.2222222222222222,
              "#7201a8"
             ],
             [
              0.3333333333333333,
              "#9c179e"
             ],
             [
              0.4444444444444444,
              "#bd3786"
             ],
             [
              0.5555555555555556,
              "#d8576b"
             ],
             [
              0.6666666666666666,
              "#ed7953"
             ],
             [
              0.7777777777777778,
              "#fb9f3a"
             ],
             [
              0.8888888888888888,
              "#fdca26"
             ],
             [
              1,
              "#f0f921"
             ]
            ],
            "type": "heatmapgl"
           }
          ],
          "histogram": [
           {
            "marker": {
             "pattern": {
              "fillmode": "overlay",
              "size": 10,
              "solidity": 0.2
             }
            },
            "type": "histogram"
           }
          ],
          "histogram2d": [
           {
            "colorbar": {
             "outlinewidth": 0,
             "ticks": ""
            },
            "colorscale": [
             [
              0,
              "#0d0887"
             ],
             [
              0.1111111111111111,
              "#46039f"
             ],
             [
              0.2222222222222222,
              "#7201a8"
             ],
             [
              0.3333333333333333,
              "#9c179e"
             ],
             [
              0.4444444444444444,
              "#bd3786"
             ],
             [
              0.5555555555555556,
              "#d8576b"
             ],
             [
              0.6666666666666666,
              "#ed7953"
             ],
             [
              0.7777777777777778,
              "#fb9f3a"
             ],
             [
              0.8888888888888888,
              "#fdca26"
             ],
             [
              1,
              "#f0f921"
             ]
            ],
            "type": "histogram2d"
           }
          ],
          "histogram2dcontour": [
           {
            "colorbar": {
             "outlinewidth": 0,
             "ticks": ""
            },
            "colorscale": [
             [
              0,
              "#0d0887"
             ],
             [
              0.1111111111111111,
              "#46039f"
             ],
             [
              0.2222222222222222,
              "#7201a8"
             ],
             [
              0.3333333333333333,
              "#9c179e"
             ],
             [
              0.4444444444444444,
              "#bd3786"
             ],
             [
              0.5555555555555556,
              "#d8576b"
             ],
             [
              0.6666666666666666,
              "#ed7953"
             ],
             [
              0.7777777777777778,
              "#fb9f3a"
             ],
             [
              0.8888888888888888,
              "#fdca26"
             ],
             [
              1,
              "#f0f921"
             ]
            ],
            "type": "histogram2dcontour"
           }
          ],
          "mesh3d": [
           {
            "colorbar": {
             "outlinewidth": 0,
             "ticks": ""
            },
            "type": "mesh3d"
           }
          ],
          "parcoords": [
           {
            "line": {
             "colorbar": {
              "outlinewidth": 0,
              "ticks": ""
             }
            },
            "type": "parcoords"
           }
          ],
          "pie": [
           {
            "automargin": true,
            "type": "pie"
           }
          ],
          "scatter": [
           {
            "fillpattern": {
             "fillmode": "overlay",
             "size": 10,
             "solidity": 0.2
            },
            "type": "scatter"
           }
          ],
          "scatter3d": [
           {
            "line": {
             "colorbar": {
              "outlinewidth": 0,
              "ticks": ""
             }
            },
            "marker": {
             "colorbar": {
              "outlinewidth": 0,
              "ticks": ""
             }
            },
            "type": "scatter3d"
           }
          ],
          "scattercarpet": [
           {
            "marker": {
             "colorbar": {
              "outlinewidth": 0,
              "ticks": ""
             }
            },
            "type": "scattercarpet"
           }
          ],
          "scattergeo": [
           {
            "marker": {
             "colorbar": {
              "outlinewidth": 0,
              "ticks": ""
             }
            },
            "type": "scattergeo"
           }
          ],
          "scattergl": [
           {
            "marker": {
             "colorbar": {
              "outlinewidth": 0,
              "ticks": ""
             }
            },
            "type": "scattergl"
           }
          ],
          "scattermapbox": [
           {
            "marker": {
             "colorbar": {
              "outlinewidth": 0,
              "ticks": ""
             }
            },
            "type": "scattermapbox"
           }
          ],
          "scatterpolar": [
           {
            "marker": {
             "colorbar": {
              "outlinewidth": 0,
              "ticks": ""
             }
            },
            "type": "scatterpolar"
           }
          ],
          "scatterpolargl": [
           {
            "marker": {
             "colorbar": {
              "outlinewidth": 0,
              "ticks": ""
             }
            },
            "type": "scatterpolargl"
           }
          ],
          "scatterternary": [
           {
            "marker": {
             "colorbar": {
              "outlinewidth": 0,
              "ticks": ""
             }
            },
            "type": "scatterternary"
           }
          ],
          "surface": [
           {
            "colorbar": {
             "outlinewidth": 0,
             "ticks": ""
            },
            "colorscale": [
             [
              0,
              "#0d0887"
             ],
             [
              0.1111111111111111,
              "#46039f"
             ],
             [
              0.2222222222222222,
              "#7201a8"
             ],
             [
              0.3333333333333333,
              "#9c179e"
             ],
             [
              0.4444444444444444,
              "#bd3786"
             ],
             [
              0.5555555555555556,
              "#d8576b"
             ],
             [
              0.6666666666666666,
              "#ed7953"
             ],
             [
              0.7777777777777778,
              "#fb9f3a"
             ],
             [
              0.8888888888888888,
              "#fdca26"
             ],
             [
              1,
              "#f0f921"
             ]
            ],
            "type": "surface"
           }
          ],
          "table": [
           {
            "cells": {
             "fill": {
              "color": "#EBF0F8"
             },
             "line": {
              "color": "white"
             }
            },
            "header": {
             "fill": {
              "color": "#C8D4E3"
             },
             "line": {
              "color": "white"
             }
            },
            "type": "table"
           }
          ]
         },
         "layout": {
          "annotationdefaults": {
           "arrowcolor": "#2a3f5f",
           "arrowhead": 0,
           "arrowwidth": 1
          },
          "autotypenumbers": "strict",
          "coloraxis": {
           "colorbar": {
            "outlinewidth": 0,
            "ticks": ""
           }
          },
          "colorscale": {
           "diverging": [
            [
             0,
             "#8e0152"
            ],
            [
             0.1,
             "#c51b7d"
            ],
            [
             0.2,
             "#de77ae"
            ],
            [
             0.3,
             "#f1b6da"
            ],
            [
             0.4,
             "#fde0ef"
            ],
            [
             0.5,
             "#f7f7f7"
            ],
            [
             0.6,
             "#e6f5d0"
            ],
            [
             0.7,
             "#b8e186"
            ],
            [
             0.8,
             "#7fbc41"
            ],
            [
             0.9,
             "#4d9221"
            ],
            [
             1,
             "#276419"
            ]
           ],
           "sequential": [
            [
             0,
             "#0d0887"
            ],
            [
             0.1111111111111111,
             "#46039f"
            ],
            [
             0.2222222222222222,
             "#7201a8"
            ],
            [
             0.3333333333333333,
             "#9c179e"
            ],
            [
             0.4444444444444444,
             "#bd3786"
            ],
            [
             0.5555555555555556,
             "#d8576b"
            ],
            [
             0.6666666666666666,
             "#ed7953"
            ],
            [
             0.7777777777777778,
             "#fb9f3a"
            ],
            [
             0.8888888888888888,
             "#fdca26"
            ],
            [
             1,
             "#f0f921"
            ]
           ],
           "sequentialminus": [
            [
             0,
             "#0d0887"
            ],
            [
             0.1111111111111111,
             "#46039f"
            ],
            [
             0.2222222222222222,
             "#7201a8"
            ],
            [
             0.3333333333333333,
             "#9c179e"
            ],
            [
             0.4444444444444444,
             "#bd3786"
            ],
            [
             0.5555555555555556,
             "#d8576b"
            ],
            [
             0.6666666666666666,
             "#ed7953"
            ],
            [
             0.7777777777777778,
             "#fb9f3a"
            ],
            [
             0.8888888888888888,
             "#fdca26"
            ],
            [
             1,
             "#f0f921"
            ]
           ]
          },
          "colorway": [
           "#636efa",
           "#EF553B",
           "#00cc96",
           "#ab63fa",
           "#FFA15A",
           "#19d3f3",
           "#FF6692",
           "#B6E880",
           "#FF97FF",
           "#FECB52"
          ],
          "font": {
           "color": "#2a3f5f"
          },
          "geo": {
           "bgcolor": "white",
           "lakecolor": "white",
           "landcolor": "white",
           "showlakes": true,
           "showland": true,
           "subunitcolor": "#C8D4E3"
          },
          "hoverlabel": {
           "align": "left"
          },
          "hovermode": "closest",
          "mapbox": {
           "style": "light"
          },
          "paper_bgcolor": "white",
          "plot_bgcolor": "white",
          "polar": {
           "angularaxis": {
            "gridcolor": "#EBF0F8",
            "linecolor": "#EBF0F8",
            "ticks": ""
           },
           "bgcolor": "white",
           "radialaxis": {
            "gridcolor": "#EBF0F8",
            "linecolor": "#EBF0F8",
            "ticks": ""
           }
          },
          "scene": {
           "xaxis": {
            "backgroundcolor": "white",
            "gridcolor": "#DFE8F3",
            "gridwidth": 2,
            "linecolor": "#EBF0F8",
            "showbackground": true,
            "ticks": "",
            "zerolinecolor": "#EBF0F8"
           },
           "yaxis": {
            "backgroundcolor": "white",
            "gridcolor": "#DFE8F3",
            "gridwidth": 2,
            "linecolor": "#EBF0F8",
            "showbackground": true,
            "ticks": "",
            "zerolinecolor": "#EBF0F8"
           },
           "zaxis": {
            "backgroundcolor": "white",
            "gridcolor": "#DFE8F3",
            "gridwidth": 2,
            "linecolor": "#EBF0F8",
            "showbackground": true,
            "ticks": "",
            "zerolinecolor": "#EBF0F8"
           }
          },
          "shapedefaults": {
           "line": {
            "color": "#2a3f5f"
           }
          },
          "ternary": {
           "aaxis": {
            "gridcolor": "#DFE8F3",
            "linecolor": "#A2B1C6",
            "ticks": ""
           },
           "baxis": {
            "gridcolor": "#DFE8F3",
            "linecolor": "#A2B1C6",
            "ticks": ""
           },
           "bgcolor": "white",
           "caxis": {
            "gridcolor": "#DFE8F3",
            "linecolor": "#A2B1C6",
            "ticks": ""
           }
          },
          "title": {
           "x": 0.05
          },
          "xaxis": {
           "automargin": true,
           "gridcolor": "#EBF0F8",
           "linecolor": "#EBF0F8",
           "ticks": "",
           "title": {
            "standoff": 15
           },
           "zerolinecolor": "#EBF0F8",
           "zerolinewidth": 2
          },
          "yaxis": {
           "automargin": true,
           "gridcolor": "#EBF0F8",
           "linecolor": "#EBF0F8",
           "ticks": "",
           "title": {
            "standoff": 15
           },
           "zerolinecolor": "#EBF0F8",
           "zerolinewidth": 2
          }
         }
        },
        "title": {
         "automargin": true,
         "font": {
          "color": "#3a3940",
          "family": "Georgia",
          "size": 22
         },
         "text": "<b>Title</b>",
         "yref": "paper"
        },
        "width": 608,
        "xaxis": {
         "fixedrange": true,
         "linecolor": "#BCCCDC",
         "showgrid": false,
         "showspikes": true,
         "spikecolor": "#999999",
         "spikedash": "dot",
         "spikemode": "across",
         "spikethickness": 2,
         "tickangle": 45,
         "title": {
          "text": "year"
         }
        },
        "yaxis": {
         "fixedrange": true,
         "linecolor": "#BCCCDC",
         "range": [
          -15,
          85
         ],
         "showgrid": false,
         "ticksuffix": "%",
         "title": {
          "text": "cumulative percentage change"
         }
        }
       }
      }
     },
     "metadata": {},
     "output_type": "display_data"
    }
   ],
   "source": [
    "pio.templates.default = \"plotly_white\"\n",
    "\n",
    "fig_fte_percent_change = go.Figure()\n",
    "fig_fte_percent_change.add_trace(go.Scatter(x=yale_pct_change[\"year\"],y=yale_pct_change['student pct change cumulative'],name=\"total student\",mode=\"lines\",line=dict(width=2,color='#3a3940'),visible=True))\n",
    "fig_fte_percent_change.add_trace(go.Scatter(x=yale_pct_change[\"year\"],y=yale_pct_change['staff pct change cumulative'],name=\"total staff\",mode=\"lines\",line=dict(width=2,color='#142A9C'),visible=True))\n",
    "fig_fte_percent_change.add_trace(go.Scatter(x=yale_pct_change[\"year\"],y=yale_pct_change['instruction pct change cumulative'],name=\"instructional staff\",mode=\"lines\",line=dict(width=2,color='#A1A1CE'),visible=True))\n",
    "fig_fte_percent_change.add_trace(go.Scatter(x=yale_pct_change[\"year\"],y=yale_pct_change['non instruction pct change cumulative'],name=\"non instructional staff\",mode=\"lines\",line=dict(width=2,color='#7498D2'),visible=True))\n",
    "\n",
    "\n",
    "fig_fte_percent_change.update_layout(\n",
    "    plot_bgcolor=\"#FAFDF1\",\n",
    "    paper_bgcolor=\"#FAFDF1\",\n",
    "    hovermode=\"x\",\n",
    "    hoverdistance=100, # Distance to show hover label of data point\n",
    "    spikedistance=1000, # Distance to show spike\n",
    "    xaxis=dict(\n",
    "        title='year',\n",
    "        linecolor=\"#BCCCDC\",\n",
    "        showspikes=True,\n",
    "        spikethickness=2,\n",
    "        spikedash=\"dot\",\n",
    "        spikecolor=\"#999999\",\n",
    "        spikemode=\"across\",\n",
    "        showgrid=False,\n",
    "        fixedrange = True\n",
    "    ),\n",
    "    yaxis = dict(\n",
    "        title=\"cumulative percentage change\",\n",
    "        linecolor=\"#BCCCDC\",\n",
    "        showgrid=False,\n",
    "        fixedrange = True,\n",
    "        range=[-15,85]\n",
    "    )\n",
    ")\n",
    "\n",
    "fig_fte_percent_change.update_layout(\n",
    "    autosize=False,\n",
    "    width=608,\n",
    "    height=508,\n",
    "    margin=dict(l=20, r=25, t=65, b=20))\n",
    "\n",
    "fig_fte_percent_change.update_layout(legend = dict(\n",
    "    orientation = \"h\",\n",
    "    x=0,\n",
    "    y=1,\n",
    "    bgcolor=\"#FAFDF1\")\n",
    ")\n",
    "\n",
    "fig_fte_percent_change.update_layout(\n",
    "    title=dict(text=\"<b>Title</b>\", font=dict(size=24), automargin=True, yref='paper')\n",
    ")\n",
    "\n",
    "fig_fte_percent_change.update_layout(\n",
    "    title_font_family=\"Georgia\",\n",
    "    title_font_color=\"#3a3940\",\n",
    "    title_font_size = 22\n",
    ")\n",
    "\n",
    "fig_fte_percent_change.update_layout(yaxis_ticksuffix = \"%\")\n",
    "\n",
    "fig_fte_percent_change = fig_fte_percent_change.update_xaxes(tickangle=45)\n",
    "fig_fte_percent_change.update_layout(hoverlabel_namelength=-1)\n",
    "\n",
    "fig_fte_percent_change.show()"
   ]
  },
  {
   "cell_type": "code",
   "execution_count": 280,
   "metadata": {},
   "outputs": [
    {
     "data": {
      "application/vnd.plotly.v1+json": {
       "config": {
        "plotlyServerURL": "https://plot.ly"
       },
       "data": [
        {
         "line": {
          "color": "#2A3128",
          "width": 2
         },
         "mode": "lines",
         "name": "total student",
         "type": "scatter",
         "visible": true,
         "x": [
          "2002",
          "2003",
          "2004",
          "2005",
          "2006",
          "2007",
          "2008",
          "2009",
          "2010",
          "2011",
          "2012",
          "2013",
          "2014",
          "2015",
          "2016",
          "2017",
          "2018",
          "2019",
          "2020",
          "2021"
         ],
         "y": [
          0,
          2.13,
          3.02,
          3.87,
          5.19,
          6.96,
          8.06,
          12.3,
          14.74,
          16.12,
          16.75,
          17.08,
          18.6,
          19.91,
          21.41,
          22.45,
          23.27,
          24.32,
          23.53,
          25.45
         ]
        },
        {
         "line": {
          "color": "#589C1C",
          "width": 2
         },
         "mode": "lines",
         "name": "total staff",
         "type": "scatter",
         "visible": true,
         "x": [
          "2002",
          "2003",
          "2004",
          "2005",
          "2006",
          "2007",
          "2008",
          "2009",
          "2010",
          "2011",
          "2012",
          "2013",
          "2014",
          "2015",
          "2016",
          "2017",
          "2018",
          "2019",
          "2020",
          "2021"
         ],
         "y": [
          0,
          -1.03,
          5,
          0.67,
          2.72,
          4.47,
          5.77,
          7.65,
          8.02,
          8.66,
          9.81,
          11.65,
          13.26,
          13.78,
          16.34,
          18.32,
          19.98,
          22.64,
          20.33,
          19.58
         ]
        },
        {
         "line": {
          "color": "#719193",
          "width": 2
         },
         "mode": "lines",
         "name": "instructional staff",
         "type": "scatter",
         "visible": true,
         "x": [
          "2002",
          "2003",
          "2004",
          "2005",
          "2006",
          "2007",
          "2008",
          "2009",
          "2010",
          "2011",
          "2012",
          "2013",
          "2014",
          "2015",
          "2016",
          "2017",
          "2018",
          "2019",
          "2020",
          "2021"
         ],
         "y": [
          0,
          -1.47,
          23.42,
          3.28,
          4.94,
          6.85,
          7.95,
          10.59,
          12.8,
          15.78,
          18.47,
          21.08,
          22.74,
          23.98,
          26.94,
          28.48,
          30.26,
          33.14,
          32.12,
          33.52
         ]
        },
        {
         "line": {
          "color": "#929F88",
          "width": 2
         },
         "mode": "lines",
         "name": "non instructional staff",
         "type": "scatter",
         "visible": true,
         "x": [
          "2002",
          "2003",
          "2004",
          "2005",
          "2006",
          "2007",
          "2008",
          "2009",
          "2010",
          "2011",
          "2012",
          "2013",
          "2014",
          "2015",
          "2016",
          "2017",
          "2018",
          "2019",
          "2020",
          "2021"
         ],
         "y": [
          0,
          -0.85,
          -2.47,
          -0.39,
          1.81,
          3.5,
          4.89,
          6.45,
          6.08,
          5.77,
          6.29,
          7.81,
          9.41,
          9.64,
          12.03,
          14.2,
          15.8,
          18.38,
          15.54,
          13.91
         ]
        }
       ],
       "layout": {
        "autosize": false,
        "height": 508,
        "hoverdistance": 100,
        "hoverlabel": {
         "namelength": -1
        },
        "hovermode": "x",
        "legend": {
         "bgcolor": "#FAFDF1",
         "orientation": "h",
         "x": 0,
         "y": 1
        },
        "margin": {
         "b": 20,
         "l": 20,
         "r": 25,
         "t": 65
        },
        "paper_bgcolor": "#FAFDF1",
        "plot_bgcolor": "#FAFDF1",
        "spikedistance": 1000,
        "template": {
         "data": {
          "bar": [
           {
            "error_x": {
             "color": "#2a3f5f"
            },
            "error_y": {
             "color": "#2a3f5f"
            },
            "marker": {
             "line": {
              "color": "white",
              "width": 0.5
             },
             "pattern": {
              "fillmode": "overlay",
              "size": 10,
              "solidity": 0.2
             }
            },
            "type": "bar"
           }
          ],
          "barpolar": [
           {
            "marker": {
             "line": {
              "color": "white",
              "width": 0.5
             },
             "pattern": {
              "fillmode": "overlay",
              "size": 10,
              "solidity": 0.2
             }
            },
            "type": "barpolar"
           }
          ],
          "carpet": [
           {
            "aaxis": {
             "endlinecolor": "#2a3f5f",
             "gridcolor": "#C8D4E3",
             "linecolor": "#C8D4E3",
             "minorgridcolor": "#C8D4E3",
             "startlinecolor": "#2a3f5f"
            },
            "baxis": {
             "endlinecolor": "#2a3f5f",
             "gridcolor": "#C8D4E3",
             "linecolor": "#C8D4E3",
             "minorgridcolor": "#C8D4E3",
             "startlinecolor": "#2a3f5f"
            },
            "type": "carpet"
           }
          ],
          "choropleth": [
           {
            "colorbar": {
             "outlinewidth": 0,
             "ticks": ""
            },
            "type": "choropleth"
           }
          ],
          "contour": [
           {
            "colorbar": {
             "outlinewidth": 0,
             "ticks": ""
            },
            "colorscale": [
             [
              0,
              "#0d0887"
             ],
             [
              0.1111111111111111,
              "#46039f"
             ],
             [
              0.2222222222222222,
              "#7201a8"
             ],
             [
              0.3333333333333333,
              "#9c179e"
             ],
             [
              0.4444444444444444,
              "#bd3786"
             ],
             [
              0.5555555555555556,
              "#d8576b"
             ],
             [
              0.6666666666666666,
              "#ed7953"
             ],
             [
              0.7777777777777778,
              "#fb9f3a"
             ],
             [
              0.8888888888888888,
              "#fdca26"
             ],
             [
              1,
              "#f0f921"
             ]
            ],
            "type": "contour"
           }
          ],
          "contourcarpet": [
           {
            "colorbar": {
             "outlinewidth": 0,
             "ticks": ""
            },
            "type": "contourcarpet"
           }
          ],
          "heatmap": [
           {
            "colorbar": {
             "outlinewidth": 0,
             "ticks": ""
            },
            "colorscale": [
             [
              0,
              "#0d0887"
             ],
             [
              0.1111111111111111,
              "#46039f"
             ],
             [
              0.2222222222222222,
              "#7201a8"
             ],
             [
              0.3333333333333333,
              "#9c179e"
             ],
             [
              0.4444444444444444,
              "#bd3786"
             ],
             [
              0.5555555555555556,
              "#d8576b"
             ],
             [
              0.6666666666666666,
              "#ed7953"
             ],
             [
              0.7777777777777778,
              "#fb9f3a"
             ],
             [
              0.8888888888888888,
              "#fdca26"
             ],
             [
              1,
              "#f0f921"
             ]
            ],
            "type": "heatmap"
           }
          ],
          "heatmapgl": [
           {
            "colorbar": {
             "outlinewidth": 0,
             "ticks": ""
            },
            "colorscale": [
             [
              0,
              "#0d0887"
             ],
             [
              0.1111111111111111,
              "#46039f"
             ],
             [
              0.2222222222222222,
              "#7201a8"
             ],
             [
              0.3333333333333333,
              "#9c179e"
             ],
             [
              0.4444444444444444,
              "#bd3786"
             ],
             [
              0.5555555555555556,
              "#d8576b"
             ],
             [
              0.6666666666666666,
              "#ed7953"
             ],
             [
              0.7777777777777778,
              "#fb9f3a"
             ],
             [
              0.8888888888888888,
              "#fdca26"
             ],
             [
              1,
              "#f0f921"
             ]
            ],
            "type": "heatmapgl"
           }
          ],
          "histogram": [
           {
            "marker": {
             "pattern": {
              "fillmode": "overlay",
              "size": 10,
              "solidity": 0.2
             }
            },
            "type": "histogram"
           }
          ],
          "histogram2d": [
           {
            "colorbar": {
             "outlinewidth": 0,
             "ticks": ""
            },
            "colorscale": [
             [
              0,
              "#0d0887"
             ],
             [
              0.1111111111111111,
              "#46039f"
             ],
             [
              0.2222222222222222,
              "#7201a8"
             ],
             [
              0.3333333333333333,
              "#9c179e"
             ],
             [
              0.4444444444444444,
              "#bd3786"
             ],
             [
              0.5555555555555556,
              "#d8576b"
             ],
             [
              0.6666666666666666,
              "#ed7953"
             ],
             [
              0.7777777777777778,
              "#fb9f3a"
             ],
             [
              0.8888888888888888,
              "#fdca26"
             ],
             [
              1,
              "#f0f921"
             ]
            ],
            "type": "histogram2d"
           }
          ],
          "histogram2dcontour": [
           {
            "colorbar": {
             "outlinewidth": 0,
             "ticks": ""
            },
            "colorscale": [
             [
              0,
              "#0d0887"
             ],
             [
              0.1111111111111111,
              "#46039f"
             ],
             [
              0.2222222222222222,
              "#7201a8"
             ],
             [
              0.3333333333333333,
              "#9c179e"
             ],
             [
              0.4444444444444444,
              "#bd3786"
             ],
             [
              0.5555555555555556,
              "#d8576b"
             ],
             [
              0.6666666666666666,
              "#ed7953"
             ],
             [
              0.7777777777777778,
              "#fb9f3a"
             ],
             [
              0.8888888888888888,
              "#fdca26"
             ],
             [
              1,
              "#f0f921"
             ]
            ],
            "type": "histogram2dcontour"
           }
          ],
          "mesh3d": [
           {
            "colorbar": {
             "outlinewidth": 0,
             "ticks": ""
            },
            "type": "mesh3d"
           }
          ],
          "parcoords": [
           {
            "line": {
             "colorbar": {
              "outlinewidth": 0,
              "ticks": ""
             }
            },
            "type": "parcoords"
           }
          ],
          "pie": [
           {
            "automargin": true,
            "type": "pie"
           }
          ],
          "scatter": [
           {
            "fillpattern": {
             "fillmode": "overlay",
             "size": 10,
             "solidity": 0.2
            },
            "type": "scatter"
           }
          ],
          "scatter3d": [
           {
            "line": {
             "colorbar": {
              "outlinewidth": 0,
              "ticks": ""
             }
            },
            "marker": {
             "colorbar": {
              "outlinewidth": 0,
              "ticks": ""
             }
            },
            "type": "scatter3d"
           }
          ],
          "scattercarpet": [
           {
            "marker": {
             "colorbar": {
              "outlinewidth": 0,
              "ticks": ""
             }
            },
            "type": "scattercarpet"
           }
          ],
          "scattergeo": [
           {
            "marker": {
             "colorbar": {
              "outlinewidth": 0,
              "ticks": ""
             }
            },
            "type": "scattergeo"
           }
          ],
          "scattergl": [
           {
            "marker": {
             "colorbar": {
              "outlinewidth": 0,
              "ticks": ""
             }
            },
            "type": "scattergl"
           }
          ],
          "scattermapbox": [
           {
            "marker": {
             "colorbar": {
              "outlinewidth": 0,
              "ticks": ""
             }
            },
            "type": "scattermapbox"
           }
          ],
          "scatterpolar": [
           {
            "marker": {
             "colorbar": {
              "outlinewidth": 0,
              "ticks": ""
             }
            },
            "type": "scatterpolar"
           }
          ],
          "scatterpolargl": [
           {
            "marker": {
             "colorbar": {
              "outlinewidth": 0,
              "ticks": ""
             }
            },
            "type": "scatterpolargl"
           }
          ],
          "scatterternary": [
           {
            "marker": {
             "colorbar": {
              "outlinewidth": 0,
              "ticks": ""
             }
            },
            "type": "scatterternary"
           }
          ],
          "surface": [
           {
            "colorbar": {
             "outlinewidth": 0,
             "ticks": ""
            },
            "colorscale": [
             [
              0,
              "#0d0887"
             ],
             [
              0.1111111111111111,
              "#46039f"
             ],
             [
              0.2222222222222222,
              "#7201a8"
             ],
             [
              0.3333333333333333,
              "#9c179e"
             ],
             [
              0.4444444444444444,
              "#bd3786"
             ],
             [
              0.5555555555555556,
              "#d8576b"
             ],
             [
              0.6666666666666666,
              "#ed7953"
             ],
             [
              0.7777777777777778,
              "#fb9f3a"
             ],
             [
              0.8888888888888888,
              "#fdca26"
             ],
             [
              1,
              "#f0f921"
             ]
            ],
            "type": "surface"
           }
          ],
          "table": [
           {
            "cells": {
             "fill": {
              "color": "#EBF0F8"
             },
             "line": {
              "color": "white"
             }
            },
            "header": {
             "fill": {
              "color": "#C8D4E3"
             },
             "line": {
              "color": "white"
             }
            },
            "type": "table"
           }
          ]
         },
         "layout": {
          "annotationdefaults": {
           "arrowcolor": "#2a3f5f",
           "arrowhead": 0,
           "arrowwidth": 1
          },
          "autotypenumbers": "strict",
          "coloraxis": {
           "colorbar": {
            "outlinewidth": 0,
            "ticks": ""
           }
          },
          "colorscale": {
           "diverging": [
            [
             0,
             "#8e0152"
            ],
            [
             0.1,
             "#c51b7d"
            ],
            [
             0.2,
             "#de77ae"
            ],
            [
             0.3,
             "#f1b6da"
            ],
            [
             0.4,
             "#fde0ef"
            ],
            [
             0.5,
             "#f7f7f7"
            ],
            [
             0.6,
             "#e6f5d0"
            ],
            [
             0.7,
             "#b8e186"
            ],
            [
             0.8,
             "#7fbc41"
            ],
            [
             0.9,
             "#4d9221"
            ],
            [
             1,
             "#276419"
            ]
           ],
           "sequential": [
            [
             0,
             "#0d0887"
            ],
            [
             0.1111111111111111,
             "#46039f"
            ],
            [
             0.2222222222222222,
             "#7201a8"
            ],
            [
             0.3333333333333333,
             "#9c179e"
            ],
            [
             0.4444444444444444,
             "#bd3786"
            ],
            [
             0.5555555555555556,
             "#d8576b"
            ],
            [
             0.6666666666666666,
             "#ed7953"
            ],
            [
             0.7777777777777778,
             "#fb9f3a"
            ],
            [
             0.8888888888888888,
             "#fdca26"
            ],
            [
             1,
             "#f0f921"
            ]
           ],
           "sequentialminus": [
            [
             0,
             "#0d0887"
            ],
            [
             0.1111111111111111,
             "#46039f"
            ],
            [
             0.2222222222222222,
             "#7201a8"
            ],
            [
             0.3333333333333333,
             "#9c179e"
            ],
            [
             0.4444444444444444,
             "#bd3786"
            ],
            [
             0.5555555555555556,
             "#d8576b"
            ],
            [
             0.6666666666666666,
             "#ed7953"
            ],
            [
             0.7777777777777778,
             "#fb9f3a"
            ],
            [
             0.8888888888888888,
             "#fdca26"
            ],
            [
             1,
             "#f0f921"
            ]
           ]
          },
          "colorway": [
           "#636efa",
           "#EF553B",
           "#00cc96",
           "#ab63fa",
           "#FFA15A",
           "#19d3f3",
           "#FF6692",
           "#B6E880",
           "#FF97FF",
           "#FECB52"
          ],
          "font": {
           "color": "#2a3f5f"
          },
          "geo": {
           "bgcolor": "white",
           "lakecolor": "white",
           "landcolor": "white",
           "showlakes": true,
           "showland": true,
           "subunitcolor": "#C8D4E3"
          },
          "hoverlabel": {
           "align": "left"
          },
          "hovermode": "closest",
          "mapbox": {
           "style": "light"
          },
          "paper_bgcolor": "white",
          "plot_bgcolor": "white",
          "polar": {
           "angularaxis": {
            "gridcolor": "#EBF0F8",
            "linecolor": "#EBF0F8",
            "ticks": ""
           },
           "bgcolor": "white",
           "radialaxis": {
            "gridcolor": "#EBF0F8",
            "linecolor": "#EBF0F8",
            "ticks": ""
           }
          },
          "scene": {
           "xaxis": {
            "backgroundcolor": "white",
            "gridcolor": "#DFE8F3",
            "gridwidth": 2,
            "linecolor": "#EBF0F8",
            "showbackground": true,
            "ticks": "",
            "zerolinecolor": "#EBF0F8"
           },
           "yaxis": {
            "backgroundcolor": "white",
            "gridcolor": "#DFE8F3",
            "gridwidth": 2,
            "linecolor": "#EBF0F8",
            "showbackground": true,
            "ticks": "",
            "zerolinecolor": "#EBF0F8"
           },
           "zaxis": {
            "backgroundcolor": "white",
            "gridcolor": "#DFE8F3",
            "gridwidth": 2,
            "linecolor": "#EBF0F8",
            "showbackground": true,
            "ticks": "",
            "zerolinecolor": "#EBF0F8"
           }
          },
          "shapedefaults": {
           "line": {
            "color": "#2a3f5f"
           }
          },
          "ternary": {
           "aaxis": {
            "gridcolor": "#DFE8F3",
            "linecolor": "#A2B1C6",
            "ticks": ""
           },
           "baxis": {
            "gridcolor": "#DFE8F3",
            "linecolor": "#A2B1C6",
            "ticks": ""
           },
           "bgcolor": "white",
           "caxis": {
            "gridcolor": "#DFE8F3",
            "linecolor": "#A2B1C6",
            "ticks": ""
           }
          },
          "title": {
           "x": 0.05
          },
          "xaxis": {
           "automargin": true,
           "gridcolor": "#EBF0F8",
           "linecolor": "#EBF0F8",
           "ticks": "",
           "title": {
            "standoff": 15
           },
           "zerolinecolor": "#EBF0F8",
           "zerolinewidth": 2
          },
          "yaxis": {
           "automargin": true,
           "gridcolor": "#EBF0F8",
           "linecolor": "#EBF0F8",
           "ticks": "",
           "title": {
            "standoff": 15
           },
           "zerolinecolor": "#EBF0F8",
           "zerolinewidth": 2
          }
         }
        },
        "title": {
         "automargin": true,
         "font": {
          "color": "#3a3940",
          "family": "Georgia",
          "size": 22
         },
         "text": "<b>Title</b>",
         "yref": "paper"
        },
        "width": 608,
        "xaxis": {
         "fixedrange": true,
         "linecolor": "#BCCCDC",
         "showgrid": false,
         "showspikes": true,
         "spikecolor": "#999999",
         "spikedash": "dot",
         "spikemode": "across",
         "spikethickness": 2,
         "tickangle": 45,
         "title": {
          "text": "year"
         }
        },
        "yaxis": {
         "fixedrange": true,
         "linecolor": "#BCCCDC",
         "range": [
          -15,
          85
         ],
         "showgrid": false,
         "ticksuffix": "%",
         "title": {
          "text": "cumulative percentage change"
         }
        }
       }
      }
     },
     "metadata": {},
     "output_type": "display_data"
    }
   ],
   "source": [
    "pio.templates.default = \"plotly_white\"\n",
    "\n",
    "fig_fte_percent_change_phd = go.Figure()\n",
    "fig_fte_percent_change_phd.add_trace(go.Scatter(x=phd_pct_change[\"year\"],y=phd_pct_change['student pct change cumulative'],name=\"total student\",mode=\"lines\",line=dict(width=2,color='#2A3128'),visible=True))\n",
    "fig_fte_percent_change_phd.add_trace(go.Scatter(x=phd_pct_change[\"year\"],y=phd_pct_change['staff pct change cumulative'],name=\"total staff\",mode=\"lines\",line=dict(width=2,color='#589C1C'),visible=True))\n",
    "fig_fte_percent_change_phd.add_trace(go.Scatter(x=phd_pct_change[\"year\"],y=phd_pct_change['instruction pct change cumulative'],name=\"instructional staff\",mode=\"lines\",line=dict(width=2,color='#719193'),visible=True))\n",
    "fig_fte_percent_change_phd.add_trace(go.Scatter(x=phd_pct_change[\"year\"],y=phd_pct_change['non instruction pct change cumulative'],name=\"non instructional staff\",mode=\"lines\",line=dict(width=2,color='#929F88'),visible=True))\n",
    "\n",
    "\n",
    "fig_fte_percent_change_phd.update_layout(\n",
    "    plot_bgcolor=\"#FAFDF1\",\n",
    "    paper_bgcolor=\"#FAFDF1\",\n",
    "    hovermode=\"x\",\n",
    "    hoverdistance=100, # Distance to show hover label of data point\n",
    "    spikedistance=1000, # Distance to show spike\n",
    "    xaxis=dict(\n",
    "        title='year',\n",
    "        linecolor=\"#BCCCDC\",\n",
    "        showspikes=True,\n",
    "        spikethickness=2,\n",
    "        spikedash=\"dot\",\n",
    "        spikecolor=\"#999999\",\n",
    "        spikemode=\"across\",\n",
    "        showgrid=False,\n",
    "        fixedrange = True\n",
    "    ),\n",
    "    yaxis = dict(\n",
    "        title=\"cumulative percentage change\",\n",
    "        linecolor=\"#BCCCDC\",\n",
    "        showgrid=False,\n",
    "        fixedrange = True,\n",
    "        range=[-15,85]\n",
    "    )\n",
    ")\n",
    "\n",
    "fig_fte_percent_change_phd.update_layout(\n",
    "    autosize=False,\n",
    "    width=608,\n",
    "    height=508,\n",
    "    margin=dict(l=20, r=25, t=65, b=20))\n",
    "\n",
    "fig_fte_percent_change_phd.update_layout(legend = dict(\n",
    "    orientation = \"h\",\n",
    "    x=0,\n",
    "    y=1,\n",
    "    bgcolor=\"#FAFDF1\")\n",
    ")\n",
    "\n",
    "fig_fte_percent_change_phd.update_layout(\n",
    "    title=dict(text=\"<b>Title</b>\", font=dict(size=24), automargin=True, yref='paper')\n",
    ")\n",
    "\n",
    "fig_fte_percent_change_phd.update_layout(\n",
    "    title_font_family=\"Georgia\",\n",
    "    title_font_color=\"#3a3940\",\n",
    "    title_font_size=22\n",
    ")\n",
    "\n",
    "fig_fte_percent_change_phd.update_layout(yaxis_ticksuffix = \"%\")\n",
    "\n",
    "fig_fte_percent_change_phd = fig_fte_percent_change_phd.update_xaxes(tickangle=45)\n",
    "fig_fte_percent_change_phd.update_layout(hoverlabel_namelength=-1)\n",
    "\n",
    "fig_fte_percent_change_phd.show()"
   ]
  },
  {
   "cell_type": "code",
   "execution_count": 281,
   "metadata": {},
   "outputs": [
    {
     "data": {
      "application/vnd.plotly.v1+json": {
       "config": {
        "plotlyServerURL": "https://plot.ly"
       },
       "data": [
        {
         "line": {
          "color": "#231A1B",
          "width": 2
         },
         "mode": "lines",
         "name": "total student",
         "type": "scatter",
         "visible": true,
         "x": [
          "2002",
          "2003",
          "2004",
          "2005",
          "2006",
          "2007",
          "2008",
          "2009",
          "2010",
          "2011",
          "2012",
          "2013",
          "2014",
          "2015",
          "2016",
          "2017",
          "2018",
          "2019",
          "2020",
          "2021"
         ],
         "y": [
          -0.69,
          1.79,
          3.85,
          4.82,
          6.52,
          8.72,
          8.12,
          17.04,
          19.22,
          20.05,
          19.23,
          18.03,
          17.86,
          17.24,
          17.2,
          17.67,
          17.45,
          17.17,
          13.63,
          11.32
         ]
        },
        {
         "line": {
          "color": "#653B90",
          "width": 2
         },
         "mode": "lines",
         "name": "total staff",
         "type": "scatter",
         "visible": true,
         "x": [
          "2002",
          "2003",
          "2004",
          "2005",
          "2006",
          "2007",
          "2008",
          "2009",
          "2010",
          "2011",
          "2012",
          "2013",
          "2014",
          "2015",
          "2016",
          "2017",
          "2018",
          "2019",
          "2020",
          "2021"
         ],
         "y": [
          -0.25,
          0.23,
          4.72,
          3.4,
          5.75,
          7.86,
          7.06,
          10.38,
          11.21,
          12.66,
          13.38,
          14.59,
          15.86,
          16.28,
          17.76,
          18.63,
          19.54,
          20.88,
          17.2,
          16.14
         ]
        },
        {
         "line": {
          "color": "#DE893F",
          "width": 2
         },
         "mode": "lines",
         "name": "instructional staff",
         "type": "scatter",
         "visible": true,
         "x": [
          "2002",
          "2003",
          "2004",
          "2005",
          "2006",
          "2007",
          "2008",
          "2009",
          "2010",
          "2011",
          "2012",
          "2013",
          "2014",
          "2015",
          "2016",
          "2017",
          "2018",
          "2019",
          "2020",
          "2021"
         ],
         "y": [
          -0.39,
          0.33,
          12.17,
          5.37,
          7.63,
          9.92,
          8.8,
          13.14,
          15.14,
          17.6,
          19.04,
          20.16,
          21.47,
          21.78,
          22.79,
          23.69,
          24.47,
          25.36,
          21.89,
          21.97
         ]
        },
        {
         "line": {
          "color": "#BE9F9D",
          "width": 2
         },
         "mode": "lines",
         "name": "non instructional staff",
         "type": "scatter",
         "visible": true,
         "x": [
          "2002",
          "2003",
          "2004",
          "2005",
          "2006",
          "2007",
          "2008",
          "2009",
          "2010",
          "2011",
          "2012",
          "2013",
          "2014",
          "2015",
          "2016",
          "2017",
          "2018",
          "2019",
          "2020",
          "2021"
         ],
         "y": [
          -0.17,
          0.18,
          0.73,
          2.35,
          4.75,
          6.76,
          6.12,
          8.9,
          9.09,
          10.01,
          10.34,
          11.6,
          12.84,
          13.33,
          15.06,
          15.92,
          16.89,
          18.47,
          14.67,
          13.01
         ]
        }
       ],
       "layout": {
        "autosize": false,
        "height": 508,
        "hoverdistance": 100,
        "hoverlabel": {
         "namelength": -1
        },
        "hovermode": "x",
        "legend": {
         "bgcolor": "#FAFDF1",
         "orientation": "h",
         "x": 0,
         "y": 1
        },
        "margin": {
         "b": 20,
         "l": 20,
         "r": 25,
         "t": 65
        },
        "paper_bgcolor": "#FAFDF1",
        "plot_bgcolor": "#FAFDF1",
        "spikedistance": 1000,
        "template": {
         "data": {
          "bar": [
           {
            "error_x": {
             "color": "#2a3f5f"
            },
            "error_y": {
             "color": "#2a3f5f"
            },
            "marker": {
             "line": {
              "color": "white",
              "width": 0.5
             },
             "pattern": {
              "fillmode": "overlay",
              "size": 10,
              "solidity": 0.2
             }
            },
            "type": "bar"
           }
          ],
          "barpolar": [
           {
            "marker": {
             "line": {
              "color": "white",
              "width": 0.5
             },
             "pattern": {
              "fillmode": "overlay",
              "size": 10,
              "solidity": 0.2
             }
            },
            "type": "barpolar"
           }
          ],
          "carpet": [
           {
            "aaxis": {
             "endlinecolor": "#2a3f5f",
             "gridcolor": "#C8D4E3",
             "linecolor": "#C8D4E3",
             "minorgridcolor": "#C8D4E3",
             "startlinecolor": "#2a3f5f"
            },
            "baxis": {
             "endlinecolor": "#2a3f5f",
             "gridcolor": "#C8D4E3",
             "linecolor": "#C8D4E3",
             "minorgridcolor": "#C8D4E3",
             "startlinecolor": "#2a3f5f"
            },
            "type": "carpet"
           }
          ],
          "choropleth": [
           {
            "colorbar": {
             "outlinewidth": 0,
             "ticks": ""
            },
            "type": "choropleth"
           }
          ],
          "contour": [
           {
            "colorbar": {
             "outlinewidth": 0,
             "ticks": ""
            },
            "colorscale": [
             [
              0,
              "#0d0887"
             ],
             [
              0.1111111111111111,
              "#46039f"
             ],
             [
              0.2222222222222222,
              "#7201a8"
             ],
             [
              0.3333333333333333,
              "#9c179e"
             ],
             [
              0.4444444444444444,
              "#bd3786"
             ],
             [
              0.5555555555555556,
              "#d8576b"
             ],
             [
              0.6666666666666666,
              "#ed7953"
             ],
             [
              0.7777777777777778,
              "#fb9f3a"
             ],
             [
              0.8888888888888888,
              "#fdca26"
             ],
             [
              1,
              "#f0f921"
             ]
            ],
            "type": "contour"
           }
          ],
          "contourcarpet": [
           {
            "colorbar": {
             "outlinewidth": 0,
             "ticks": ""
            },
            "type": "contourcarpet"
           }
          ],
          "heatmap": [
           {
            "colorbar": {
             "outlinewidth": 0,
             "ticks": ""
            },
            "colorscale": [
             [
              0,
              "#0d0887"
             ],
             [
              0.1111111111111111,
              "#46039f"
             ],
             [
              0.2222222222222222,
              "#7201a8"
             ],
             [
              0.3333333333333333,
              "#9c179e"
             ],
             [
              0.4444444444444444,
              "#bd3786"
             ],
             [
              0.5555555555555556,
              "#d8576b"
             ],
             [
              0.6666666666666666,
              "#ed7953"
             ],
             [
              0.7777777777777778,
              "#fb9f3a"
             ],
             [
              0.8888888888888888,
              "#fdca26"
             ],
             [
              1,
              "#f0f921"
             ]
            ],
            "type": "heatmap"
           }
          ],
          "heatmapgl": [
           {
            "colorbar": {
             "outlinewidth": 0,
             "ticks": ""
            },
            "colorscale": [
             [
              0,
              "#0d0887"
             ],
             [
              0.1111111111111111,
              "#46039f"
             ],
             [
              0.2222222222222222,
              "#7201a8"
             ],
             [
              0.3333333333333333,
              "#9c179e"
             ],
             [
              0.4444444444444444,
              "#bd3786"
             ],
             [
              0.5555555555555556,
              "#d8576b"
             ],
             [
              0.6666666666666666,
              "#ed7953"
             ],
             [
              0.7777777777777778,
              "#fb9f3a"
             ],
             [
              0.8888888888888888,
              "#fdca26"
             ],
             [
              1,
              "#f0f921"
             ]
            ],
            "type": "heatmapgl"
           }
          ],
          "histogram": [
           {
            "marker": {
             "pattern": {
              "fillmode": "overlay",
              "size": 10,
              "solidity": 0.2
             }
            },
            "type": "histogram"
           }
          ],
          "histogram2d": [
           {
            "colorbar": {
             "outlinewidth": 0,
             "ticks": ""
            },
            "colorscale": [
             [
              0,
              "#0d0887"
             ],
             [
              0.1111111111111111,
              "#46039f"
             ],
             [
              0.2222222222222222,
              "#7201a8"
             ],
             [
              0.3333333333333333,
              "#9c179e"
             ],
             [
              0.4444444444444444,
              "#bd3786"
             ],
             [
              0.5555555555555556,
              "#d8576b"
             ],
             [
              0.6666666666666666,
              "#ed7953"
             ],
             [
              0.7777777777777778,
              "#fb9f3a"
             ],
             [
              0.8888888888888888,
              "#fdca26"
             ],
             [
              1,
              "#f0f921"
             ]
            ],
            "type": "histogram2d"
           }
          ],
          "histogram2dcontour": [
           {
            "colorbar": {
             "outlinewidth": 0,
             "ticks": ""
            },
            "colorscale": [
             [
              0,
              "#0d0887"
             ],
             [
              0.1111111111111111,
              "#46039f"
             ],
             [
              0.2222222222222222,
              "#7201a8"
             ],
             [
              0.3333333333333333,
              "#9c179e"
             ],
             [
              0.4444444444444444,
              "#bd3786"
             ],
             [
              0.5555555555555556,
              "#d8576b"
             ],
             [
              0.6666666666666666,
              "#ed7953"
             ],
             [
              0.7777777777777778,
              "#fb9f3a"
             ],
             [
              0.8888888888888888,
              "#fdca26"
             ],
             [
              1,
              "#f0f921"
             ]
            ],
            "type": "histogram2dcontour"
           }
          ],
          "mesh3d": [
           {
            "colorbar": {
             "outlinewidth": 0,
             "ticks": ""
            },
            "type": "mesh3d"
           }
          ],
          "parcoords": [
           {
            "line": {
             "colorbar": {
              "outlinewidth": 0,
              "ticks": ""
             }
            },
            "type": "parcoords"
           }
          ],
          "pie": [
           {
            "automargin": true,
            "type": "pie"
           }
          ],
          "scatter": [
           {
            "fillpattern": {
             "fillmode": "overlay",
             "size": 10,
             "solidity": 0.2
            },
            "type": "scatter"
           }
          ],
          "scatter3d": [
           {
            "line": {
             "colorbar": {
              "outlinewidth": 0,
              "ticks": ""
             }
            },
            "marker": {
             "colorbar": {
              "outlinewidth": 0,
              "ticks": ""
             }
            },
            "type": "scatter3d"
           }
          ],
          "scattercarpet": [
           {
            "marker": {
             "colorbar": {
              "outlinewidth": 0,
              "ticks": ""
             }
            },
            "type": "scattercarpet"
           }
          ],
          "scattergeo": [
           {
            "marker": {
             "colorbar": {
              "outlinewidth": 0,
              "ticks": ""
             }
            },
            "type": "scattergeo"
           }
          ],
          "scattergl": [
           {
            "marker": {
             "colorbar": {
              "outlinewidth": 0,
              "ticks": ""
             }
            },
            "type": "scattergl"
           }
          ],
          "scattermapbox": [
           {
            "marker": {
             "colorbar": {
              "outlinewidth": 0,
              "ticks": ""
             }
            },
            "type": "scattermapbox"
           }
          ],
          "scatterpolar": [
           {
            "marker": {
             "colorbar": {
              "outlinewidth": 0,
              "ticks": ""
             }
            },
            "type": "scatterpolar"
           }
          ],
          "scatterpolargl": [
           {
            "marker": {
             "colorbar": {
              "outlinewidth": 0,
              "ticks": ""
             }
            },
            "type": "scatterpolargl"
           }
          ],
          "scatterternary": [
           {
            "marker": {
             "colorbar": {
              "outlinewidth": 0,
              "ticks": ""
             }
            },
            "type": "scatterternary"
           }
          ],
          "surface": [
           {
            "colorbar": {
             "outlinewidth": 0,
             "ticks": ""
            },
            "colorscale": [
             [
              0,
              "#0d0887"
             ],
             [
              0.1111111111111111,
              "#46039f"
             ],
             [
              0.2222222222222222,
              "#7201a8"
             ],
             [
              0.3333333333333333,
              "#9c179e"
             ],
             [
              0.4444444444444444,
              "#bd3786"
             ],
             [
              0.5555555555555556,
              "#d8576b"
             ],
             [
              0.6666666666666666,
              "#ed7953"
             ],
             [
              0.7777777777777778,
              "#fb9f3a"
             ],
             [
              0.8888888888888888,
              "#fdca26"
             ],
             [
              1,
              "#f0f921"
             ]
            ],
            "type": "surface"
           }
          ],
          "table": [
           {
            "cells": {
             "fill": {
              "color": "#EBF0F8"
             },
             "line": {
              "color": "white"
             }
            },
            "header": {
             "fill": {
              "color": "#C8D4E3"
             },
             "line": {
              "color": "white"
             }
            },
            "type": "table"
           }
          ]
         },
         "layout": {
          "annotationdefaults": {
           "arrowcolor": "#2a3f5f",
           "arrowhead": 0,
           "arrowwidth": 1
          },
          "autotypenumbers": "strict",
          "coloraxis": {
           "colorbar": {
            "outlinewidth": 0,
            "ticks": ""
           }
          },
          "colorscale": {
           "diverging": [
            [
             0,
             "#8e0152"
            ],
            [
             0.1,
             "#c51b7d"
            ],
            [
             0.2,
             "#de77ae"
            ],
            [
             0.3,
             "#f1b6da"
            ],
            [
             0.4,
             "#fde0ef"
            ],
            [
             0.5,
             "#f7f7f7"
            ],
            [
             0.6,
             "#e6f5d0"
            ],
            [
             0.7,
             "#b8e186"
            ],
            [
             0.8,
             "#7fbc41"
            ],
            [
             0.9,
             "#4d9221"
            ],
            [
             1,
             "#276419"
            ]
           ],
           "sequential": [
            [
             0,
             "#0d0887"
            ],
            [
             0.1111111111111111,
             "#46039f"
            ],
            [
             0.2222222222222222,
             "#7201a8"
            ],
            [
             0.3333333333333333,
             "#9c179e"
            ],
            [
             0.4444444444444444,
             "#bd3786"
            ],
            [
             0.5555555555555556,
             "#d8576b"
            ],
            [
             0.6666666666666666,
             "#ed7953"
            ],
            [
             0.7777777777777778,
             "#fb9f3a"
            ],
            [
             0.8888888888888888,
             "#fdca26"
            ],
            [
             1,
             "#f0f921"
            ]
           ],
           "sequentialminus": [
            [
             0,
             "#0d0887"
            ],
            [
             0.1111111111111111,
             "#46039f"
            ],
            [
             0.2222222222222222,
             "#7201a8"
            ],
            [
             0.3333333333333333,
             "#9c179e"
            ],
            [
             0.4444444444444444,
             "#bd3786"
            ],
            [
             0.5555555555555556,
             "#d8576b"
            ],
            [
             0.6666666666666666,
             "#ed7953"
            ],
            [
             0.7777777777777778,
             "#fb9f3a"
            ],
            [
             0.8888888888888888,
             "#fdca26"
            ],
            [
             1,
             "#f0f921"
            ]
           ]
          },
          "colorway": [
           "#636efa",
           "#EF553B",
           "#00cc96",
           "#ab63fa",
           "#FFA15A",
           "#19d3f3",
           "#FF6692",
           "#B6E880",
           "#FF97FF",
           "#FECB52"
          ],
          "font": {
           "color": "#2a3f5f"
          },
          "geo": {
           "bgcolor": "white",
           "lakecolor": "white",
           "landcolor": "white",
           "showlakes": true,
           "showland": true,
           "subunitcolor": "#C8D4E3"
          },
          "hoverlabel": {
           "align": "left"
          },
          "hovermode": "closest",
          "mapbox": {
           "style": "light"
          },
          "paper_bgcolor": "white",
          "plot_bgcolor": "white",
          "polar": {
           "angularaxis": {
            "gridcolor": "#EBF0F8",
            "linecolor": "#EBF0F8",
            "ticks": ""
           },
           "bgcolor": "white",
           "radialaxis": {
            "gridcolor": "#EBF0F8",
            "linecolor": "#EBF0F8",
            "ticks": ""
           }
          },
          "scene": {
           "xaxis": {
            "backgroundcolor": "white",
            "gridcolor": "#DFE8F3",
            "gridwidth": 2,
            "linecolor": "#EBF0F8",
            "showbackground": true,
            "ticks": "",
            "zerolinecolor": "#EBF0F8"
           },
           "yaxis": {
            "backgroundcolor": "white",
            "gridcolor": "#DFE8F3",
            "gridwidth": 2,
            "linecolor": "#EBF0F8",
            "showbackground": true,
            "ticks": "",
            "zerolinecolor": "#EBF0F8"
           },
           "zaxis": {
            "backgroundcolor": "white",
            "gridcolor": "#DFE8F3",
            "gridwidth": 2,
            "linecolor": "#EBF0F8",
            "showbackground": true,
            "ticks": "",
            "zerolinecolor": "#EBF0F8"
           }
          },
          "shapedefaults": {
           "line": {
            "color": "#2a3f5f"
           }
          },
          "ternary": {
           "aaxis": {
            "gridcolor": "#DFE8F3",
            "linecolor": "#A2B1C6",
            "ticks": ""
           },
           "baxis": {
            "gridcolor": "#DFE8F3",
            "linecolor": "#A2B1C6",
            "ticks": ""
           },
           "bgcolor": "white",
           "caxis": {
            "gridcolor": "#DFE8F3",
            "linecolor": "#A2B1C6",
            "ticks": ""
           }
          },
          "title": {
           "x": 0.05
          },
          "xaxis": {
           "automargin": true,
           "gridcolor": "#EBF0F8",
           "linecolor": "#EBF0F8",
           "ticks": "",
           "title": {
            "standoff": 15
           },
           "zerolinecolor": "#EBF0F8",
           "zerolinewidth": 2
          },
          "yaxis": {
           "automargin": true,
           "gridcolor": "#EBF0F8",
           "linecolor": "#EBF0F8",
           "ticks": "",
           "title": {
            "standoff": 15
           },
           "zerolinecolor": "#EBF0F8",
           "zerolinewidth": 2
          }
         }
        },
        "title": {
         "automargin": true,
         "font": {
          "color": "#3a3940",
          "family": "Georgia",
          "size": 22
         },
         "text": "<b>Title</b>",
         "yref": "paper"
        },
        "width": 608,
        "xaxis": {
         "fixedrange": true,
         "linecolor": "#BCCCDC",
         "showgrid": false,
         "showspikes": true,
         "spikecolor": "#999999",
         "spikedash": "dot",
         "spikemode": "across",
         "spikethickness": 2,
         "tickangle": 45,
         "title": {
          "text": "year"
         }
        },
        "yaxis": {
         "fixedrange": true,
         "linecolor": "#BCCCDC",
         "range": [
          -15,
          85
         ],
         "showgrid": false,
         "ticksuffix": "%",
         "title": {
          "text": "cumulative percentage change"
         }
        }
       }
      }
     },
     "metadata": {},
     "output_type": "display_data"
    }
   ],
   "source": [
    "#percent change - all institutions\n",
    "\n",
    "pio.templates.default = \"plotly_white\"\n",
    "\n",
    "fig_fte_percent_change_all_inst = go.Figure()\n",
    "fig_fte_percent_change_all_inst.add_trace(go.Scatter(x=all_inst_pct_change[\"year\"],y=all_inst_pct_change['student pct change cumulative'],name=\"total student\",mode=\"lines\",line=dict(width=2,color='#231A1B'),visible=True))\n",
    "fig_fte_percent_change_all_inst.add_trace(go.Scatter(x=all_inst_pct_change[\"year\"],y=all_inst_pct_change['staff pct change cumulative'],name=\"total staff\",mode=\"lines\",line=dict(width=2,color='#653B90'),visible=True))\n",
    "fig_fte_percent_change_all_inst.add_trace(go.Scatter(x=all_inst_pct_change[\"year\"],y=all_inst_pct_change['instruction pct change cumulative'],name=\"instructional staff\",mode=\"lines\",line=dict(width=2,color='#DE893F'),visible=True))\n",
    "fig_fte_percent_change_all_inst.add_trace(go.Scatter(x=all_inst_pct_change[\"year\"],y=all_inst_pct_change['non instruction pct change cumulative'],name=\"non instructional staff\",mode=\"lines\",line=dict(width=2,color='#BE9F9D'),visible=True))\n",
    "\n",
    "\n",
    "fig_fte_percent_change_all_inst.update_layout(\n",
    "    plot_bgcolor=\"#FAFDF1\",\n",
    "    paper_bgcolor=\"#FAFDF1\",\n",
    "    hovermode=\"x\",\n",
    "    hoverdistance=100, # Distance to show hover label of data point\n",
    "    spikedistance=1000, # Distance to show spike\n",
    "    xaxis=dict(\n",
    "        title='year',\n",
    "        linecolor=\"#BCCCDC\",\n",
    "        showspikes=True,\n",
    "        spikethickness=2,\n",
    "        spikedash=\"dot\",\n",
    "        spikecolor=\"#999999\",\n",
    "        spikemode=\"across\",\n",
    "        showgrid=False,\n",
    "        fixedrange = True\n",
    "    ),\n",
    "    yaxis = dict(\n",
    "        title=\"cumulative percentage change\",\n",
    "        linecolor=\"#BCCCDC\",\n",
    "        showgrid=False,\n",
    "        fixedrange = True,\n",
    "        range=[-15,85]\n",
    "    )\n",
    ")\n",
    "\n",
    "fig_fte_percent_change_all_inst.update_layout(\n",
    "    autosize=False,\n",
    "    width=608,\n",
    "    height=508,\n",
    "    margin=dict(l=20, r=25, t=65, b=20))\n",
    "\n",
    "fig_fte_percent_change_all_inst.update_layout(legend = dict(\n",
    "    orientation = \"h\",\n",
    "    x=0,\n",
    "    y=1,\n",
    "    bgcolor=\"#FAFDF1\")\n",
    ")\n",
    "\n",
    "fig_fte_percent_change_all_inst.update_layout(\n",
    "    title=dict(text=\"<b>Title</b>\", font=dict(size=24), automargin=True, yref='paper')\n",
    ")\n",
    "\n",
    "fig_fte_percent_change_all_inst.update_layout(\n",
    "    title_font_family=\"Georgia\",\n",
    "    title_font_color=\"#3a3940\",\n",
    "    title_font_size = 22\n",
    ")\n",
    "\n",
    "fig_fte_percent_change_all_inst.update_layout(yaxis_ticksuffix = \"%\")\n",
    "\n",
    "fig_fte_percent_change_all_inst = fig_fte_percent_change_all_inst.update_xaxes(tickangle=45)\n",
    "fig_fte_percent_change_all_inst.update_layout(hoverlabel_namelength=-1)\n",
    "\n",
    "fig_fte_percent_change_all_inst.show()"
   ]
  },
  {
   "cell_type": "code",
   "execution_count": 282,
   "metadata": {},
   "outputs": [
    {
     "data": {
      "application/vnd.plotly.v1+json": {
       "config": {
        "plotlyServerURL": "https://plot.ly"
       },
       "data": [
        {
         "marker": {
          "color": "#142A9C"
         },
         "name": "student : staff ratio",
         "orientation": "v",
         "type": "bar",
         "visible": true,
         "width": 0.3,
         "x": [
          "2002",
          "2003",
          "2004",
          "2005",
          "2006",
          "2007",
          "2008",
          "2009",
          "2010",
          "2011",
          "2012",
          "2013",
          "2014",
          "2015",
          "2016",
          "2017",
          "2018",
          "2019",
          "2020",
          "2021"
         ],
         "xaxis": "x",
         "y": [
          2.02,
          1.91,
          1.88,
          1.79,
          1.71,
          1.64,
          1.35,
          1.52,
          1.58,
          1.6,
          1.62,
          1.6,
          1.62,
          1.59,
          1.57,
          1.62,
          1.65,
          1.63,
          1.44,
          1.72
         ],
         "yaxis": "y"
        },
        {
         "marker": {
          "color": "#A1A1CE"
         },
         "name": "student : instructional staff ratio",
         "orientation": "v",
         "type": "bar",
         "visible": false,
         "width": 0.3,
         "x": [
          "2002",
          "2003",
          "2004",
          "2005",
          "2006",
          "2007",
          "2008",
          "2009",
          "2010",
          "2011",
          "2012",
          "2013",
          "2014",
          "2015",
          "2016",
          "2017",
          "2018",
          "2019",
          "2020",
          "2021"
         ],
         "xaxis": "x",
         "y": [
          8.6,
          7.96,
          7.6,
          7.1,
          6.83,
          6.5,
          5.45,
          5.91,
          5.93,
          6.01,
          6.6,
          6.54,
          6.37,
          6.38,
          6.07,
          6.12,
          6.76,
          6.57,
          5.79,
          6.71
         ],
         "yaxis": "y"
        },
        {
         "marker": {
          "color": "#7498D2"
         },
         "name": "student : non instructional staff ratio",
         "orientation": "v",
         "type": "bar",
         "visible": false,
         "width": 0.3,
         "x": [
          "2002",
          "2003",
          "2004",
          "2005",
          "2006",
          "2007",
          "2008",
          "2009",
          "2010",
          "2011",
          "2012",
          "2013",
          "2014",
          "2015",
          "2016",
          "2017",
          "2018",
          "2019",
          "2020",
          "2021"
         ],
         "xaxis": "x",
         "y": [
          2.63,
          2.51,
          2.49,
          2.39,
          2.28,
          2.2,
          1.8,
          2.05,
          2.15,
          2.18,
          2.14,
          2.12,
          2.16,
          2.11,
          2.12,
          2.2,
          2.19,
          2.16,
          1.91,
          2.31
         ],
         "yaxis": "y"
        },
        {
         "line": {
          "color": "#3a3940",
          "width": 2
         },
         "mode": "lines",
         "name": "total student",
         "type": "scatter",
         "visible": true,
         "x": [
          "2002",
          "2003",
          "2004",
          "2005",
          "2006",
          "2007",
          "2008",
          "2009",
          "2010",
          "2011",
          "2012",
          "2013",
          "2014",
          "2015",
          "2016",
          "2017",
          "2018",
          "2019",
          "2020",
          "2021"
         ],
         "xaxis": "x",
         "y": [
          11261,
          11315,
          11276,
          11360,
          11303,
          11345,
          10109,
          11507,
          11597,
          11763,
          11804,
          11997,
          12223,
          12302,
          12388,
          12915,
          13353,
          13522,
          11964,
          14439
         ],
         "yaxis": "y2"
        }
       ],
       "layout": {
        "autosize": false,
        "height": 508,
        "hoverdistance": 100,
        "hoverlabel": {
         "namelength": -1
        },
        "hovermode": "x",
        "legend": {
         "bgcolor": "#FAFDF1",
         "orientation": "h",
         "x": 0,
         "y": 1
        },
        "margin": {
         "b": 20,
         "l": 20,
         "r": 20,
         "t": 20
        },
        "paper_bgcolor": "#FAFDF1",
        "plot_bgcolor": "#FAFDF1",
        "spikedistance": 1000,
        "template": {
         "data": {
          "bar": [
           {
            "error_x": {
             "color": "#2a3f5f"
            },
            "error_y": {
             "color": "#2a3f5f"
            },
            "marker": {
             "line": {
              "color": "white",
              "width": 0.5
             },
             "pattern": {
              "fillmode": "overlay",
              "size": 10,
              "solidity": 0.2
             }
            },
            "type": "bar"
           }
          ],
          "barpolar": [
           {
            "marker": {
             "line": {
              "color": "white",
              "width": 0.5
             },
             "pattern": {
              "fillmode": "overlay",
              "size": 10,
              "solidity": 0.2
             }
            },
            "type": "barpolar"
           }
          ],
          "carpet": [
           {
            "aaxis": {
             "endlinecolor": "#2a3f5f",
             "gridcolor": "#C8D4E3",
             "linecolor": "#C8D4E3",
             "minorgridcolor": "#C8D4E3",
             "startlinecolor": "#2a3f5f"
            },
            "baxis": {
             "endlinecolor": "#2a3f5f",
             "gridcolor": "#C8D4E3",
             "linecolor": "#C8D4E3",
             "minorgridcolor": "#C8D4E3",
             "startlinecolor": "#2a3f5f"
            },
            "type": "carpet"
           }
          ],
          "choropleth": [
           {
            "colorbar": {
             "outlinewidth": 0,
             "ticks": ""
            },
            "type": "choropleth"
           }
          ],
          "contour": [
           {
            "colorbar": {
             "outlinewidth": 0,
             "ticks": ""
            },
            "colorscale": [
             [
              0,
              "#0d0887"
             ],
             [
              0.1111111111111111,
              "#46039f"
             ],
             [
              0.2222222222222222,
              "#7201a8"
             ],
             [
              0.3333333333333333,
              "#9c179e"
             ],
             [
              0.4444444444444444,
              "#bd3786"
             ],
             [
              0.5555555555555556,
              "#d8576b"
             ],
             [
              0.6666666666666666,
              "#ed7953"
             ],
             [
              0.7777777777777778,
              "#fb9f3a"
             ],
             [
              0.8888888888888888,
              "#fdca26"
             ],
             [
              1,
              "#f0f921"
             ]
            ],
            "type": "contour"
           }
          ],
          "contourcarpet": [
           {
            "colorbar": {
             "outlinewidth": 0,
             "ticks": ""
            },
            "type": "contourcarpet"
           }
          ],
          "heatmap": [
           {
            "colorbar": {
             "outlinewidth": 0,
             "ticks": ""
            },
            "colorscale": [
             [
              0,
              "#0d0887"
             ],
             [
              0.1111111111111111,
              "#46039f"
             ],
             [
              0.2222222222222222,
              "#7201a8"
             ],
             [
              0.3333333333333333,
              "#9c179e"
             ],
             [
              0.4444444444444444,
              "#bd3786"
             ],
             [
              0.5555555555555556,
              "#d8576b"
             ],
             [
              0.6666666666666666,
              "#ed7953"
             ],
             [
              0.7777777777777778,
              "#fb9f3a"
             ],
             [
              0.8888888888888888,
              "#fdca26"
             ],
             [
              1,
              "#f0f921"
             ]
            ],
            "type": "heatmap"
           }
          ],
          "heatmapgl": [
           {
            "colorbar": {
             "outlinewidth": 0,
             "ticks": ""
            },
            "colorscale": [
             [
              0,
              "#0d0887"
             ],
             [
              0.1111111111111111,
              "#46039f"
             ],
             [
              0.2222222222222222,
              "#7201a8"
             ],
             [
              0.3333333333333333,
              "#9c179e"
             ],
             [
              0.4444444444444444,
              "#bd3786"
             ],
             [
              0.5555555555555556,
              "#d8576b"
             ],
             [
              0.6666666666666666,
              "#ed7953"
             ],
             [
              0.7777777777777778,
              "#fb9f3a"
             ],
             [
              0.8888888888888888,
              "#fdca26"
             ],
             [
              1,
              "#f0f921"
             ]
            ],
            "type": "heatmapgl"
           }
          ],
          "histogram": [
           {
            "marker": {
             "pattern": {
              "fillmode": "overlay",
              "size": 10,
              "solidity": 0.2
             }
            },
            "type": "histogram"
           }
          ],
          "histogram2d": [
           {
            "colorbar": {
             "outlinewidth": 0,
             "ticks": ""
            },
            "colorscale": [
             [
              0,
              "#0d0887"
             ],
             [
              0.1111111111111111,
              "#46039f"
             ],
             [
              0.2222222222222222,
              "#7201a8"
             ],
             [
              0.3333333333333333,
              "#9c179e"
             ],
             [
              0.4444444444444444,
              "#bd3786"
             ],
             [
              0.5555555555555556,
              "#d8576b"
             ],
             [
              0.6666666666666666,
              "#ed7953"
             ],
             [
              0.7777777777777778,
              "#fb9f3a"
             ],
             [
              0.8888888888888888,
              "#fdca26"
             ],
             [
              1,
              "#f0f921"
             ]
            ],
            "type": "histogram2d"
           }
          ],
          "histogram2dcontour": [
           {
            "colorbar": {
             "outlinewidth": 0,
             "ticks": ""
            },
            "colorscale": [
             [
              0,
              "#0d0887"
             ],
             [
              0.1111111111111111,
              "#46039f"
             ],
             [
              0.2222222222222222,
              "#7201a8"
             ],
             [
              0.3333333333333333,
              "#9c179e"
             ],
             [
              0.4444444444444444,
              "#bd3786"
             ],
             [
              0.5555555555555556,
              "#d8576b"
             ],
             [
              0.6666666666666666,
              "#ed7953"
             ],
             [
              0.7777777777777778,
              "#fb9f3a"
             ],
             [
              0.8888888888888888,
              "#fdca26"
             ],
             [
              1,
              "#f0f921"
             ]
            ],
            "type": "histogram2dcontour"
           }
          ],
          "mesh3d": [
           {
            "colorbar": {
             "outlinewidth": 0,
             "ticks": ""
            },
            "type": "mesh3d"
           }
          ],
          "parcoords": [
           {
            "line": {
             "colorbar": {
              "outlinewidth": 0,
              "ticks": ""
             }
            },
            "type": "parcoords"
           }
          ],
          "pie": [
           {
            "automargin": true,
            "type": "pie"
           }
          ],
          "scatter": [
           {
            "fillpattern": {
             "fillmode": "overlay",
             "size": 10,
             "solidity": 0.2
            },
            "type": "scatter"
           }
          ],
          "scatter3d": [
           {
            "line": {
             "colorbar": {
              "outlinewidth": 0,
              "ticks": ""
             }
            },
            "marker": {
             "colorbar": {
              "outlinewidth": 0,
              "ticks": ""
             }
            },
            "type": "scatter3d"
           }
          ],
          "scattercarpet": [
           {
            "marker": {
             "colorbar": {
              "outlinewidth": 0,
              "ticks": ""
             }
            },
            "type": "scattercarpet"
           }
          ],
          "scattergeo": [
           {
            "marker": {
             "colorbar": {
              "outlinewidth": 0,
              "ticks": ""
             }
            },
            "type": "scattergeo"
           }
          ],
          "scattergl": [
           {
            "marker": {
             "colorbar": {
              "outlinewidth": 0,
              "ticks": ""
             }
            },
            "type": "scattergl"
           }
          ],
          "scattermapbox": [
           {
            "marker": {
             "colorbar": {
              "outlinewidth": 0,
              "ticks": ""
             }
            },
            "type": "scattermapbox"
           }
          ],
          "scatterpolar": [
           {
            "marker": {
             "colorbar": {
              "outlinewidth": 0,
              "ticks": ""
             }
            },
            "type": "scatterpolar"
           }
          ],
          "scatterpolargl": [
           {
            "marker": {
             "colorbar": {
              "outlinewidth": 0,
              "ticks": ""
             }
            },
            "type": "scatterpolargl"
           }
          ],
          "scatterternary": [
           {
            "marker": {
             "colorbar": {
              "outlinewidth": 0,
              "ticks": ""
             }
            },
            "type": "scatterternary"
           }
          ],
          "surface": [
           {
            "colorbar": {
             "outlinewidth": 0,
             "ticks": ""
            },
            "colorscale": [
             [
              0,
              "#0d0887"
             ],
             [
              0.1111111111111111,
              "#46039f"
             ],
             [
              0.2222222222222222,
              "#7201a8"
             ],
             [
              0.3333333333333333,
              "#9c179e"
             ],
             [
              0.4444444444444444,
              "#bd3786"
             ],
             [
              0.5555555555555556,
              "#d8576b"
             ],
             [
              0.6666666666666666,
              "#ed7953"
             ],
             [
              0.7777777777777778,
              "#fb9f3a"
             ],
             [
              0.8888888888888888,
              "#fdca26"
             ],
             [
              1,
              "#f0f921"
             ]
            ],
            "type": "surface"
           }
          ],
          "table": [
           {
            "cells": {
             "fill": {
              "color": "#EBF0F8"
             },
             "line": {
              "color": "white"
             }
            },
            "header": {
             "fill": {
              "color": "#C8D4E3"
             },
             "line": {
              "color": "white"
             }
            },
            "type": "table"
           }
          ]
         },
         "layout": {
          "annotationdefaults": {
           "arrowcolor": "#2a3f5f",
           "arrowhead": 0,
           "arrowwidth": 1
          },
          "autotypenumbers": "strict",
          "coloraxis": {
           "colorbar": {
            "outlinewidth": 0,
            "ticks": ""
           }
          },
          "colorscale": {
           "diverging": [
            [
             0,
             "#8e0152"
            ],
            [
             0.1,
             "#c51b7d"
            ],
            [
             0.2,
             "#de77ae"
            ],
            [
             0.3,
             "#f1b6da"
            ],
            [
             0.4,
             "#fde0ef"
            ],
            [
             0.5,
             "#f7f7f7"
            ],
            [
             0.6,
             "#e6f5d0"
            ],
            [
             0.7,
             "#b8e186"
            ],
            [
             0.8,
             "#7fbc41"
            ],
            [
             0.9,
             "#4d9221"
            ],
            [
             1,
             "#276419"
            ]
           ],
           "sequential": [
            [
             0,
             "#0d0887"
            ],
            [
             0.1111111111111111,
             "#46039f"
            ],
            [
             0.2222222222222222,
             "#7201a8"
            ],
            [
             0.3333333333333333,
             "#9c179e"
            ],
            [
             0.4444444444444444,
             "#bd3786"
            ],
            [
             0.5555555555555556,
             "#d8576b"
            ],
            [
             0.6666666666666666,
             "#ed7953"
            ],
            [
             0.7777777777777778,
             "#fb9f3a"
            ],
            [
             0.8888888888888888,
             "#fdca26"
            ],
            [
             1,
             "#f0f921"
            ]
           ],
           "sequentialminus": [
            [
             0,
             "#0d0887"
            ],
            [
             0.1111111111111111,
             "#46039f"
            ],
            [
             0.2222222222222222,
             "#7201a8"
            ],
            [
             0.3333333333333333,
             "#9c179e"
            ],
            [
             0.4444444444444444,
             "#bd3786"
            ],
            [
             0.5555555555555556,
             "#d8576b"
            ],
            [
             0.6666666666666666,
             "#ed7953"
            ],
            [
             0.7777777777777778,
             "#fb9f3a"
            ],
            [
             0.8888888888888888,
             "#fdca26"
            ],
            [
             1,
             "#f0f921"
            ]
           ]
          },
          "colorway": [
           "#636efa",
           "#EF553B",
           "#00cc96",
           "#ab63fa",
           "#FFA15A",
           "#19d3f3",
           "#FF6692",
           "#B6E880",
           "#FF97FF",
           "#FECB52"
          ],
          "font": {
           "color": "#2a3f5f"
          },
          "geo": {
           "bgcolor": "white",
           "lakecolor": "white",
           "landcolor": "white",
           "showlakes": true,
           "showland": true,
           "subunitcolor": "#C8D4E3"
          },
          "hoverlabel": {
           "align": "left"
          },
          "hovermode": "closest",
          "mapbox": {
           "style": "light"
          },
          "paper_bgcolor": "white",
          "plot_bgcolor": "white",
          "polar": {
           "angularaxis": {
            "gridcolor": "#EBF0F8",
            "linecolor": "#EBF0F8",
            "ticks": ""
           },
           "bgcolor": "white",
           "radialaxis": {
            "gridcolor": "#EBF0F8",
            "linecolor": "#EBF0F8",
            "ticks": ""
           }
          },
          "scene": {
           "xaxis": {
            "backgroundcolor": "white",
            "gridcolor": "#DFE8F3",
            "gridwidth": 2,
            "linecolor": "#EBF0F8",
            "showbackground": true,
            "ticks": "",
            "zerolinecolor": "#EBF0F8"
           },
           "yaxis": {
            "backgroundcolor": "white",
            "gridcolor": "#DFE8F3",
            "gridwidth": 2,
            "linecolor": "#EBF0F8",
            "showbackground": true,
            "ticks": "",
            "zerolinecolor": "#EBF0F8"
           },
           "zaxis": {
            "backgroundcolor": "white",
            "gridcolor": "#DFE8F3",
            "gridwidth": 2,
            "linecolor": "#EBF0F8",
            "showbackground": true,
            "ticks": "",
            "zerolinecolor": "#EBF0F8"
           }
          },
          "shapedefaults": {
           "line": {
            "color": "#2a3f5f"
           }
          },
          "ternary": {
           "aaxis": {
            "gridcolor": "#DFE8F3",
            "linecolor": "#A2B1C6",
            "ticks": ""
           },
           "baxis": {
            "gridcolor": "#DFE8F3",
            "linecolor": "#A2B1C6",
            "ticks": ""
           },
           "bgcolor": "white",
           "caxis": {
            "gridcolor": "#DFE8F3",
            "linecolor": "#A2B1C6",
            "ticks": ""
           }
          },
          "title": {
           "x": 0.05
          },
          "xaxis": {
           "automargin": true,
           "gridcolor": "#EBF0F8",
           "linecolor": "#EBF0F8",
           "ticks": "",
           "title": {
            "standoff": 15
           },
           "zerolinecolor": "#EBF0F8",
           "zerolinewidth": 2
          },
          "yaxis": {
           "automargin": true,
           "gridcolor": "#EBF0F8",
           "linecolor": "#EBF0F8",
           "ticks": "",
           "title": {
            "standoff": 15
           },
           "zerolinecolor": "#EBF0F8",
           "zerolinewidth": 2
          }
         }
        },
        "title": {
         "automargin": true,
         "font": {
          "color": "#3a3940",
          "family": "Georgia",
          "size": 22
         },
         "text": "<b>Title</b>",
         "yref": "paper"
        },
        "updatemenus": [
         {
          "active": 0,
          "buttons": [
           {
            "args": [
             {
              "visible": [
               true,
               false,
               false,
               true
              ]
             }
            ],
            "label": "Total",
            "method": "update"
           },
           {
            "args": [
             {
              "visible": [
               true,
               true,
               true,
               true
              ]
             }
            ],
            "label": "Staff Type",
            "method": "update"
           }
          ],
          "direction": "right",
          "type": "buttons",
          "x": 1,
          "y": 1.15
         }
        ],
        "width": 608,
        "xaxis": {
         "anchor": "y",
         "domain": [
          0,
          0.94
         ],
         "fixedrange": true,
         "linecolor": "#BCCCDC",
         "showgrid": false,
         "showspikes": true,
         "spikecolor": "#999999",
         "spikedash": "dot",
         "spikemode": "across",
         "spikethickness": 2,
         "tickangle": 45,
         "title": {
          "text": "year"
         }
        },
        "yaxis": {
         "anchor": "x",
         "domain": [
          0,
          1
         ],
         "fixedrange": true,
         "linecolor": "#BCCCDC",
         "range": [
          0,
          15
         ],
         "showgrid": false,
         "title": {
          "text": "student FTE per staff FTE"
         }
        },
        "yaxis2": {
         "anchor": "x",
         "overlaying": "y",
         "range": [
          0,
          16000
         ],
         "side": "right",
         "title": {
          "text": "FTE headcount"
         }
        }
       }
      }
     },
     "metadata": {},
     "output_type": "display_data"
    }
   ],
   "source": [
    "pio.templates.default = \"plotly_white\"\n",
    "\n",
    "fig_ratio = make_subplots(specs=[[{\"secondary_y\": True}]])\n",
    "\n",
    "fig_ratio.add_trace(go.Bar(x=yale_pct_change[\"year\"],y=yale_pct_change['student fte per staff fte'],orientation='v',name=\"student : staff ratio\",marker=dict(color='#142A9C'),width=.3,visible=True),secondary_y=False)\n",
    "fig_ratio.add_trace(go.Bar(x=yale_pct_change[\"year\"],y=yale_pct_change['student fte per instruction staff fte'],orientation='v',name=\"student : instructional staff ratio\",marker=dict(color='#A1A1CE'),width=.3,visible=False),secondary_y=False)\n",
    "fig_ratio.add_trace(go.Bar(x=yale_pct_change[\"year\"],y=yale_pct_change['student fte per non instruction staff fte'],orientation='v',name=\"student : non instructional staff ratio\",marker=dict(color='#7498D2'),width=.3,visible=False),secondary_y=False)\n",
    "fig_ratio.add_trace(go.Scatter(x=yale_pct_change[\"year\"],y=yale_pct_change['student fte'],name=\"total student\",mode=\"lines\",line=dict(width=2,color='#3a3940'),visible=True),secondary_y=True)\n",
    "\n",
    "\n",
    "fig_ratio.update_yaxes(title_text=\"FTE headcount\", range=[0,16000], secondary_y=True)\n",
    "\n",
    "fig_ratio.update_layout(\n",
    "    plot_bgcolor=\"#FAFDF1\",\n",
    "    paper_bgcolor=\"#FAFDF1\",\n",
    "    hovermode=\"x\",\n",
    "    hoverdistance=100, # Distance to show hover label of data point\n",
    "    spikedistance=1000, # Distance to show spike\n",
    "    xaxis=dict(\n",
    "        title='year',\n",
    "        linecolor=\"#BCCCDC\",\n",
    "        showspikes=True,\n",
    "        spikethickness=2,\n",
    "        spikedash=\"dot\",\n",
    "        spikecolor=\"#999999\",\n",
    "        spikemode=\"across\",\n",
    "        showgrid=False,\n",
    "        fixedrange = True\n",
    "    ),\n",
    "    yaxis = dict(\n",
    "        title=\"student FTE per staff FTE\",\n",
    "        linecolor=\"#BCCCDC\",\n",
    "        showgrid=False,\n",
    "        fixedrange = True,\n",
    "        range=[0,15]\n",
    "    )\n",
    ")\n",
    "\n",
    "fig_ratio.update_layout(\n",
    "    autosize=False,\n",
    "    width=608,\n",
    "    height=508,\n",
    "    margin=dict(l=20, r=20, t=20, b=20))\n",
    "\n",
    "fig_ratio.update_layout(legend = dict(\n",
    "    orientation = \"h\",\n",
    "    x=0,\n",
    "    y=1,\n",
    "    bgcolor=\"#FAFDF1\")\n",
    ")\n",
    "\n",
    "fig_ratio.update_layout(\n",
    "    title=dict(text=\"<b>Title</b>\", font=dict(size=24), automargin=True, yref='paper')\n",
    ")\n",
    "\n",
    "fig_ratio.update_layout(\n",
    "    title_font_family=\"Georgia\",\n",
    "    title_font_color=\"#3a3940\",\n",
    "    title_font_size = 22\n",
    ")\n",
    "\n",
    "\n",
    "fig_ratio = fig_ratio.update_xaxes(tickangle=45)\n",
    "fig_ratio.update_layout(hoverlabel_namelength=-1)\n",
    "\n",
    "fig_ratio.update_layout(\n",
    "    updatemenus=[\n",
    "        dict(\n",
    "            type=\"buttons\",\n",
    "            direction=\"right\",\n",
    "            active=0,\n",
    "            x=1,\n",
    "            y=1.15,\n",
    "            buttons=list([\n",
    "                dict(label=\"Total\",\n",
    "                     method=\"update\",\n",
    "                     args=[{\"visible\": [True, False, False, True]}]),\n",
    "                dict(label=\"Staff Type\",\n",
    "                     method=\"update\",\n",
    "                     args=[{\"visible\": [True, True, True, True]}])\n",
    "            ]),\n",
    "        )\n",
    "    ])\n",
    "\n",
    "fig_ratio.show()"
   ]
  },
  {
   "cell_type": "code",
   "execution_count": null,
   "metadata": {},
   "outputs": [],
   "source": []
  },
  {
   "cell_type": "code",
   "execution_count": 283,
   "metadata": {},
   "outputs": [
    {
     "ename": "SyntaxError",
     "evalue": "unmatched ')' (1875790998.py, line 7)",
     "output_type": "error",
     "traceback": [
      "\u001b[0;36m  File \u001b[0;32m\"/var/folders/5l/g6jpvcjs5mddr5zrcyyl0y4w0000gn/T/ipykernel_29775/1875790998.py\"\u001b[0;36m, line \u001b[0;32m7\u001b[0m\n\u001b[0;31m    )\u001b[0m\n\u001b[0m    ^\u001b[0m\n\u001b[0;31mSyntaxError\u001b[0m\u001b[0;31m:\u001b[0m unmatched ')'\n"
     ]
    }
   ],
   "source": [
    "#custom_palette = ['#4d4d4d','#1f78b4','#b2df8a','#a6cee3']\n",
    "\n",
    "#yale_percent_change = sns.relplot(\n",
    "    #data=yale_fte_pct_change_by_type, x='year', y='fte pct change',\n",
    "    #hue='type', legend='brief',\n",
    "    #kind=\"line\",palette=custom_palette,\n",
    ")\n",
    "\n",
    "#axes = yale_percent_change.axes.flatten()\n",
    "#axes[0].set_title(\"Percent change student enrollment and all staff\")\n",
    "#axes[1].set_title(\"Percent change staff: instructional vs. non instructional\")\n",
    "\n",
    "\n",
    "#yale_percent_change.set_xticklabels(rotation=45)\n",
    "\n",
    "#yale_percent_change._legend.set_title(\"\")\n",
    "\n",
    "\n",
    "#for ax in axes:\n",
    "    #ax.axhline(0, ls='--', linewidth=3, color='grey')\n",
    "\n",
    "#plt.show()"
   ]
  },
  {
   "cell_type": "code",
   "execution_count": null,
   "metadata": {},
   "outputs": [
    {
     "data": {
      "image/png": "[encoded data removed]",
      "text/plain": [
       "<Figure size 640x480 with 1 Axes>"
      ]
     },
     "metadata": {},
     "output_type": "display_data"
    }
   ],
   "source": [
    "sns.set_theme(style=\"ticks\")\n",
    "custom_palette = ['#4d4d4d','#1f78b4','#b2df8a','#a6cee3']\n",
    "              \n",
    "yale_percent_change_cumul = sns.lineplot(x='year',y='fte pct change cumulative', hue ='type', data=yale_fte_pct_change_by_type, legend='brief', palette=custom_palette)\n",
    "\n",
    "plt.ylabel('cumulative percent change')\n",
    "plt.xticks(rotation=30)\n",
    "plt.autoscale(enable=True, axis='x', tight=True)\n",
    "plt.legend(['student fte','all staff fte','instructional staff','non instructional staff'])\n",
    "plt.title('Yale cumulative percent change in enrollment fte and staff fte: Fall 2002 - Spring 2022 ')\n",
    "plt.show()"
   ]
  },
  {
   "cell_type": "code",
   "execution_count": null,
   "metadata": {},
   "outputs": [],
   "source": []
  },
  {
   "cell_type": "markdown",
   "metadata": {},
   "source": []
  }
 ],
 "metadata": {
  "kernelspec": {
   "display_name": "base",
   "language": "python",
   "name": "python3"
  },
  "language_info": {
   "codemirror_mode": {
    "name": "ipython",
    "version": 3
   },
   "file_extension": ".py",
   "mimetype": "text/x-python",
   "name": "python",
   "nbconvert_exporter": "python",
   "pygments_lexer": "ipython3",
   "version": "3.9.13"
  },
  "orig_nbformat": 4,
  "vscode": {
   "interpreter": {
    "hash": "9dd7835cf79d332e0e7c31860f1fee823950df8576796889ad874abd22023efa"
   }
  }
 },
 "nbformat": 4,
 "nbformat_minor": 2
}
